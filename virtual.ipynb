{
 "cells": [
  {
   "cell_type": "code",
   "execution_count": 7,
   "metadata": {},
   "outputs": [],
   "source": [
    "import warnings\n",
    "warnings.filterwarnings('ignore')\n",
    "\n",
    "import pandas as pd\n",
    "import numpy as np\n",
    "import matplotlib.pyplot as plt\n",
    "import seaborn as sns\n",
    "\n",
    "from sklearn.preprocessing import LabelEncoder, StandardScaler\n",
    "from sklearn.model_selection import train_test_split, RandomizedSearchCV, cross_val_score\n",
    "from sklearn.linear_model import LogisticRegression, RidgeClassifier, SGDClassifier\n",
    "from sklearn.tree import DecisionTreeClassifier\n",
    "from sklearn.ensemble import RandomForestClassifier, ExtraTreesClassifier, AdaBoostClassifier, GradientBoostingClassifier\n",
    "from sklearn.neighbors import KNeighborsClassifier\n",
    "from sklearn.svm import SVC\n",
    "from sklearn.naive_bayes import GaussianNB\n",
    "\n",
    "from sklearn.metrics import accuracy_score, confusion_matrix\n",
    "\n",
    "# import tensorflow as tf\n",
    "# from tensorflow.keras.layers import Dense, Dropout\n",
    "# from tensorflow.keras.models import Sequential\n",
    "# from tensorflow.keras.callbacks import EarlyStopping\n",
    "\n",
    "pd.set_option('display.max_columns', None)"
   ]
  },
  {
   "cell_type": "code",
   "execution_count": 8,
   "metadata": {},
   "outputs": [
    {
     "name": "stdout",
     "output_type": "stream",
     "text": [
      "(614, 13)\n",
      "(367, 12)\n"
     ]
    }
   ],
   "source": [
    "train = pd.read_csv('/home/athira/Desktop/dsa/virtual/train_ctrUa4K.csv')\n",
    "test = pd.read_csv('/home/athira/Desktop/dsa/virtual/test_lAUu6dG.csv')\n",
    "print(train.shape)\n",
    "print(test.shape)"
   ]
  },
  {
   "cell_type": "code",
   "execution_count": 9,
   "metadata": {},
   "outputs": [
    {
     "data": {
      "text/html": [
       "<div>\n",
       "<style scoped>\n",
       "    .dataframe tbody tr th:only-of-type {\n",
       "        vertical-align: middle;\n",
       "    }\n",
       "\n",
       "    .dataframe tbody tr th {\n",
       "        vertical-align: top;\n",
       "    }\n",
       "\n",
       "    .dataframe thead th {\n",
       "        text-align: right;\n",
       "    }\n",
       "</style>\n",
       "<table border=\"1\" class=\"dataframe\">\n",
       "  <thead>\n",
       "    <tr style=\"text-align: right;\">\n",
       "      <th></th>\n",
       "      <th>Loan_ID</th>\n",
       "      <th>Gender</th>\n",
       "      <th>Married</th>\n",
       "      <th>Dependents</th>\n",
       "      <th>Education</th>\n",
       "      <th>Self_Employed</th>\n",
       "      <th>ApplicantIncome</th>\n",
       "      <th>CoapplicantIncome</th>\n",
       "      <th>LoanAmount</th>\n",
       "      <th>Loan_Amount_Term</th>\n",
       "      <th>Credit_History</th>\n",
       "      <th>Property_Area</th>\n",
       "      <th>Loan_Status</th>\n",
       "    </tr>\n",
       "  </thead>\n",
       "  <tbody>\n",
       "    <tr>\n",
       "      <th>0</th>\n",
       "      <td>LP001002</td>\n",
       "      <td>Male</td>\n",
       "      <td>No</td>\n",
       "      <td>0</td>\n",
       "      <td>Graduate</td>\n",
       "      <td>No</td>\n",
       "      <td>5849</td>\n",
       "      <td>0.0</td>\n",
       "      <td>NaN</td>\n",
       "      <td>360.0</td>\n",
       "      <td>1.0</td>\n",
       "      <td>Urban</td>\n",
       "      <td>Y</td>\n",
       "    </tr>\n",
       "    <tr>\n",
       "      <th>1</th>\n",
       "      <td>LP001003</td>\n",
       "      <td>Male</td>\n",
       "      <td>Yes</td>\n",
       "      <td>1</td>\n",
       "      <td>Graduate</td>\n",
       "      <td>No</td>\n",
       "      <td>4583</td>\n",
       "      <td>1508.0</td>\n",
       "      <td>128.0</td>\n",
       "      <td>360.0</td>\n",
       "      <td>1.0</td>\n",
       "      <td>Rural</td>\n",
       "      <td>N</td>\n",
       "    </tr>\n",
       "    <tr>\n",
       "      <th>2</th>\n",
       "      <td>LP001005</td>\n",
       "      <td>Male</td>\n",
       "      <td>Yes</td>\n",
       "      <td>0</td>\n",
       "      <td>Graduate</td>\n",
       "      <td>Yes</td>\n",
       "      <td>3000</td>\n",
       "      <td>0.0</td>\n",
       "      <td>66.0</td>\n",
       "      <td>360.0</td>\n",
       "      <td>1.0</td>\n",
       "      <td>Urban</td>\n",
       "      <td>Y</td>\n",
       "    </tr>\n",
       "    <tr>\n",
       "      <th>3</th>\n",
       "      <td>LP001006</td>\n",
       "      <td>Male</td>\n",
       "      <td>Yes</td>\n",
       "      <td>0</td>\n",
       "      <td>Not Graduate</td>\n",
       "      <td>No</td>\n",
       "      <td>2583</td>\n",
       "      <td>2358.0</td>\n",
       "      <td>120.0</td>\n",
       "      <td>360.0</td>\n",
       "      <td>1.0</td>\n",
       "      <td>Urban</td>\n",
       "      <td>Y</td>\n",
       "    </tr>\n",
       "    <tr>\n",
       "      <th>4</th>\n",
       "      <td>LP001008</td>\n",
       "      <td>Male</td>\n",
       "      <td>No</td>\n",
       "      <td>0</td>\n",
       "      <td>Graduate</td>\n",
       "      <td>No</td>\n",
       "      <td>6000</td>\n",
       "      <td>0.0</td>\n",
       "      <td>141.0</td>\n",
       "      <td>360.0</td>\n",
       "      <td>1.0</td>\n",
       "      <td>Urban</td>\n",
       "      <td>Y</td>\n",
       "    </tr>\n",
       "  </tbody>\n",
       "</table>\n",
       "</div>"
      ],
      "text/plain": [
       "    Loan_ID Gender Married Dependents     Education Self_Employed  \\\n",
       "0  LP001002   Male      No          0      Graduate            No   \n",
       "1  LP001003   Male     Yes          1      Graduate            No   \n",
       "2  LP001005   Male     Yes          0      Graduate           Yes   \n",
       "3  LP001006   Male     Yes          0  Not Graduate            No   \n",
       "4  LP001008   Male      No          0      Graduate            No   \n",
       "\n",
       "   ApplicantIncome  CoapplicantIncome  LoanAmount  Loan_Amount_Term  \\\n",
       "0             5849                0.0         NaN             360.0   \n",
       "1             4583             1508.0       128.0             360.0   \n",
       "2             3000                0.0        66.0             360.0   \n",
       "3             2583             2358.0       120.0             360.0   \n",
       "4             6000                0.0       141.0             360.0   \n",
       "\n",
       "   Credit_History Property_Area Loan_Status  \n",
       "0             1.0         Urban           Y  \n",
       "1             1.0         Rural           N  \n",
       "2             1.0         Urban           Y  \n",
       "3             1.0         Urban           Y  \n",
       "4             1.0         Urban           Y  "
      ]
     },
     "execution_count": 9,
     "metadata": {},
     "output_type": "execute_result"
    }
   ],
   "source": [
    "train.head()\n"
   ]
  },
  {
   "cell_type": "code",
   "execution_count": 10,
   "metadata": {},
   "outputs": [
    {
     "data": {
      "text/html": [
       "<div>\n",
       "<style scoped>\n",
       "    .dataframe tbody tr th:only-of-type {\n",
       "        vertical-align: middle;\n",
       "    }\n",
       "\n",
       "    .dataframe tbody tr th {\n",
       "        vertical-align: top;\n",
       "    }\n",
       "\n",
       "    .dataframe thead th {\n",
       "        text-align: right;\n",
       "    }\n",
       "</style>\n",
       "<table border=\"1\" class=\"dataframe\">\n",
       "  <thead>\n",
       "    <tr style=\"text-align: right;\">\n",
       "      <th></th>\n",
       "      <th>ApplicantIncome</th>\n",
       "      <th>CoapplicantIncome</th>\n",
       "      <th>LoanAmount</th>\n",
       "      <th>Loan_Amount_Term</th>\n",
       "      <th>Credit_History</th>\n",
       "    </tr>\n",
       "  </thead>\n",
       "  <tbody>\n",
       "    <tr>\n",
       "      <th>count</th>\n",
       "      <td>614.000000</td>\n",
       "      <td>614.000000</td>\n",
       "      <td>592.000000</td>\n",
       "      <td>600.00000</td>\n",
       "      <td>564.000000</td>\n",
       "    </tr>\n",
       "    <tr>\n",
       "      <th>mean</th>\n",
       "      <td>5403.459283</td>\n",
       "      <td>1621.245798</td>\n",
       "      <td>146.412162</td>\n",
       "      <td>342.00000</td>\n",
       "      <td>0.842199</td>\n",
       "    </tr>\n",
       "    <tr>\n",
       "      <th>std</th>\n",
       "      <td>6109.041673</td>\n",
       "      <td>2926.248369</td>\n",
       "      <td>85.587325</td>\n",
       "      <td>65.12041</td>\n",
       "      <td>0.364878</td>\n",
       "    </tr>\n",
       "    <tr>\n",
       "      <th>min</th>\n",
       "      <td>150.000000</td>\n",
       "      <td>0.000000</td>\n",
       "      <td>9.000000</td>\n",
       "      <td>12.00000</td>\n",
       "      <td>0.000000</td>\n",
       "    </tr>\n",
       "    <tr>\n",
       "      <th>25%</th>\n",
       "      <td>2877.500000</td>\n",
       "      <td>0.000000</td>\n",
       "      <td>100.000000</td>\n",
       "      <td>360.00000</td>\n",
       "      <td>1.000000</td>\n",
       "    </tr>\n",
       "    <tr>\n",
       "      <th>50%</th>\n",
       "      <td>3812.500000</td>\n",
       "      <td>1188.500000</td>\n",
       "      <td>128.000000</td>\n",
       "      <td>360.00000</td>\n",
       "      <td>1.000000</td>\n",
       "    </tr>\n",
       "    <tr>\n",
       "      <th>75%</th>\n",
       "      <td>5795.000000</td>\n",
       "      <td>2297.250000</td>\n",
       "      <td>168.000000</td>\n",
       "      <td>360.00000</td>\n",
       "      <td>1.000000</td>\n",
       "    </tr>\n",
       "    <tr>\n",
       "      <th>max</th>\n",
       "      <td>81000.000000</td>\n",
       "      <td>41667.000000</td>\n",
       "      <td>700.000000</td>\n",
       "      <td>480.00000</td>\n",
       "      <td>1.000000</td>\n",
       "    </tr>\n",
       "  </tbody>\n",
       "</table>\n",
       "</div>"
      ],
      "text/plain": [
       "       ApplicantIncome  CoapplicantIncome  LoanAmount  Loan_Amount_Term  \\\n",
       "count       614.000000         614.000000  592.000000         600.00000   \n",
       "mean       5403.459283        1621.245798  146.412162         342.00000   \n",
       "std        6109.041673        2926.248369   85.587325          65.12041   \n",
       "min         150.000000           0.000000    9.000000          12.00000   \n",
       "25%        2877.500000           0.000000  100.000000         360.00000   \n",
       "50%        3812.500000        1188.500000  128.000000         360.00000   \n",
       "75%        5795.000000        2297.250000  168.000000         360.00000   \n",
       "max       81000.000000       41667.000000  700.000000         480.00000   \n",
       "\n",
       "       Credit_History  \n",
       "count      564.000000  \n",
       "mean         0.842199  \n",
       "std          0.364878  \n",
       "min          0.000000  \n",
       "25%          1.000000  \n",
       "50%          1.000000  \n",
       "75%          1.000000  \n",
       "max          1.000000  "
      ]
     },
     "execution_count": 10,
     "metadata": {},
     "output_type": "execute_result"
    }
   ],
   "source": [
    "train.describe()\n"
   ]
  },
  {
   "cell_type": "code",
   "execution_count": 11,
   "metadata": {},
   "outputs": [
    {
     "name": "stdout",
     "output_type": "stream",
     "text": [
      "<class 'pandas.core.frame.DataFrame'>\n",
      "RangeIndex: 614 entries, 0 to 613\n",
      "Data columns (total 13 columns):\n",
      " #   Column             Non-Null Count  Dtype  \n",
      "---  ------             --------------  -----  \n",
      " 0   Loan_ID            614 non-null    object \n",
      " 1   Gender             601 non-null    object \n",
      " 2   Married            611 non-null    object \n",
      " 3   Dependents         599 non-null    object \n",
      " 4   Education          614 non-null    object \n",
      " 5   Self_Employed      582 non-null    object \n",
      " 6   ApplicantIncome    614 non-null    int64  \n",
      " 7   CoapplicantIncome  614 non-null    float64\n",
      " 8   LoanAmount         592 non-null    float64\n",
      " 9   Loan_Amount_Term   600 non-null    float64\n",
      " 10  Credit_History     564 non-null    float64\n",
      " 11  Property_Area      614 non-null    object \n",
      " 12  Loan_Status        614 non-null    object \n",
      "dtypes: float64(4), int64(1), object(8)\n",
      "memory usage: 62.5+ KB\n"
     ]
    }
   ],
   "source": [
    "train.info()\n"
   ]
  },
  {
   "cell_type": "code",
   "execution_count": 12,
   "metadata": {},
   "outputs": [
    {
     "data": {
      "text/plain": [
       "<AxesSubplot:>"
      ]
     },
     "execution_count": 12,
     "metadata": {},
     "output_type": "execute_result"
    },
    {
     "data": {
      "image/png": "[encoded data removed]",
      "text/plain": [
       "<Figure size 1200x600 with 2 Axes>"
      ]
     },
     "metadata": {},
     "output_type": "display_data"
    }
   ],
   "source": [
    "plt.figure(figsize = (12,6))\n",
    "sns.heatmap(train.corr(), cmap='viridis', annot=True, fmt='.2f')"
   ]
  },
  {
   "cell_type": "code",
   "execution_count": null,
   "metadata": {},
   "outputs": [],
   "source": [
    "train['Loan_Status'] = train['Loan_Status'].map({'N' : 0, 'Y' : 1})\n"
   ]
  },
  {
   "cell_type": "code",
   "execution_count": 13,
   "metadata": {},
   "outputs": [
    {
     "ename": "KeyError",
     "evalue": "'Loan_Status'",
     "output_type": "error",
     "traceback": [
      "\u001b[0;31m---------------------------------------------------------------------------\u001b[0m",
      "\u001b[0;31mKeyError\u001b[0m                                  Traceback (most recent call last)",
      "File \u001b[0;32m~/.local/lib/python3.10/site-packages/pandas/core/indexes/base.py:3621\u001b[0m, in \u001b[0;36mIndex.get_loc\u001b[0;34m(self, key, method, tolerance)\u001b[0m\n\u001b[1;32m   3620\u001b[0m \u001b[39mtry\u001b[39;00m:\n\u001b[0;32m-> 3621\u001b[0m     \u001b[39mreturn\u001b[39;00m \u001b[39mself\u001b[39;49m\u001b[39m.\u001b[39;49m_engine\u001b[39m.\u001b[39;49mget_loc(casted_key)\n\u001b[1;32m   3622\u001b[0m \u001b[39mexcept\u001b[39;00m \u001b[39mKeyError\u001b[39;00m \u001b[39mas\u001b[39;00m err:\n",
      "File \u001b[0;32m~/.local/lib/python3.10/site-packages/pandas/_libs/index.pyx:136\u001b[0m, in \u001b[0;36mpandas._libs.index.IndexEngine.get_loc\u001b[0;34m()\u001b[0m\n",
      "File \u001b[0;32m~/.local/lib/python3.10/site-packages/pandas/_libs/index.pyx:163\u001b[0m, in \u001b[0;36mpandas._libs.index.IndexEngine.get_loc\u001b[0;34m()\u001b[0m\n",
      "File \u001b[0;32mpandas/_libs/hashtable_class_helper.pxi:5198\u001b[0m, in \u001b[0;36mpandas._libs.hashtable.PyObjectHashTable.get_item\u001b[0;34m()\u001b[0m\n",
      "File \u001b[0;32mpandas/_libs/hashtable_class_helper.pxi:5206\u001b[0m, in \u001b[0;36mpandas._libs.hashtable.PyObjectHashTable.get_item\u001b[0;34m()\u001b[0m\n",
      "\u001b[0;31mKeyError\u001b[0m: 'Loan_Status'",
      "\nThe above exception was the direct cause of the following exception:\n",
      "\u001b[0;31mKeyError\u001b[0m                                  Traceback (most recent call last)",
      "Cell \u001b[0;32mIn[13], line 2\u001b[0m\n\u001b[1;32m      1\u001b[0m plt\u001b[38;5;241m.\u001b[39mfigure(figsize \u001b[38;5;241m=\u001b[39m (\u001b[38;5;241m12\u001b[39m,\u001b[38;5;241m6\u001b[39m))\n\u001b[0;32m----> 2\u001b[0m \u001b[43mtrain\u001b[49m\u001b[38;5;241;43m.\u001b[39;49m\u001b[43mcorr\u001b[49m\u001b[43m(\u001b[49m\u001b[43m)\u001b[49m\u001b[43m[\u001b[49m\u001b[38;5;124;43m'\u001b[39;49m\u001b[38;5;124;43mLoan_Status\u001b[39;49m\u001b[38;5;124;43m'\u001b[39;49m\u001b[43m]\u001b[49m[:\u001b[38;5;241m-\u001b[39m\u001b[38;5;241m1\u001b[39m]\u001b[38;5;241m.\u001b[39msort_values()\u001b[38;5;241m.\u001b[39mplot(kind \u001b[38;5;241m=\u001b[39m \u001b[38;5;124m'\u001b[39m\u001b[38;5;124mbar\u001b[39m\u001b[38;5;124m'\u001b[39m, cmap \u001b[38;5;241m=\u001b[39m \u001b[38;5;124m'\u001b[39m\u001b[38;5;124mtwilight_shifted\u001b[39m\u001b[38;5;124m'\u001b[39m)\n",
      "File \u001b[0;32m~/.local/lib/python3.10/site-packages/pandas/core/frame.py:3505\u001b[0m, in \u001b[0;36mDataFrame.__getitem__\u001b[0;34m(self, key)\u001b[0m\n\u001b[1;32m   3503\u001b[0m \u001b[39mif\u001b[39;00m \u001b[39mself\u001b[39m\u001b[39m.\u001b[39mcolumns\u001b[39m.\u001b[39mnlevels \u001b[39m>\u001b[39m \u001b[39m1\u001b[39m:\n\u001b[1;32m   3504\u001b[0m     \u001b[39mreturn\u001b[39;00m \u001b[39mself\u001b[39m\u001b[39m.\u001b[39m_getitem_multilevel(key)\n\u001b[0;32m-> 3505\u001b[0m indexer \u001b[39m=\u001b[39m \u001b[39mself\u001b[39;49m\u001b[39m.\u001b[39;49mcolumns\u001b[39m.\u001b[39;49mget_loc(key)\n\u001b[1;32m   3506\u001b[0m \u001b[39mif\u001b[39;00m is_integer(indexer):\n\u001b[1;32m   3507\u001b[0m     indexer \u001b[39m=\u001b[39m [indexer]\n",
      "File \u001b[0;32m~/.local/lib/python3.10/site-packages/pandas/core/indexes/base.py:3623\u001b[0m, in \u001b[0;36mIndex.get_loc\u001b[0;34m(self, key, method, tolerance)\u001b[0m\n\u001b[1;32m   3621\u001b[0m     \u001b[39mreturn\u001b[39;00m \u001b[39mself\u001b[39m\u001b[39m.\u001b[39m_engine\u001b[39m.\u001b[39mget_loc(casted_key)\n\u001b[1;32m   3622\u001b[0m \u001b[39mexcept\u001b[39;00m \u001b[39mKeyError\u001b[39;00m \u001b[39mas\u001b[39;00m err:\n\u001b[0;32m-> 3623\u001b[0m     \u001b[39mraise\u001b[39;00m \u001b[39mKeyError\u001b[39;00m(key) \u001b[39mfrom\u001b[39;00m \u001b[39merr\u001b[39;00m\n\u001b[1;32m   3624\u001b[0m \u001b[39mexcept\u001b[39;00m \u001b[39mTypeError\u001b[39;00m:\n\u001b[1;32m   3625\u001b[0m     \u001b[39m# If we have a listlike key, _check_indexing_error will raise\u001b[39;00m\n\u001b[1;32m   3626\u001b[0m     \u001b[39m#  InvalidIndexError. Otherwise we fall through and re-raise\u001b[39;00m\n\u001b[1;32m   3627\u001b[0m     \u001b[39m#  the TypeError.\u001b[39;00m\n\u001b[1;32m   3628\u001b[0m     \u001b[39mself\u001b[39m\u001b[39m.\u001b[39m_check_indexing_error(key)\n",
      "\u001b[0;31mKeyError\u001b[0m: 'Loan_Status'"
     ]
    },
    {
     "data": {
      "text/plain": [
       "<Figure size 1200x600 with 0 Axes>"
      ]
     },
     "metadata": {},
     "output_type": "display_data"
    }
   ],
   "source": [
    "plt.figure(figsize = (12,6))\n",
    "train.corr()['Loan_Status'][:-1].sort_values().plot(kind = 'bar', cmap = 'twilight_shifted')\n"
   ]
  },
  {
   "cell_type": "code",
   "execution_count": 14,
   "metadata": {},
   "outputs": [
    {
     "ename": "ValueError",
     "evalue": "could not convert string to float: 'Male'",
     "output_type": "error",
     "traceback": [
      "\u001b[0;31m---------------------------------------------------------------------------\u001b[0m",
      "\u001b[0;31mValueError\u001b[0m                                Traceback (most recent call last)",
      "Cell \u001b[0;32mIn[14], line 2\u001b[0m\n\u001b[1;32m      1\u001b[0m fig, ax \u001b[38;5;241m=\u001b[39m plt\u001b[38;5;241m.\u001b[39msubplots(\u001b[38;5;241m3\u001b[39m, \u001b[38;5;241m2\u001b[39m, figsize \u001b[38;5;241m=\u001b[39m (\u001b[38;5;241m15\u001b[39m,\u001b[38;5;241m16\u001b[39m))\n\u001b[0;32m----> 2\u001b[0m _\u001b[38;5;241m=\u001b[39m\u001b[43msns\u001b[49m\u001b[38;5;241;43m.\u001b[39;49m\u001b[43mcountplot\u001b[49m\u001b[43m(\u001b[49m\u001b[43mtrain\u001b[49m\u001b[43m[\u001b[49m\u001b[38;5;124;43m'\u001b[39;49m\u001b[38;5;124;43mGender\u001b[39;49m\u001b[38;5;124;43m'\u001b[39;49m\u001b[43m]\u001b[49m\u001b[43m,\u001b[49m\u001b[43m \u001b[49m\u001b[43max\u001b[49m\u001b[38;5;241;43m=\u001b[39;49m\u001b[43max\u001b[49m\u001b[43m[\u001b[49m\u001b[38;5;241;43m0\u001b[39;49m\u001b[43m,\u001b[49m\u001b[38;5;241;43m0\u001b[39;49m\u001b[43m]\u001b[49m\u001b[43m,\u001b[49m\u001b[43m \u001b[49m\u001b[43mpalette\u001b[49m\u001b[38;5;241;43m=\u001b[39;49m\u001b[38;5;124;43m'\u001b[39;49m\u001b[38;5;124;43mSet2\u001b[39;49m\u001b[38;5;124;43m'\u001b[39;49m\u001b[43m)\u001b[49m\n\u001b[1;32m      3\u001b[0m _\u001b[38;5;241m=\u001b[39msns\u001b[38;5;241m.\u001b[39mcountplot(train[\u001b[38;5;124m'\u001b[39m\u001b[38;5;124mMarried\u001b[39m\u001b[38;5;124m'\u001b[39m], ax\u001b[38;5;241m=\u001b[39max[\u001b[38;5;241m0\u001b[39m,\u001b[38;5;241m1\u001b[39m], palette\u001b[38;5;241m=\u001b[39m\u001b[38;5;124m'\u001b[39m\u001b[38;5;124mSet2\u001b[39m\u001b[38;5;124m'\u001b[39m)\n\u001b[1;32m      4\u001b[0m _\u001b[38;5;241m=\u001b[39msns\u001b[38;5;241m.\u001b[39mcountplot(train[\u001b[38;5;124m'\u001b[39m\u001b[38;5;124mDependents\u001b[39m\u001b[38;5;124m'\u001b[39m], ax\u001b[38;5;241m=\u001b[39max[\u001b[38;5;241m1\u001b[39m,\u001b[38;5;241m0\u001b[39m], palette\u001b[38;5;241m=\u001b[39m\u001b[38;5;124m'\u001b[39m\u001b[38;5;124mSet2\u001b[39m\u001b[38;5;124m'\u001b[39m)\n",
      "File \u001b[0;32m~/.local/lib/python3.10/site-packages/seaborn/categorical.py:2943\u001b[0m, in \u001b[0;36mcountplot\u001b[0;34m(data, x, y, hue, order, hue_order, orient, color, palette, saturation, width, dodge, ax, **kwargs)\u001b[0m\n\u001b[1;32m   2940\u001b[0m \u001b[39melif\u001b[39;00m x \u001b[39mis\u001b[39;00m \u001b[39mnot\u001b[39;00m \u001b[39mNone\u001b[39;00m \u001b[39mand\u001b[39;00m y \u001b[39mis\u001b[39;00m \u001b[39mnot\u001b[39;00m \u001b[39mNone\u001b[39;00m:\n\u001b[1;32m   2941\u001b[0m     \u001b[39mraise\u001b[39;00m \u001b[39mValueError\u001b[39;00m(\u001b[39m\"\u001b[39m\u001b[39mCannot pass values for both `x` and `y`\u001b[39m\u001b[39m\"\u001b[39m)\n\u001b[0;32m-> 2943\u001b[0m plotter \u001b[39m=\u001b[39m _CountPlotter(\n\u001b[1;32m   2944\u001b[0m     x, y, hue, data, order, hue_order,\n\u001b[1;32m   2945\u001b[0m     estimator, errorbar, n_boot, units, seed,\n\u001b[1;32m   2946\u001b[0m     orient, color, palette, saturation,\n\u001b[1;32m   2947\u001b[0m     width, errcolor, errwidth, capsize, dodge\n\u001b[1;32m   2948\u001b[0m )\n\u001b[1;32m   2950\u001b[0m plotter\u001b[39m.\u001b[39mvalue_label \u001b[39m=\u001b[39m \u001b[39m\"\u001b[39m\u001b[39mcount\u001b[39m\u001b[39m\"\u001b[39m\n\u001b[1;32m   2952\u001b[0m \u001b[39mif\u001b[39;00m ax \u001b[39mis\u001b[39;00m \u001b[39mNone\u001b[39;00m:\n",
      "File \u001b[0;32m~/.local/lib/python3.10/site-packages/seaborn/categorical.py:1530\u001b[0m, in \u001b[0;36m_BarPlotter.__init__\u001b[0;34m(self, x, y, hue, data, order, hue_order, estimator, errorbar, n_boot, units, seed, orient, color, palette, saturation, width, errcolor, errwidth, capsize, dodge)\u001b[0m\n\u001b[1;32m   1525\u001b[0m \u001b[39mdef\u001b[39;00m \u001b[39m__init__\u001b[39m(\u001b[39mself\u001b[39m, x, y, hue, data, order, hue_order,\n\u001b[1;32m   1526\u001b[0m              estimator, errorbar, n_boot, units, seed,\n\u001b[1;32m   1527\u001b[0m              orient, color, palette, saturation, width,\n\u001b[1;32m   1528\u001b[0m              errcolor, errwidth, capsize, dodge):\n\u001b[1;32m   1529\u001b[0m \u001b[39m    \u001b[39m\u001b[39m\"\"\"Initialize the plotter.\"\"\"\u001b[39;00m\n\u001b[0;32m-> 1530\u001b[0m     \u001b[39mself\u001b[39;49m\u001b[39m.\u001b[39;49mestablish_variables(x, y, hue, data, orient,\n\u001b[1;32m   1531\u001b[0m                              order, hue_order, units)\n\u001b[1;32m   1532\u001b[0m     \u001b[39mself\u001b[39m\u001b[39m.\u001b[39mestablish_colors(color, palette, saturation)\n\u001b[1;32m   1533\u001b[0m     \u001b[39mself\u001b[39m\u001b[39m.\u001b[39mestimate_statistic(estimator, errorbar, n_boot, seed)\n",
      "File \u001b[0;32m~/.local/lib/python3.10/site-packages/seaborn/categorical.py:516\u001b[0m, in \u001b[0;36m_CategoricalPlotter.establish_variables\u001b[0;34m(self, x, y, hue, data, orient, order, hue_order, units)\u001b[0m\n\u001b[1;32m    513\u001b[0m     plot_data \u001b[39m=\u001b[39m data\n\u001b[1;32m    515\u001b[0m \u001b[39m# Convert to a list of arrays, the common representation\u001b[39;00m\n\u001b[0;32m--> 516\u001b[0m plot_data \u001b[39m=\u001b[39m [np\u001b[39m.\u001b[39masarray(d, \u001b[39mfloat\u001b[39m) \u001b[39mfor\u001b[39;00m d \u001b[39min\u001b[39;00m plot_data]\n\u001b[1;32m    518\u001b[0m \u001b[39m# The group names will just be numeric indices\u001b[39;00m\n\u001b[1;32m    519\u001b[0m group_names \u001b[39m=\u001b[39m \u001b[39mlist\u001b[39m(\u001b[39mrange\u001b[39m(\u001b[39mlen\u001b[39m(plot_data)))\n",
      "File \u001b[0;32m~/.local/lib/python3.10/site-packages/seaborn/categorical.py:516\u001b[0m, in \u001b[0;36m<listcomp>\u001b[0;34m(.0)\u001b[0m\n\u001b[1;32m    513\u001b[0m     plot_data \u001b[39m=\u001b[39m data\n\u001b[1;32m    515\u001b[0m \u001b[39m# Convert to a list of arrays, the common representation\u001b[39;00m\n\u001b[0;32m--> 516\u001b[0m plot_data \u001b[39m=\u001b[39m [np\u001b[39m.\u001b[39;49masarray(d, \u001b[39mfloat\u001b[39;49m) \u001b[39mfor\u001b[39;00m d \u001b[39min\u001b[39;00m plot_data]\n\u001b[1;32m    518\u001b[0m \u001b[39m# The group names will just be numeric indices\u001b[39;00m\n\u001b[1;32m    519\u001b[0m group_names \u001b[39m=\u001b[39m \u001b[39mlist\u001b[39m(\u001b[39mrange\u001b[39m(\u001b[39mlen\u001b[39m(plot_data)))\n",
      "File \u001b[0;32m~/.local/lib/python3.10/site-packages/pandas/core/series.py:872\u001b[0m, in \u001b[0;36mSeries.__array__\u001b[0;34m(self, dtype)\u001b[0m\n\u001b[1;32m    825\u001b[0m \u001b[39mdef\u001b[39;00m \u001b[39m__array__\u001b[39m(\u001b[39mself\u001b[39m, dtype: npt\u001b[39m.\u001b[39mDTypeLike \u001b[39m|\u001b[39m \u001b[39mNone\u001b[39;00m \u001b[39m=\u001b[39m \u001b[39mNone\u001b[39;00m) \u001b[39m-\u001b[39m\u001b[39m>\u001b[39m np\u001b[39m.\u001b[39mndarray:\n\u001b[1;32m    826\u001b[0m \u001b[39m    \u001b[39m\u001b[39m\"\"\"\u001b[39;00m\n\u001b[1;32m    827\u001b[0m \u001b[39m    Return the values as a NumPy array.\u001b[39;00m\n\u001b[1;32m    828\u001b[0m \n\u001b[0;32m   (...)\u001b[0m\n\u001b[1;32m    870\u001b[0m \u001b[39m          dtype='datetime64[ns]')\u001b[39;00m\n\u001b[1;32m    871\u001b[0m \u001b[39m    \"\"\"\u001b[39;00m\n\u001b[0;32m--> 872\u001b[0m     \u001b[39mreturn\u001b[39;00m np\u001b[39m.\u001b[39;49masarray(\u001b[39mself\u001b[39;49m\u001b[39m.\u001b[39;49m_values, dtype)\n",
      "\u001b[0;31mValueError\u001b[0m: could not convert string to float: 'Male'"
     ]
    },
    {
     "data": {
      "image/png": "[encoded data removed]",
      "text/plain": [
       "<Figure size 1500x1600 with 6 Axes>"
      ]
     },
     "metadata": {},
     "output_type": "display_data"
    }
   ],
   "source": [
    "fig, ax = plt.subplots(3, 2, figsize = (15,16))\n",
    "_=sns.countplot(train['Gender'], ax=ax[0,0], palette='Set2')\n",
    "_=sns.countplot(train['Married'], ax=ax[0,1], palette='Set2')\n",
    "_=sns.countplot(train['Dependents'], ax=ax[1,0], palette='Set2')\n",
    "_=sns.countplot(train['Education'], ax=ax[1,1], palette='Set2')\n",
    "_=sns.countplot(train['Self_Employed'], ax=ax[2,0], palette='Set2')\n",
    "_=sns.countplot(train['Property_Area'], ax=ax[2,1], palette='Set2')"
   ]
  },
  {
   "cell_type": "code",
   "execution_count": 16,
   "metadata": {},
   "outputs": [
    {
     "data": {
      "image/png": "[encoded data removed]",
      "text/plain": [
       "<Figure size 700x700 with 1 Axes>"
      ]
     },
     "metadata": {},
     "output_type": "display_data"
    }
   ],
   "source": [
    "size = train['Married'].value_counts()\n",
    "labels = ['Yes', 'No']\n",
    "color = ['yellow', 'orange']\n",
    "explode = [0.01, 0.01]\n",
    "\n",
    "plt.figure(figsize = (7,7))\n",
    "plt.pie(size, labels=labels, colors=color, explode=explode, autopct='%.2f%%', shadow = True)\n",
    "plt.show()"
   ]
  },
  {
   "cell_type": "code",
   "execution_count": 19,
   "metadata": {},
   "outputs": [
    {
     "data": {
      "text/html": [
       "<div>\n",
       "<style scoped>\n",
       "    .dataframe tbody tr th:only-of-type {\n",
       "        vertical-align: middle;\n",
       "    }\n",
       "\n",
       "    .dataframe tbody tr th {\n",
       "        vertical-align: top;\n",
       "    }\n",
       "\n",
       "    .dataframe thead th {\n",
       "        text-align: right;\n",
       "    }\n",
       "</style>\n",
       "<table border=\"1\" class=\"dataframe\">\n",
       "  <thead>\n",
       "    <tr style=\"text-align: right;\">\n",
       "      <th></th>\n",
       "      <th>LoanAmount</th>\n",
       "    </tr>\n",
       "    <tr>\n",
       "      <th>Gender</th>\n",
       "      <th></th>\n",
       "    </tr>\n",
       "  </thead>\n",
       "  <tbody>\n",
       "    <tr>\n",
       "      <th>Female</th>\n",
       "      <td>126.697248</td>\n",
       "    </tr>\n",
       "    <tr>\n",
       "      <th>Male</th>\n",
       "      <td>149.265957</td>\n",
       "    </tr>\n",
       "  </tbody>\n",
       "</table>\n",
       "</div>"
      ],
      "text/plain": [
       "        LoanAmount\n",
       "Gender            \n",
       "Female  126.697248\n",
       "Male    149.265957"
      ]
     },
     "execution_count": 19,
     "metadata": {},
     "output_type": "execute_result"
    }
   ],
   "source": [
    "gender = train[['Gender', 'LoanAmount']].groupby(\"Gender\").mean()\n",
    "gender = pd.DataFrame(gender)\n",
    "gender"
   ]
  },
  {
   "cell_type": "code",
   "execution_count": 20,
   "metadata": {},
   "outputs": [
    {
     "data": {
      "text/html": [
       "<div>\n",
       "<style scoped>\n",
       "    .dataframe tbody tr th:only-of-type {\n",
       "        vertical-align: middle;\n",
       "    }\n",
       "\n",
       "    .dataframe tbody tr th {\n",
       "        vertical-align: top;\n",
       "    }\n",
       "\n",
       "    .dataframe thead th {\n",
       "        text-align: right;\n",
       "    }\n",
       "</style>\n",
       "<table border=\"1\" class=\"dataframe\">\n",
       "  <thead>\n",
       "    <tr style=\"text-align: right;\">\n",
       "      <th></th>\n",
       "      <th>LoanAmount</th>\n",
       "    </tr>\n",
       "    <tr>\n",
       "      <th>Education</th>\n",
       "      <th></th>\n",
       "    </tr>\n",
       "  </thead>\n",
       "  <tbody>\n",
       "    <tr>\n",
       "      <th>Graduate</th>\n",
       "      <td>154.060215</td>\n",
       "    </tr>\n",
       "    <tr>\n",
       "      <th>Not Graduate</th>\n",
       "      <td>118.409449</td>\n",
       "    </tr>\n",
       "  </tbody>\n",
       "</table>\n",
       "</div>"
      ],
      "text/plain": [
       "              LoanAmount\n",
       "Education               \n",
       "Graduate      154.060215\n",
       "Not Graduate  118.409449"
      ]
     },
     "execution_count": 20,
     "metadata": {},
     "output_type": "execute_result"
    }
   ],
   "source": [
    "Education = train[['Education', 'LoanAmount']].groupby(\"Education\").mean()\n",
    "Education = pd.DataFrame(Education)\n",
    "Education\n"
   ]
  },
  {
   "cell_type": "code",
   "execution_count": 21,
   "metadata": {},
   "outputs": [
    {
     "data": {
      "text/plain": [
       "Loan_ID               0\n",
       "Gender               13\n",
       "Married               3\n",
       "Dependents           15\n",
       "Education             0\n",
       "Self_Employed        32\n",
       "ApplicantIncome       0\n",
       "CoapplicantIncome     0\n",
       "LoanAmount           22\n",
       "Loan_Amount_Term     14\n",
       "Credit_History       50\n",
       "Property_Area         0\n",
       "Loan_Status           0\n",
       "dtype: int64"
      ]
     },
     "execution_count": 21,
     "metadata": {},
     "output_type": "execute_result"
    }
   ],
   "source": [
    "train.isnull().sum()\n"
   ]
  },
  {
   "cell_type": "code",
   "execution_count": 22,
   "metadata": {},
   "outputs": [],
   "source": [
    "train['Loan_ID'] = train['Loan_ID'].str.replace('LP00', '')\n",
    "test['Loan_ID'] = test['Loan_ID'].str.replace('LP00', '')"
   ]
  },
  {
   "cell_type": "code",
   "execution_count": 23,
   "metadata": {},
   "outputs": [
    {
     "data": {
      "text/plain": [
       "Male      489\n",
       "Female    112\n",
       "Name: Gender, dtype: int64"
      ]
     },
     "execution_count": 23,
     "metadata": {},
     "output_type": "execute_result"
    }
   ],
   "source": [
    "train['Gender'].value_counts()\n"
   ]
  },
  {
   "cell_type": "code",
   "execution_count": 24,
   "metadata": {},
   "outputs": [
    {
     "data": {
      "text/plain": [
       "Yes    398\n",
       "No     213\n",
       "Name: Married, dtype: int64"
      ]
     },
     "execution_count": 24,
     "metadata": {},
     "output_type": "execute_result"
    }
   ],
   "source": [
    "train['Married'].value_counts()\n"
   ]
  },
  {
   "cell_type": "code",
   "execution_count": 25,
   "metadata": {},
   "outputs": [
    {
     "data": {
      "text/plain": [
       "0     345\n",
       "1     102\n",
       "2     101\n",
       "3+     51\n",
       "Name: Dependents, dtype: int64"
      ]
     },
     "execution_count": 25,
     "metadata": {},
     "output_type": "execute_result"
    }
   ],
   "source": [
    "train['Dependents'].value_counts()\n"
   ]
  },
  {
   "cell_type": "code",
   "execution_count": 26,
   "metadata": {},
   "outputs": [
    {
     "data": {
      "text/plain": [
       "Graduate        480\n",
       "Not Graduate    134\n",
       "Name: Education, dtype: int64"
      ]
     },
     "execution_count": 26,
     "metadata": {},
     "output_type": "execute_result"
    }
   ],
   "source": [
    "train['Education'].value_counts()\n"
   ]
  },
  {
   "cell_type": "code",
   "execution_count": 27,
   "metadata": {},
   "outputs": [
    {
     "data": {
      "text/plain": [
       "No     500\n",
       "Yes     82\n",
       "Name: Self_Employed, dtype: int64"
      ]
     },
     "execution_count": 27,
     "metadata": {},
     "output_type": "execute_result"
    }
   ],
   "source": [
    "train['Self_Employed'].value_counts()\n"
   ]
  },
  {
   "cell_type": "code",
   "execution_count": 28,
   "metadata": {},
   "outputs": [],
   "source": [
    "train['Gender'] = train['Gender'].fillna('Male')\n",
    "train['Married'] = train['Married'].fillna('Yes')\n",
    "train['Dependents'] = train['Dependents'].fillna(train['Dependents'].mode()[0])\n",
    "train['Self_Employed'] = train['Self_Employed'].fillna('No')\n",
    "train['LoanAmount'] = train['LoanAmount'].fillna(train['LoanAmount'].mean())\n",
    "train['Loan_Amount_Term'] = train['Loan_Amount_Term'].fillna(train['Loan_Amount_Term'].mode()[0])\n",
    "train['Credit_History'] = train['Credit_History'].fillna(train['Credit_History'].mode()[0])\n"
   ]
  },
  {
   "cell_type": "code",
   "execution_count": 29,
   "metadata": {},
   "outputs": [],
   "source": [
    "test['Gender'] = test['Gender'].fillna('Male')\n",
    "test['Dependents'] = test['Dependents'].fillna(test['Dependents'].mode()[0])\n",
    "test['Self_Employed'] = test['Self_Employed'].fillna('No')\n",
    "test['LoanAmount'] = test['LoanAmount'].fillna(test['LoanAmount'].mean())\n",
    "test['Loan_Amount_Term'] = test['Loan_Amount_Term'].fillna(test['Loan_Amount_Term'].mode()[0])\n",
    "test['Credit_History'] = test['Credit_History'].fillna(test['Credit_History'].mode()[0])\n"
   ]
  },
  {
   "cell_type": "code",
   "execution_count": 30,
   "metadata": {},
   "outputs": [],
   "source": [
    "train['Loan_Amount_Term'] = train['Loan_Amount_Term'].astype('int64')\n",
    "test['Loan_Amount_Term'] = test['Loan_Amount_Term'].astype('int64')\n"
   ]
  },
  {
   "cell_type": "code",
   "execution_count": 31,
   "metadata": {},
   "outputs": [],
   "source": [
    "train['Dependents'] = train['Dependents'].str.rstrip('+')\n",
    "test['Dependents'] = test['Dependents'].str.rstrip('+')"
   ]
  },
  {
   "cell_type": "code",
   "execution_count": 32,
   "metadata": {},
   "outputs": [],
   "source": [
    "train['Dependents'] = train['Dependents'].astype('int64')\n",
    "test['Dependents'] = test['Dependents'].astype('int64')\n"
   ]
  },
  {
   "cell_type": "code",
   "execution_count": 33,
   "metadata": {},
   "outputs": [],
   "source": [
    "train['Gender'] = train['Gender'].map({'Male': 1, 'Female': 0})\n",
    "train['Married'] = train['Married'].map({'No' : 0, 'Yes': 1})\n",
    "train['Education'] = train['Education'].map({'Graduate' : 1, 'Not Graduate' : 0})\n",
    "train['Self_Employed'] = train['Self_Employed'].map({'No' : 0, 'Yes' : 1})"
   ]
  },
  {
   "cell_type": "code",
   "execution_count": 34,
   "metadata": {},
   "outputs": [],
   "source": [
    "test['Gender'] = test['Gender'].map({'Male': 1, 'Female': 0})\n",
    "test['Married'] = test['Married'].map({'No' : 0, 'Yes': 1})\n",
    "test['Education'] = test['Education'].map({'Graduate' : 1, 'Not Graduate' : 0})\n",
    "test['Self_Employed'] = test['Self_Employed'].map({'No' : 0, 'Yes' : 1})\n"
   ]
  },
  {
   "cell_type": "code",
   "execution_count": 35,
   "metadata": {},
   "outputs": [],
   "source": [
    "property_area = pd.get_dummies(train['Property_Area'], prefix='Property_Area')\n",
    "train = pd.concat([train, property_area], axis = 1)\n",
    "train = train.drop('Property_Area', axis = 1)\n",
    "\n",
    "property_area = pd.get_dummies(test['Property_Area'], prefix='Property_Area')\n",
    "test = pd.concat([test, property_area], axis = 1)\n",
    "test = test.drop('Property_Area', axis = 1)"
   ]
  },
  {
   "cell_type": "code",
   "execution_count": 36,
   "metadata": {},
   "outputs": [],
   "source": [
    "scaler = StandardScaler()\n",
    "\n",
    "train['Loan_ID'] = scaler.fit_transform(train['Loan_ID'].values.reshape(-1, 1))\n",
    "test['Loan_ID'] = scaler.transform(test['Loan_ID'].values.reshape(-1, 1))\n"
   ]
  },
  {
   "cell_type": "code",
   "execution_count": 37,
   "metadata": {},
   "outputs": [],
   "source": [
    "numerical_cols = ['ApplicantIncome', 'CoapplicantIncome', 'LoanAmount', 'Loan_Amount_Term']\n"
   ]
  },
  {
   "cell_type": "code",
   "execution_count": 38,
   "metadata": {},
   "outputs": [],
   "source": [
    "for col in numerical_cols:\n",
    "    train[col] = scaler.fit_transform(train[col].values.reshape(-1, 1))\n",
    "    test[col] = scaler.transform(test[col].values.reshape(-1, 1))\n"
   ]
  },
  {
   "cell_type": "code",
   "execution_count": 39,
   "metadata": {},
   "outputs": [],
   "source": [
    "X = train.drop('Loan_Status', axis = 1)\n",
    "y = train['Loan_Status']\n",
    "X_test = test"
   ]
  },
  {
   "cell_type": "code",
   "execution_count": 40,
   "metadata": {},
   "outputs": [],
   "source": [
    "X_train, X_val, y_train, y_val = train_test_split(X, y, test_size=0.3, random_state=42)\n"
   ]
  },
  {
   "cell_type": "code",
   "execution_count": 47,
   "metadata": {},
   "outputs": [],
   "source": [
    "params = {\n",
    "    'LogisticRegression' : {\n",
    "        'model' : LogisticRegression(),\n",
    "        'param' : {\n",
    "            'penalty' : ['l1', 'l2'],\n",
    "            'solver' : ['liblinear', 'solver'],\n",
    "            'C' : [0.1, 0.3, 0.5, 0.7, 0.9, 1.0],\n",
    "            'max_iter': [300, 500, 900, 1100, 1500, 2100]\n",
    "        }\n",
    "    },\n",
    "    'SVC' : {\n",
    "        'model' : SVC(),\n",
    "        'param' : {\n",
    "            'kernel' : ['linear', 'poly', 'rbf', 'sigmoid'],\n",
    "            'C' : [0.1, 0.3, 0.5, 0.7, 0.9, 1.0],\n",
    "            'degree' : [3, 5]\n",
    "        }\n",
    "    },\n",
    "    'AdaBoostClassifier' : {\n",
    "        'model' : AdaBoostClassifier(),\n",
    "        'param' : {\n",
    "            'n_estimators' : [100, 300, 500, 700, 1000, 2100],\n",
    "            'learning_rate' : [0.1, 0.3, 0.5, 0.7]\n",
    "        }\n",
    "    },\n",
    "    'RandomForestClassifier' : {\n",
    "        'model' : RandomForestClassifier(),\n",
    "        'param' : {\n",
    "            'n_estimators' : [300, 500, 700, 1000, 2100],\n",
    "            'max_depth' : [3, 5, 7, 9, 11, 13, 15],\n",
    "            'max_features' : [\"auto\", \"sqrt\", \"log2\"],\n",
    "            'min_samples_split' : [2, 4, 6, 8]\n",
    "        }\n",
    "    },\n",
    "    'SGDClassifier' : {\n",
    "        'model' : SGDClassifier(),\n",
    "        'param' : {\n",
    "            'penalty' : ['l1', 'l2'],\n",
    "            'max_iter': [1000, 1100, 1500, 2100, 2800, 3000],\n",
    "            'learning_rate' : ['optimal']\n",
    "        }\n",
    "    }\n",
    "}"
   ]
  },
  {
   "cell_type": "code",
   "execution_count": 48,
   "metadata": {},
   "outputs": [
    {
     "name": "stdout",
     "output_type": "stream",
     "text": [
      "Fitting 10 folds for each of 10 candidates, totalling 100 fits\n",
      "[CV 1/10] END C=1.0, max_iter=300, penalty=l2, solver=solver;, score=nan total time=   0.0s\n",
      "[CV 3/10] END C=1.0, max_iter=300, penalty=l2, solver=solver;, score=nan total time=   0.0s\n",
      "[CV 5/10] END C=1.0, max_iter=300, penalty=l2, solver=solver;, score=nan total time=   0.0s\n",
      "[CV 6/10] END C=1.0, max_iter=300, penalty=l2, solver=solver;, score=nan total time=   0.0s\n",
      "[CV 7/10] END C=1.0, max_iter=300, penalty=l2, solver=solver;, score=nan total time=   0.0s\n",
      "[CV 8/10] END C=1.0, max_iter=300, penalty=l2, solver=solver;, score=nan total time=   0.0s\n",
      "[CV 9/10] END C=1.0, max_iter=300, penalty=l2, solver=solver;, score=nan total time=   0.0s\n",
      "[CV 10/10] END C=1.0, max_iter=300, penalty=l2, solver=solver;, score=nan total time=   0.0s\n",
      "[CV 4/10] END C=1.0, max_iter=300, penalty=l2, solver=solver;, score=nan total time=   0.0s\n",
      "[CV 2/10] END C=1.0, max_iter=300, penalty=l2, solver=solver;, score=nan total time=   0.0s\n",
      "[CV 3/10] END C=0.1, max_iter=300, penalty=l1, solver=liblinear;, score=0.837 total time=   0.0s\n",
      "[CV 4/10] END C=0.1, max_iter=300, penalty=l1, solver=liblinear;, score=0.814 total time=   0.0s\n",
      "[CV 1/10] END C=0.1, max_iter=300, penalty=l1, solver=liblinear;, score=0.814 total time=   0.1s\n",
      "[CV 2/10] END C=0.1, max_iter=300, penalty=l1, solver=liblinear;, score=0.791 total time=   0.1s\n",
      "[CV 5/10] END C=0.1, max_iter=300, penalty=l1, solver=liblinear;, score=0.860 total time=   0.0s\n",
      "[CV 6/10] END C=0.1, max_iter=300, penalty=l1, solver=liblinear;, score=0.767 total time=   0.0s\n",
      "[CV 9/10] END C=0.1, max_iter=300, penalty=l1, solver=liblinear;, score=0.791 total time=   0.0s\n",
      "[CV 10/10] END C=0.1, max_iter=300, penalty=l1, solver=liblinear;, score=0.810 total time=   0.0s\n",
      "[CV 7/10] END C=0.1, max_iter=300, penalty=l1, solver=liblinear;, score=0.767 total time=   0.0s\n",
      "[CV 8/10] END C=0.1, max_iter=300, penalty=l1, solver=liblinear;, score=0.884 total time=   0.0s\n",
      "[CV 2/10] END C=0.7, max_iter=1500, penalty=l1, solver=solver;, score=nan total time=   0.0s\n",
      "[CV 3/10] END C=0.7, max_iter=1500, penalty=l1, solver=solver;, score=nan total time=   0.0s\n",
      "[CV 4/10] END C=0.7, max_iter=1500, penalty=l1, solver=solver;, score=nan total time=   0.0s\n",
      "[CV 1/10] END C=0.7, max_iter=1500, penalty=l1, solver=solver;, score=nan total time=   0.0s\n",
      "[CV 5/10] END C=0.7, max_iter=1500, penalty=l1, solver=solver;, score=nan total time=   0.0s\n",
      "[CV 7/10] END C=0.7, max_iter=1500, penalty=l1, solver=solver;, score=nan total time=   0.0s\n",
      "[CV 6/10] END C=0.7, max_iter=1500, penalty=l1, solver=solver;, score=nan total time=   0.0s\n",
      "[CV 8/10] END C=0.7, max_iter=1500, penalty=l1, solver=solver;, score=nan total time=   0.0s\n",
      "[CV 9/10] END C=0.7, max_iter=1500, penalty=l1, solver=solver;, score=nan total time=   0.0s\n",
      "[CV 10/10] END C=0.7, max_iter=1500, penalty=l1, solver=solver;, score=nan total time=   0.0s\n",
      "[CV 1/10] END C=1.0, max_iter=1100, penalty=l2, solver=liblinear;, score=0.884 total time=   0.0s\n",
      "[CV 2/10] END C=1.0, max_iter=1100, penalty=l2, solver=liblinear;, score=0.791 total time=   0.0s\n",
      "[CV 5/10] END C=1.0, max_iter=1100, penalty=l2, solver=liblinear;, score=0.837 total time=   0.0s\n",
      "[CV 7/10] END C=1.0, max_iter=1100, penalty=l2, solver=liblinear;, score=0.767 total time=   0.0s\n",
      "[CV 3/10] END C=1.0, max_iter=1100, penalty=l2, solver=liblinear;, score=0.837 total time=   0.0s\n",
      "[CV 9/10] END C=1.0, max_iter=1100, penalty=l2, solver=liblinear;, score=0.791 total time=   0.0s\n",
      "[CV 8/10] END C=1.0, max_iter=1100, penalty=l2, solver=liblinear;, score=0.884 total time=   0.0s\n",
      "[CV 6/10] END C=1.0, max_iter=1100, penalty=l2, solver=liblinear;, score=0.767 total time=   0.0s\n",
      "[CV 1/10] END C=0.5, max_iter=300, penalty=l1, solver=solver;, score=nan total time=   0.0s\n",
      "[CV 3/10] END C=0.5, max_iter=300, penalty=l1, solver=solver;, score=nan total time=   0.0s\n",
      "[CV 4/10] END C=0.5, max_iter=300, penalty=l1, solver=solver;, score=nan total time=   0.0s\n",
      "[CV 2/10] END C=0.5, max_iter=300, penalty=l1, solver=solver;, score=nan total time=   0.0s\n",
      "[CV 4/10] END C=1.0, max_iter=1100, penalty=l2, solver=liblinear;, score=0.814 total time=   0.0s\n",
      "[CV 10/10] END C=1.0, max_iter=1100, penalty=l2, solver=liblinear;, score=0.810 total time=   0.0s\n",
      "[CV 5/10] END C=0.5, max_iter=300, penalty=l1, solver=solver;, score=nan total time=   0.0s\n",
      "[CV 7/10] END C=0.5, max_iter=300, penalty=l1, solver=solver;, score=nan total time=   0.0s\n",
      "[CV 9/10] END C=0.5, max_iter=300, penalty=l1, solver=solver;, score=nan total time=   0.0s\n",
      "[CV 10/10] END C=0.5, max_iter=300, penalty=l1, solver=solver;, score=nan total time=   0.0s\n",
      "[CV 8/10] END C=0.5, max_iter=300, penalty=l1, solver=solver;, score=nan total time=   0.0s\n",
      "[CV 6/10] END C=0.5, max_iter=300, penalty=l1, solver=solver;, score=nan total time=   0.0s\n",
      "[CV 1/10] END C=0.1, max_iter=1100, penalty=l1, solver=solver;, score=nan total time=   0.0s\n",
      "[CV 2/10] END C=0.1, max_iter=1100, penalty=l1, solver=solver;, score=nan total time=   0.0s\n",
      "[CV 3/10] END C=0.1, max_iter=1100, penalty=l1, solver=solver;, score=nan total time=   0.0s\n",
      "[CV 4/10] END C=0.1, max_iter=1100, penalty=l1, solver=solver;, score=nan total time=   0.0s\n",
      "[CV 7/10] END C=0.1, max_iter=1100, penalty=l1, solver=solver;, score=nan total time=   0.0s\n",
      "[CV 5/10] END C=0.1, max_iter=1100, penalty=l1, solver=solver;, score=nan total time=   0.0s\n",
      "[CV 8/10] END C=0.1, max_iter=1100, penalty=l1, solver=solver;, score=nan total time=   0.0s\n",
      "[CV 6/10] END C=0.1, max_iter=1100, penalty=l1, solver=solver;, score=nan total time=   0.0s\n",
      "[CV 9/10] END C=0.1, max_iter=1100, penalty=l1, solver=solver;, score=nan total time=   0.0s\n",
      "[CV 10/10] END C=0.1, max_iter=1100, penalty=l1, solver=solver;, score=nan total time=   0.0s\n",
      "[CV 1/10] END C=0.3, max_iter=1500, penalty=l1, solver=liblinear;, score=0.884 total time=   0.0s\n",
      "[CV 5/10] END C=0.3, max_iter=1500, penalty=l1, solver=liblinear;, score=0.860 total time=   0.0s\n",
      "[CV 2/10] END C=0.3, max_iter=1500, penalty=l1, solver=liblinear;, score=0.791 total time=   0.0s\n",
      "[CV 9/10] END C=0.3, max_iter=1500, penalty=l1, solver=liblinear;, score=0.791 total time=   0.0s\n",
      "[CV 3/10] END C=0.5, max_iter=2100, penalty=l1, solver=liblinear;, score=0.837 total time=   0.0s\n",
      "[CV 6/10] END C=0.3, max_iter=1500, penalty=l1, solver=liblinear;, score=0.767 total time=   0.0s\n",
      "[CV 3/10] END C=0.3, max_iter=1500, penalty=l1, solver=liblinear;, score=0.837 total time=   0.0s\n",
      "[CV 4/10] END C=0.5, max_iter=2100, penalty=l1, solver=liblinear;, score=0.814 total time=   0.0s\n",
      "[CV 10/10] END C=0.3, max_iter=1500, penalty=l1, solver=liblinear;, score=0.810 total time=   0.0s\n",
      "[CV 4/10] END C=0.3, max_iter=1500, penalty=l1, solver=liblinear;, score=0.814 total time=   0.0s\n",
      "[CV 7/10] END C=0.3, max_iter=1500, penalty=l1, solver=liblinear;, score=0.767 total time=   0.0s\n",
      "[CV 5/10] END C=0.5, max_iter=2100, penalty=l1, solver=liblinear;, score=0.860 total time=   0.0s\n",
      "[CV 8/10] END C=0.3, max_iter=1500, penalty=l1, solver=liblinear;, score=0.884 total time=   0.0s\n",
      "[CV 1/10] END C=0.5, max_iter=2100, penalty=l1, solver=liblinear;, score=0.884 total time=   0.0s\n",
      "[CV 7/10] END C=0.5, max_iter=2100, penalty=l1, solver=liblinear;, score=0.767 total time=   0.0s\n",
      "[CV 6/10] END C=0.5, max_iter=2100, penalty=l1, solver=liblinear;, score=0.767 total time=   0.0s\n",
      "[CV 1/10] END C=0.7, max_iter=2100, penalty=l1, solver=liblinear;, score=0.884 total time=   0.0s\n",
      "[CV 2/10] END C=0.5, max_iter=2100, penalty=l1, solver=liblinear;, score=0.791 total time=   0.0s\n",
      "[CV 8/10] END C=0.5, max_iter=2100, penalty=l1, solver=liblinear;, score=0.884 total time=   0.0s\n",
      "[CV 3/10] END C=0.7, max_iter=2100, penalty=l1, solver=liblinear;, score=0.837 total time=   0.0s\n",
      "[CV 4/10] END C=0.7, max_iter=2100, penalty=l1, solver=liblinear;, score=0.814 total time=   0.0s\n",
      "[CV 2/10] END C=0.7, max_iter=2100, penalty=l1, solver=liblinear;, score=0.791 total time=   0.0s\n",
      "[CV 5/10] END C=0.7, max_iter=2100, penalty=l1, solver=liblinear;, score=0.860 total time=   0.0s\n",
      "[CV 9/10] END C=0.5, max_iter=2100, penalty=l1, solver=liblinear;, score=0.791 total time=   0.0s\n",
      "[CV 6/10] END C=0.7, max_iter=2100, penalty=l1, solver=liblinear;, score=0.767 total time=   0.0s\n",
      "[CV 8/10] END C=0.7, max_iter=2100, penalty=l1, solver=liblinear;, score=0.884 total time=   0.0s\n",
      "[CV 7/10] END C=0.7, max_iter=2100, penalty=l1, solver=liblinear;, score=0.767 total time=   0.0s\n",
      "[CV 9/10] END C=0.7, max_iter=2100, penalty=l1, solver=liblinear;, score=0.791 total time=   0.0s\n",
      "[CV 10/10] END C=0.5, max_iter=2100, penalty=l1, solver=liblinear;, score=0.810 total time=   0.0s\n",
      "[CV 10/10] END C=0.7, max_iter=2100, penalty=l1, solver=liblinear;, score=0.810 total time=   0.0s\n",
      "[CV 1/10] END C=0.5, max_iter=900, penalty=l1, solver=liblinear;, score=0.884 total time=   0.0s\n",
      "[CV 2/10] END C=0.5, max_iter=900, penalty=l1, solver=liblinear;, score=0.791 total time=   0.0s\n",
      "[CV 3/10] END C=0.5, max_iter=900, penalty=l1, solver=liblinear;, score=0.837 total time=   0.0s\n",
      "[CV 4/10] END C=0.5, max_iter=900, penalty=l1, solver=liblinear;, score=0.814 total time=   0.0s\n",
      "[CV 5/10] END C=0.5, max_iter=900, penalty=l1, solver=liblinear;, score=0.860 total time=   0.0s\n",
      "[CV 6/10] END C=0.5, max_iter=900, penalty=l1, solver=liblinear;, score=0.767 total time=   0.0s\n",
      "[CV 7/10] END C=0.5, max_iter=900, penalty=l1, solver=liblinear;, score=0.767 total time=   0.0s\n",
      "[CV 8/10] END C=0.5, max_iter=900, penalty=l1, solver=liblinear;, score=0.884 total time=   0.0s[CV 10/10] END C=0.5, max_iter=900, penalty=l1, solver=liblinear;, score=0.810 total time=   0.0s\n",
      "\n",
      "[CV 9/10] END C=0.5, max_iter=900, penalty=l1, solver=liblinear;, score=0.791 total time=   0.0s\n",
      "Fitting 10 folds for each of 10 candidates, totalling 100 fits\n",
      "[CV 2/10] END ..C=0.7, degree=3, kernel=sigmoid;, score=0.721 total time=   0.0s\n",
      "[CV 4/10] END ..C=0.7, degree=3, kernel=sigmoid;, score=0.744 total time=   0.0s\n",
      "[CV 3/10] END ..C=0.7, degree=3, kernel=sigmoid;, score=0.698 total time=   0.0s\n",
      "[CV 1/10] END ..C=0.7, degree=3, kernel=sigmoid;, score=0.744 total time=   0.0s\n",
      "[CV 5/10] END ..C=0.7, degree=3, kernel=sigmoid;, score=0.767 total time=   0.0s\n",
      "[CV 6/10] END ..C=0.7, degree=3, kernel=sigmoid;, score=0.698 total time=   0.0s\n",
      "[CV 7/10] END ..C=0.7, degree=3, kernel=sigmoid;, score=0.698 total time=   0.0s\n",
      "[CV 8/10] END ..C=0.7, degree=3, kernel=sigmoid;, score=0.860 total time=   0.0s\n",
      "[CV 1/10] END .....C=0.3, degree=3, kernel=poly;, score=0.605 total time=   0.0s\n",
      "[CV 3/10] END .....C=0.3, degree=3, kernel=poly;, score=0.651 total time=   0.0s\n",
      "[CV 9/10] END ..C=0.7, degree=3, kernel=sigmoid;, score=0.837 total time=   0.0s\n",
      "[CV 5/10] END .....C=0.3, degree=3, kernel=poly;, score=0.674 total time=   0.0s\n",
      "[CV 4/10] END .....C=0.3, degree=3, kernel=poly;, score=0.698 total time=   0.0s\n",
      "[CV 10/10] END .C=0.7, degree=3, kernel=sigmoid;, score=0.714 total time=   0.0s\n",
      "[CV 6/10] END .....C=0.3, degree=3, kernel=poly;, score=0.698 total time=   0.0s\n",
      "[CV 7/10] END .....C=0.3, degree=3, kernel=poly;, score=0.698 total time=   0.0s\n",
      "[CV 2/10] END .....C=0.3, degree=3, kernel=poly;, score=0.674 total time=   0.0s\n",
      "[CV 9/10] END .....C=0.3, degree=3, kernel=poly;, score=0.721 total time=   0.0s\n",
      "[CV 8/10] END .....C=0.3, degree=3, kernel=poly;, score=0.698 total time=   0.0s\n",
      "[CV 1/10] END ..C=0.5, degree=3, kernel=sigmoid;, score=0.744 total time=   0.0s\n",
      "[CV 3/10] END ..C=0.5, degree=3, kernel=sigmoid;, score=0.744 total time=   0.0s\n",
      "[CV 10/10] END ....C=0.3, degree=3, kernel=poly;, score=0.690 total time=   0.0s\n",
      "[CV 5/10] END ..C=0.5, degree=3, kernel=sigmoid;, score=0.791 total time=   0.0s\n",
      "[CV 2/10] END ..C=0.5, degree=3, kernel=sigmoid;, score=0.744 total time=   0.0s\n",
      "[CV 4/10] END ..C=0.5, degree=3, kernel=sigmoid;, score=0.744 total time=   0.0s\n",
      "[CV 9/10] END ..C=0.5, degree=3, kernel=sigmoid;, score=0.860 total time=   0.0s\n",
      "[CV 6/10] END ..C=0.5, degree=3, kernel=sigmoid;, score=0.744 total time=   0.0s\n",
      "[CV 3/10] END .....C=0.1, degree=5, kernel=poly;, score=0.674 total time=   0.0s\n",
      "[CV 10/10] END .C=0.5, degree=3, kernel=sigmoid;, score=0.762 total time=   0.0s\n",
      "[CV 7/10] END ..C=0.5, degree=3, kernel=sigmoid;, score=0.721 total time=   0.0s\n",
      "[CV 7/10] END .....C=0.1, degree=5, kernel=poly;, score=0.674 total time=   0.0s\n",
      "[CV 1/10] END .....C=0.1, degree=5, kernel=poly;, score=0.605 total time=   0.0s[CV 4/10] END .....C=0.1, degree=5, kernel=poly;, score=0.651 total time=   0.0s\n",
      "\n",
      "[CV 8/10] END ..C=0.5, degree=3, kernel=sigmoid;, score=0.860 total time=   0.0s[CV 8/10] END .....C=0.1, degree=5, kernel=poly;, score=0.698 total time=   0.0s\n",
      "\n",
      "[CV 2/10] END .....C=0.1, degree=5, kernel=poly;, score=0.674 total time=   0.0s[CV 5/10] END .....C=0.1, degree=5, kernel=poly;, score=0.674 total time=   0.0s\n",
      "\n",
      "[CV 9/10] END .....C=0.1, degree=5, kernel=poly;, score=0.721 total time=   0.0s\n",
      "[CV 1/10] END ...C=1.0, degree=3, kernel=linear;, score=0.884 total time=   0.0s\n",
      "[CV 5/10] END ...C=1.0, degree=3, kernel=linear;, score=0.860 total time=   0.0s\n",
      "[CV 6/10] END .....C=0.1, degree=5, kernel=poly;, score=0.721 total time=   0.0s\n",
      "[CV 2/10] END ...C=1.0, degree=3, kernel=linear;, score=0.791 total time=   0.0s\n",
      "[CV 6/10] END ...C=1.0, degree=3, kernel=linear;, score=0.767 total time=   0.0s\n",
      "[CV 10/10] END ....C=0.1, degree=5, kernel=poly;, score=0.714 total time=   0.0s\n",
      "[CV 9/10] END ...C=1.0, degree=3, kernel=linear;, score=0.791 total time=   0.0s\n",
      "[CV 3/10] END ...C=1.0, degree=3, kernel=linear;, score=0.837 total time=   0.0s\n",
      "[CV 7/10] END ...C=1.0, degree=3, kernel=linear;, score=0.767 total time=   0.0s\n",
      "[CV 10/10] END ..C=1.0, degree=3, kernel=linear;, score=0.810 total time=   0.0s\n",
      "[CV 4/10] END ...C=1.0, degree=3, kernel=linear;, score=0.814 total time=   0.0s\n",
      "[CV 3/10] END ......C=1.0, degree=5, kernel=rbf;, score=0.837 total time=   0.0s\n",
      "[CV 8/10] END ...C=1.0, degree=3, kernel=linear;, score=0.884 total time=   0.0s\n",
      "[CV 1/10] END ......C=1.0, degree=5, kernel=rbf;, score=0.884 total time=   0.0s\n",
      "[CV 4/10] END ......C=1.0, degree=5, kernel=rbf;, score=0.814 total time=   0.0s\n",
      "[CV 7/10] END ......C=1.0, degree=5, kernel=rbf;, score=0.767 total time=   0.0s\n",
      "[CV 5/10] END ......C=0.9, degree=5, kernel=rbf;, score=0.814 total time=   0.0s\n",
      "[CV 2/10] END ......C=1.0, degree=5, kernel=rbf;, score=0.791 total time=   0.0s\n",
      "[CV 8/10] END ......C=1.0, degree=5, kernel=rbf;, score=0.884 total time=   0.0s\n",
      "[CV 5/10] END ......C=1.0, degree=5, kernel=rbf;, score=0.837 total time=   0.0s\n",
      "[CV 6/10] END ......C=0.9, degree=5, kernel=rbf;, score=0.767 total time=   0.0s\n",
      "[CV 3/10] END ..C=1.0, degree=3, kernel=sigmoid;, score=0.791 total time=   0.0s\n",
      "[CV 6/10] END ......C=1.0, degree=5, kernel=rbf;, score=0.767 total time=   0.0s\n",
      "[CV 9/10] END ......C=1.0, degree=5, kernel=rbf;, score=0.791 total time=   0.0s\n",
      "[CV 7/10] END ......C=0.9, degree=5, kernel=rbf;, score=0.767 total time=   0.0s\n",
      "[CV 4/10] END ..C=1.0, degree=3, kernel=sigmoid;, score=0.744 total time=   0.0s\n",
      "[CV 10/10] END .....C=1.0, degree=5, kernel=rbf;, score=0.810 total time=   0.0s\n",
      "[CV 1/10] END ..C=0.3, degree=5, kernel=sigmoid;, score=0.744 total time=   0.0s\n",
      "[CV 5/10] END ..C=1.0, degree=3, kernel=sigmoid;, score=0.767 total time=   0.0s\n",
      "[CV 8/10] END ......C=0.9, degree=5, kernel=rbf;, score=0.860 total time=   0.0s\n",
      "[CV 1/10] END ......C=0.9, degree=5, kernel=rbf;, score=0.884 total time=   0.0s\n",
      "[CV 2/10] END ..C=0.3, degree=5, kernel=sigmoid;, score=0.744 total time=   0.0s\n",
      "[CV 6/10] END ..C=1.0, degree=3, kernel=sigmoid;, score=0.698 total time=   0.0s\n",
      "[CV 9/10] END ......C=0.9, degree=5, kernel=rbf;, score=0.791 total time=   0.0s\n",
      "[CV 2/10] END ......C=0.9, degree=5, kernel=rbf;, score=0.767 total time=   0.0s\n",
      "[CV 3/10] END ..C=0.3, degree=5, kernel=sigmoid;, score=0.721 total time=   0.0s\n",
      "[CV 7/10] END ..C=1.0, degree=3, kernel=sigmoid;, score=0.674 total time=   0.0s\n",
      "[CV 10/10] END .....C=0.9, degree=5, kernel=rbf;, score=0.810 total time=   0.0s\n",
      "[CV 3/10] END ......C=0.9, degree=5, kernel=rbf;, score=0.837 total time=   0.0s\n",
      "[CV 4/10] END ..C=0.3, degree=5, kernel=sigmoid;, score=0.721 total time=   0.0s\n",
      "[CV 1/10] END ..C=1.0, degree=3, kernel=sigmoid;, score=0.860 total time=   0.0s\n",
      "[CV 8/10] END ..C=1.0, degree=3, kernel=sigmoid;, score=0.860 total time=   0.0s\n",
      "[CV 4/10] END ......C=0.9, degree=5, kernel=rbf;, score=0.814 total time=   0.0s\n",
      "[CV 5/10] END ..C=0.3, degree=5, kernel=sigmoid;, score=0.814 total time=   0.0s\n",
      "[CV 9/10] END ..C=1.0, degree=3, kernel=sigmoid;, score=0.791 total time=   0.0s\n",
      "[CV 2/10] END ..C=1.0, degree=3, kernel=sigmoid;, score=0.744 total time=   0.0s\n",
      "[CV 6/10] END ..C=0.3, degree=5, kernel=sigmoid;, score=0.721 total time=   0.0s[CV 9/10] END ..C=0.3, degree=5, kernel=sigmoid;, score=0.837 total time=   0.0s\n",
      "\n",
      "[CV 10/10] END .C=0.3, degree=5, kernel=sigmoid;, score=0.786 total time=   0.0s\n",
      "[CV 10/10] END .C=1.0, degree=3, kernel=sigmoid;, score=0.714 total time=   0.0s\n",
      "[CV 1/10] END ..C=0.9, degree=3, kernel=sigmoid;, score=0.698 total time=   0.0s\n",
      "[CV 7/10] END ..C=0.3, degree=5, kernel=sigmoid;, score=0.721 total time=   0.0s\n",
      "[CV 2/10] END ..C=0.9, degree=3, kernel=sigmoid;, score=0.744 total time=   0.0s\n",
      "[CV 3/10] END ..C=0.9, degree=3, kernel=sigmoid;, score=0.698 total time=   0.0s\n",
      "[CV 4/10] END ..C=0.9, degree=3, kernel=sigmoid;, score=0.744 total time=   0.0s\n",
      "[CV 5/10] END ..C=0.9, degree=3, kernel=sigmoid;, score=0.767 total time=   0.0s\n",
      "[CV 6/10] END ..C=0.9, degree=3, kernel=sigmoid;, score=0.698 total time=   0.0s\n",
      "[CV 8/10] END ..C=0.3, degree=5, kernel=sigmoid;, score=0.837 total time=   0.0s\n",
      "[CV 7/10] END ..C=0.9, degree=3, kernel=sigmoid;, score=0.674 total time=   0.0s\n",
      "[CV 8/10] END ..C=0.9, degree=3, kernel=sigmoid;, score=0.860 total time=   0.0s\n",
      "[CV 10/10] END .C=0.9, degree=3, kernel=sigmoid;, score=0.738 total time=   0.0s\n",
      "[CV 9/10] END ..C=0.9, degree=3, kernel=sigmoid;, score=0.791 total time=   0.0s\n",
      "Fitting 10 folds for each of 10 candidates, totalling 100 fits\n",
      "[CV 1/10] END learning_rate=0.7, n_estimators=100;, score=0.860 total time=   0.5s\n",
      "[CV 4/10] END learning_rate=0.7, n_estimators=100;, score=0.744 total time=   0.5s\n",
      "[CV 2/10] END learning_rate=0.7, n_estimators=100;, score=0.791 total time=   0.6s\n",
      "[CV 3/10] END learning_rate=0.7, n_estimators=100;, score=0.744 total time=   0.6s\n",
      "[CV 5/10] END learning_rate=0.7, n_estimators=100;, score=0.791 total time=   0.6s\n",
      "[CV 8/10] END learning_rate=0.7, n_estimators=100;, score=0.884 total time=   0.5s\n",
      "[CV 6/10] END learning_rate=0.7, n_estimators=100;, score=0.767 total time=   0.6s\n",
      "[CV 7/10] END learning_rate=0.7, n_estimators=100;, score=0.698 total time=   0.6s\n",
      "[CV 9/10] END learning_rate=0.7, n_estimators=100;, score=0.814 total time=   0.4s\n",
      "[CV 10/10] END learning_rate=0.7, n_estimators=100;, score=0.810 total time=   0.4s\n",
      "[CV 2/10] END learning_rate=0.3, n_estimators=1000;, score=0.744 total time=   3.8s\n",
      "[CV 3/10] END learning_rate=0.3, n_estimators=1000;, score=0.767 total time=   3.9s\n",
      "[CV 4/10] END learning_rate=0.3, n_estimators=1000;, score=0.744 total time=   3.9s\n",
      "[CV 1/10] END learning_rate=0.3, n_estimators=1000;, score=0.837 total time=   4.4s\n",
      "[CV 5/10] END learning_rate=0.3, n_estimators=1000;, score=0.837 total time=   4.3s\n",
      "[CV 6/10] END learning_rate=0.3, n_estimators=1000;, score=0.721 total time=   4.0s\n",
      "[CV 7/10] END learning_rate=0.3, n_estimators=1000;, score=0.651 total time=   4.2s\n",
      "[CV 8/10] END learning_rate=0.3, n_estimators=1000;, score=0.837 total time=   4.5s\n",
      "[CV 9/10] END learning_rate=0.3, n_estimators=1000;, score=0.791 total time=   4.0s\n",
      "[CV 10/10] END learning_rate=0.3, n_estimators=1000;, score=0.786 total time=   4.0s\n",
      "[CV 1/10] END learning_rate=0.5, n_estimators=1000;, score=0.814 total time=   4.7s\n",
      "[CV 2/10] END learning_rate=0.5, n_estimators=1000;, score=0.744 total time=   4.6s\n",
      "[CV 3/10] END learning_rate=0.5, n_estimators=1000;, score=0.744 total time=   3.9s\n",
      "[CV 4/10] END learning_rate=0.5, n_estimators=1000;, score=0.744 total time=   3.8s\n",
      "[CV 5/10] END learning_rate=0.5, n_estimators=1000;, score=0.814 total time=   3.9s\n",
      "[CV 6/10] END learning_rate=0.5, n_estimators=1000;, score=0.744 total time=   4.3s\n",
      "[CV 8/10] END learning_rate=0.5, n_estimators=1000;, score=0.837 total time=   3.8s\n",
      "[CV 7/10] END learning_rate=0.5, n_estimators=1000;, score=0.651 total time=   4.2s\n",
      "[CV 9/10] END learning_rate=0.5, n_estimators=1000;, score=0.791 total time=   4.3s\n",
      "[CV 10/10] END learning_rate=0.5, n_estimators=1000;, score=0.738 total time=   4.3s\n",
      "[CV 1/10] END learning_rate=0.1, n_estimators=2100;, score=0.837 total time=   8.8s\n",
      "[CV 2/10] END learning_rate=0.1, n_estimators=2100;, score=0.767 total time=   8.6s\n",
      "[CV 4/10] END learning_rate=0.1, n_estimators=2100;, score=0.744 total time=   8.3s\n",
      "[CV 3/10] END learning_rate=0.1, n_estimators=2100;, score=0.744 total time=   9.2s\n",
      "[CV 5/10] END learning_rate=0.1, n_estimators=2100;, score=0.814 total time=   8.7s\n",
      "[CV 6/10] END learning_rate=0.1, n_estimators=2100;, score=0.721 total time=   9.3s\n",
      "[CV 7/10] END learning_rate=0.1, n_estimators=2100;, score=0.674 total time=   8.9s\n",
      "[CV 8/10] END learning_rate=0.1, n_estimators=2100;, score=0.837 total time=   9.2s\n",
      "[CV 1/10] END learning_rate=0.7, n_estimators=700;, score=0.791 total time=   2.9s\n",
      "[CV 2/10] END learning_rate=0.7, n_estimators=700;, score=0.744 total time=   3.1s\n",
      "[CV 3/10] END learning_rate=0.7, n_estimators=700;, score=0.721 total time=   3.0s\n",
      "[CV 4/10] END learning_rate=0.7, n_estimators=700;, score=0.721 total time=   2.6s\n",
      "[CV 9/10] END learning_rate=0.1, n_estimators=2100;, score=0.814 total time=   8.7s\n",
      "[CV 10/10] END learning_rate=0.1, n_estimators=2100;, score=0.762 total time=   8.5s\n",
      "[CV 5/10] END learning_rate=0.7, n_estimators=700;, score=0.814 total time=   3.1s\n",
      "[CV 6/10] END learning_rate=0.7, n_estimators=700;, score=0.698 total time=   3.1s\n",
      "[CV 7/10] END learning_rate=0.7, n_estimators=700;, score=0.674 total time=   3.1s\n",
      "[CV 1/10] END learning_rate=0.5, n_estimators=100;, score=0.860 total time=   0.4s\n",
      "[CV 8/10] END learning_rate=0.7, n_estimators=700;, score=0.837 total time=   3.0s\n",
      "[CV 2/10] END learning_rate=0.5, n_estimators=100;, score=0.767 total time=   0.4s\n",
      "[CV 3/10] END learning_rate=0.5, n_estimators=100;, score=0.767 total time=   0.4s\n",
      "[CV 4/10] END learning_rate=0.5, n_estimators=100;, score=0.767 total time=   0.4s\n",
      "[CV 5/10] END learning_rate=0.5, n_estimators=100;, score=0.791 total time=   0.4s\n",
      "[CV 7/10] END learning_rate=0.5, n_estimators=100;, score=0.721 total time=   0.4s\n",
      "[CV 6/10] END learning_rate=0.5, n_estimators=100;, score=0.767 total time=   0.4s\n",
      "[CV 9/10] END learning_rate=0.7, n_estimators=700;, score=0.791 total time=   2.9s\n",
      "[CV 8/10] END learning_rate=0.5, n_estimators=100;, score=0.884 total time=   0.4s\n",
      "[CV 9/10] END learning_rate=0.5, n_estimators=100;, score=0.814 total time=   0.5s\n",
      "[CV 10/10] END learning_rate=0.5, n_estimators=100;, score=0.810 total time=   0.4s\n",
      "[CV 10/10] END learning_rate=0.7, n_estimators=700;, score=0.738 total time=   2.8s\n",
      "[CV 1/10] END learning_rate=0.7, n_estimators=500;, score=0.814 total time=   1.8s\n",
      "[CV 2/10] END learning_rate=0.7, n_estimators=500;, score=0.744 total time=   2.0s\n",
      "[CV 3/10] END learning_rate=0.7, n_estimators=500;, score=0.767 total time=   1.9s\n",
      "[CV 4/10] END learning_rate=0.7, n_estimators=500;, score=0.721 total time=   2.0s\n",
      "[CV 5/10] END learning_rate=0.7, n_estimators=500;, score=0.814 total time=   2.0s\n",
      "[CV 6/10] END learning_rate=0.7, n_estimators=500;, score=0.721 total time=   1.8s\n",
      "[CV 7/10] END learning_rate=0.7, n_estimators=500;, score=0.674 total time=   2.0s\n",
      "[CV 8/10] END learning_rate=0.7, n_estimators=500;, score=0.837 total time=   1.8s\n",
      "[CV 9/10] END learning_rate=0.7, n_estimators=500;, score=0.791 total time=   1.8s\n",
      "[CV 10/10] END learning_rate=0.7, n_estimators=500;, score=0.738 total time=   2.0s\n",
      "[CV 2/10] END learning_rate=0.5, n_estimators=2100;, score=0.698 total time=   8.3s\n",
      "[CV 1/10] END learning_rate=0.5, n_estimators=2100;, score=0.767 total time=   8.6s\n",
      "[CV 4/10] END learning_rate=0.5, n_estimators=2100;, score=0.767 total time=   8.3s\n",
      "[CV 3/10] END learning_rate=0.5, n_estimators=2100;, score=0.698 total time=   8.7s\n",
      "[CV 5/10] END learning_rate=0.5, n_estimators=2100;, score=0.837 total time=   8.3s\n",
      "[CV 6/10] END learning_rate=0.5, n_estimators=2100;, score=0.721 total time=   9.1s\n",
      "[CV 7/10] END learning_rate=0.5, n_estimators=2100;, score=0.651 total time=   8.4s\n",
      "[CV 8/10] END learning_rate=0.5, n_estimators=2100;, score=0.860 total time=   8.7s\n",
      "[CV 1/10] END learning_rate=0.5, n_estimators=700;, score=0.837 total time=   2.6s\n",
      "[CV 2/10] END learning_rate=0.5, n_estimators=700;, score=0.744 total time=   2.8s\n",
      "[CV 3/10] END learning_rate=0.5, n_estimators=700;, score=0.744 total time=   2.7s\n",
      "[CV 4/10] END learning_rate=0.5, n_estimators=700;, score=0.721 total time=   2.5s\n",
      "[CV 9/10] END learning_rate=0.5, n_estimators=2100;, score=0.791 total time=   8.5s\n",
      "[CV 10/10] END learning_rate=0.5, n_estimators=2100;, score=0.738 total time=   8.4s\n",
      "[CV 5/10] END learning_rate=0.5, n_estimators=700;, score=0.837 total time=   2.5s\n",
      "[CV 6/10] END learning_rate=0.5, n_estimators=700;, score=0.767 total time=   2.5s\n",
      "[CV 7/10] END learning_rate=0.5, n_estimators=700;, score=0.698 total time=   2.7s\n",
      "[CV 8/10] END learning_rate=0.5, n_estimators=700;, score=0.814 total time=   2.5s\n",
      "[CV 10/10] END learning_rate=0.5, n_estimators=700;, score=0.738 total time=   2.5s\n",
      "[CV 9/10] END learning_rate=0.5, n_estimators=700;, score=0.791 total time=   2.9s\n",
      "[CV 1/10] END learning_rate=0.3, n_estimators=700;, score=0.837 total time=   2.6s\n",
      "[CV 4/10] END learning_rate=0.3, n_estimators=700;, score=0.744 total time=   2.5s\n",
      "[CV 3/10] END learning_rate=0.3, n_estimators=700;, score=0.744 total time=   2.8s\n",
      "[CV 2/10] END learning_rate=0.3, n_estimators=700;, score=0.767 total time=   3.2s\n",
      "[CV 5/10] END learning_rate=0.3, n_estimators=700;, score=0.814 total time=   2.6s\n",
      "[CV 6/10] END learning_rate=0.3, n_estimators=700;, score=0.744 total time=   2.7s\n",
      "[CV 8/10] END learning_rate=0.3, n_estimators=700;, score=0.837 total time=   3.4s\n",
      "[CV 7/10] END learning_rate=0.3, n_estimators=700;, score=0.674 total time=   3.4s\n",
      "[CV 9/10] END learning_rate=0.3, n_estimators=700;, score=0.814 total time=   2.6s\n",
      "[CV 10/10] END learning_rate=0.3, n_estimators=700;, score=0.762 total time=   2.0s\n",
      "Fitting 10 folds for each of 10 candidates, totalling 100 fits\n",
      "[CV 1/10] END max_depth=13, max_features=log2, min_samples_split=2, n_estimators=1000;, score=0.884 total time=   3.3s\n",
      "[CV 4/10] END max_depth=13, max_features=log2, min_samples_split=2, n_estimators=1000;, score=0.791 total time=   3.7s\n",
      "[CV 3/10] END max_depth=13, max_features=log2, min_samples_split=2, n_estimators=1000;, score=0.814 total time=   3.8s\n",
      "[CV 2/10] END max_depth=13, max_features=log2, min_samples_split=2, n_estimators=1000;, score=0.814 total time=   4.2s\n",
      "[CV 5/10] END max_depth=13, max_features=log2, min_samples_split=2, n_estimators=1000;, score=0.837 total time=   3.4s\n",
      "[CV 7/10] END max_depth=13, max_features=log2, min_samples_split=2, n_estimators=1000;, score=0.767 total time=   3.5s\n",
      "[CV 6/10] END max_depth=13, max_features=log2, min_samples_split=2, n_estimators=1000;, score=0.744 total time=   3.8s\n",
      "[CV 8/10] END max_depth=13, max_features=log2, min_samples_split=2, n_estimators=1000;, score=0.860 total time=   3.3s\n",
      "[CV 9/10] END max_depth=13, max_features=log2, min_samples_split=2, n_estimators=1000;, score=0.791 total time=   3.6s\n",
      "[CV 10/10] END max_depth=13, max_features=log2, min_samples_split=2, n_estimators=1000;, score=0.786 total time=   3.0s\n",
      "[CV 2/10] END max_depth=15, max_features=log2, min_samples_split=4, n_estimators=2100;, score=0.791 total time=   6.6s\n",
      "[CV 1/10] END max_depth=15, max_features=log2, min_samples_split=4, n_estimators=2100;, score=0.884 total time=   7.3s\n",
      "[CV 4/10] END max_depth=15, max_features=log2, min_samples_split=4, n_estimators=2100;, score=0.791 total time=   6.5s\n",
      "[CV 3/10] END max_depth=15, max_features=log2, min_samples_split=4, n_estimators=2100;, score=0.814 total time=   7.5s\n",
      "[CV 5/10] END max_depth=15, max_features=log2, min_samples_split=4, n_estimators=2100;, score=0.860 total time=   7.0s\n",
      "[CV 6/10] END max_depth=15, max_features=log2, min_samples_split=4, n_estimators=2100;, score=0.698 total time=   6.8s\n",
      "[CV 7/10] END max_depth=15, max_features=log2, min_samples_split=4, n_estimators=2100;, score=0.767 total time=   6.2s\n"
     ]
    },
    {
     "name": "stderr",
     "output_type": "stream",
     "text": [
      "/home/athira/.local/lib/python3.10/site-packages/sklearn/ensemble/_forest.py:424: FutureWarning: `max_features='auto'` has been deprecated in 1.1 and will be removed in 1.3. To keep the past behaviour, explicitly set `max_features='sqrt'` or remove this parameter as it is also the default value for RandomForestClassifiers and ExtraTreesClassifiers.\n",
      "  warn(\n"
     ]
    },
    {
     "name": "stdout",
     "output_type": "stream",
     "text": [
      "[CV 1/10] END max_depth=11, max_features=auto, min_samples_split=6, n_estimators=700;, score=0.884 total time=   2.1s\n"
     ]
    },
    {
     "name": "stderr",
     "output_type": "stream",
     "text": [
      "/home/athira/.local/lib/python3.10/site-packages/sklearn/ensemble/_forest.py:424: FutureWarning: `max_features='auto'` has been deprecated in 1.1 and will be removed in 1.3. To keep the past behaviour, explicitly set `max_features='sqrt'` or remove this parameter as it is also the default value for RandomForestClassifiers and ExtraTreesClassifiers.\n",
      "  warn(\n"
     ]
    },
    {
     "name": "stdout",
     "output_type": "stream",
     "text": [
      "[CV 8/10] END max_depth=15, max_features=log2, min_samples_split=4, n_estimators=2100;, score=0.860 total time=   7.6s\n"
     ]
    },
    {
     "name": "stderr",
     "output_type": "stream",
     "text": [
      "/home/athira/.local/lib/python3.10/site-packages/sklearn/ensemble/_forest.py:424: FutureWarning: `max_features='auto'` has been deprecated in 1.1 and will be removed in 1.3. To keep the past behaviour, explicitly set `max_features='sqrt'` or remove this parameter as it is also the default value for RandomForestClassifiers and ExtraTreesClassifiers.\n",
      "  warn(\n"
     ]
    },
    {
     "name": "stdout",
     "output_type": "stream",
     "text": [
      "[CV 2/10] END max_depth=11, max_features=auto, min_samples_split=6, n_estimators=700;, score=0.791 total time=   2.8s\n"
     ]
    },
    {
     "name": "stderr",
     "output_type": "stream",
     "text": [
      "/home/athira/.local/lib/python3.10/site-packages/sklearn/ensemble/_forest.py:424: FutureWarning: `max_features='auto'` has been deprecated in 1.1 and will be removed in 1.3. To keep the past behaviour, explicitly set `max_features='sqrt'` or remove this parameter as it is also the default value for RandomForestClassifiers and ExtraTreesClassifiers.\n",
      "  warn(\n"
     ]
    },
    {
     "name": "stdout",
     "output_type": "stream",
     "text": [
      "[CV 3/10] END max_depth=11, max_features=auto, min_samples_split=6, n_estimators=700;, score=0.814 total time=   3.3s\n"
     ]
    },
    {
     "name": "stderr",
     "output_type": "stream",
     "text": [
      "/home/athira/.local/lib/python3.10/site-packages/sklearn/ensemble/_forest.py:424: FutureWarning: `max_features='auto'` has been deprecated in 1.1 and will be removed in 1.3. To keep the past behaviour, explicitly set `max_features='sqrt'` or remove this parameter as it is also the default value for RandomForestClassifiers and ExtraTreesClassifiers.\n",
      "  warn(\n"
     ]
    },
    {
     "name": "stdout",
     "output_type": "stream",
     "text": [
      "[CV 10/10] END max_depth=15, max_features=log2, min_samples_split=4, n_estimators=2100;, score=0.786 total time=   7.5s\n"
     ]
    },
    {
     "name": "stderr",
     "output_type": "stream",
     "text": [
      "/home/athira/.local/lib/python3.10/site-packages/sklearn/ensemble/_forest.py:424: FutureWarning: `max_features='auto'` has been deprecated in 1.1 and will be removed in 1.3. To keep the past behaviour, explicitly set `max_features='sqrt'` or remove this parameter as it is also the default value for RandomForestClassifiers and ExtraTreesClassifiers.\n",
      "  warn(\n"
     ]
    },
    {
     "name": "stdout",
     "output_type": "stream",
     "text": [
      "[CV 9/10] END max_depth=15, max_features=log2, min_samples_split=4, n_estimators=2100;, score=0.791 total time=   8.6s\n"
     ]
    },
    {
     "name": "stderr",
     "output_type": "stream",
     "text": [
      "/home/athira/.local/lib/python3.10/site-packages/sklearn/ensemble/_forest.py:424: FutureWarning: `max_features='auto'` has been deprecated in 1.1 and will be removed in 1.3. To keep the past behaviour, explicitly set `max_features='sqrt'` or remove this parameter as it is also the default value for RandomForestClassifiers and ExtraTreesClassifiers.\n",
      "  warn(\n",
      "/home/athira/.local/lib/python3.10/site-packages/sklearn/ensemble/_forest.py:424: FutureWarning: `max_features='auto'` has been deprecated in 1.1 and will be removed in 1.3. To keep the past behaviour, explicitly set `max_features='sqrt'` or remove this parameter as it is also the default value for RandomForestClassifiers and ExtraTreesClassifiers.\n",
      "  warn(\n"
     ]
    },
    {
     "name": "stdout",
     "output_type": "stream",
     "text": [
      "[CV 4/10] END max_depth=11, max_features=auto, min_samples_split=6, n_estimators=700;, score=0.814 total time=   4.0s\n",
      "[CV 5/10] END max_depth=11, max_features=auto, min_samples_split=6, n_estimators=700;, score=0.860 total time=   3.6s\n"
     ]
    },
    {
     "name": "stderr",
     "output_type": "stream",
     "text": [
      "/home/athira/.local/lib/python3.10/site-packages/sklearn/ensemble/_forest.py:424: FutureWarning: `max_features='auto'` has been deprecated in 1.1 and will be removed in 1.3. To keep the past behaviour, explicitly set `max_features='sqrt'` or remove this parameter as it is also the default value for RandomForestClassifiers and ExtraTreesClassifiers.\n",
      "  warn(\n"
     ]
    },
    {
     "name": "stdout",
     "output_type": "stream",
     "text": [
      "[CV 6/10] END max_depth=11, max_features=auto, min_samples_split=6, n_estimators=700;, score=0.744 total time=   3.6s\n"
     ]
    },
    {
     "name": "stderr",
     "output_type": "stream",
     "text": [
      "/home/athira/.local/lib/python3.10/site-packages/sklearn/ensemble/_forest.py:424: FutureWarning: `max_features='auto'` has been deprecated in 1.1 and will be removed in 1.3. To keep the past behaviour, explicitly set `max_features='sqrt'` or remove this parameter as it is also the default value for RandomForestClassifiers and ExtraTreesClassifiers.\n",
      "  warn(\n"
     ]
    },
    {
     "name": "stdout",
     "output_type": "stream",
     "text": [
      "[CV 7/10] END max_depth=11, max_features=auto, min_samples_split=6, n_estimators=700;, score=0.767 total time=   3.2s\n",
      "[CV 1/10] END max_depth=11, max_features=log2, min_samples_split=4, n_estimators=300;, score=0.884 total time=   1.0s\n",
      "[CV 8/10] END max_depth=11, max_features=auto, min_samples_split=6, n_estimators=700;, score=0.884 total time=   2.7s\n",
      "[CV 2/10] END max_depth=11, max_features=log2, min_samples_split=4, n_estimators=300;, score=0.791 total time=   1.0s\n",
      "[CV 9/10] END max_depth=11, max_features=auto, min_samples_split=6, n_estimators=700;, score=0.791 total time=   2.8s\n",
      "[CV 3/10] END max_depth=11, max_features=log2, min_samples_split=4, n_estimators=300;, score=0.814 total time=   1.0s\n",
      "[CV 10/10] END max_depth=11, max_features=auto, min_samples_split=6, n_estimators=700;, score=0.786 total time=   3.2s\n",
      "[CV 4/10] END max_depth=11, max_features=log2, min_samples_split=4, n_estimators=300;, score=0.814 total time=   1.0s\n",
      "[CV 6/10] END max_depth=11, max_features=log2, min_samples_split=4, n_estimators=300;, score=0.721 total time=   1.0s\n",
      "[CV 5/10] END max_depth=11, max_features=log2, min_samples_split=4, n_estimators=300;, score=0.860 total time=   1.5s\n",
      "[CV 8/10] END max_depth=11, max_features=log2, min_samples_split=4, n_estimators=300;, score=0.860 total time=   0.9s\n",
      "[CV 7/10] END max_depth=11, max_features=log2, min_samples_split=4, n_estimators=300;, score=0.767 total time=   1.3s\n",
      "[CV 9/10] END max_depth=11, max_features=log2, min_samples_split=4, n_estimators=300;, score=0.814 total time=   0.9s\n",
      "[CV 10/10] END max_depth=11, max_features=log2, min_samples_split=4, n_estimators=300;, score=0.786 total time=   1.4s\n",
      "[CV 1/10] END max_depth=9, max_features=log2, min_samples_split=4, n_estimators=500;, score=0.884 total time=   1.7s\n",
      "[CV 3/10] END max_depth=9, max_features=log2, min_samples_split=4, n_estimators=500;, score=0.814 total time=   1.5s\n",
      "[CV 2/10] END max_depth=9, max_features=log2, min_samples_split=4, n_estimators=500;, score=0.791 total time=   2.0s\n",
      "[CV 5/10] END max_depth=9, max_features=log2, min_samples_split=4, n_estimators=500;, score=0.860 total time=   1.7s\n",
      "[CV 4/10] END max_depth=9, max_features=log2, min_samples_split=4, n_estimators=500;, score=0.814 total time=   2.5s\n",
      "[CV 6/10] END max_depth=9, max_features=log2, min_samples_split=4, n_estimators=500;, score=0.767 total time=   1.6s\n",
      "[CV 7/10] END max_depth=9, max_features=log2, min_samples_split=4, n_estimators=500;, score=0.767 total time=   2.5s\n"
     ]
    },
    {
     "name": "stderr",
     "output_type": "stream",
     "text": [
      "/home/athira/.local/lib/python3.10/site-packages/sklearn/ensemble/_forest.py:424: FutureWarning: `max_features='auto'` has been deprecated in 1.1 and will be removed in 1.3. To keep the past behaviour, explicitly set `max_features='sqrt'` or remove this parameter as it is also the default value for RandomForestClassifiers and ExtraTreesClassifiers.\n",
      "  warn(\n"
     ]
    },
    {
     "name": "stdout",
     "output_type": "stream",
     "text": [
      "[CV 8/10] END max_depth=9, max_features=log2, min_samples_split=4, n_estimators=500;, score=0.884 total time=   2.4s\n",
      "[CV 10/10] END max_depth=9, max_features=log2, min_samples_split=4, n_estimators=500;, score=0.786 total time=   2.3s\n"
     ]
    },
    {
     "name": "stderr",
     "output_type": "stream",
     "text": [
      "/home/athira/.local/lib/python3.10/site-packages/sklearn/ensemble/_forest.py:424: FutureWarning: `max_features='auto'` has been deprecated in 1.1 and will be removed in 1.3. To keep the past behaviour, explicitly set `max_features='sqrt'` or remove this parameter as it is also the default value for RandomForestClassifiers and ExtraTreesClassifiers.\n",
      "  warn(\n",
      "/home/athira/.local/lib/python3.10/site-packages/sklearn/ensemble/_forest.py:424: FutureWarning: `max_features='auto'` has been deprecated in 1.1 and will be removed in 1.3. To keep the past behaviour, explicitly set `max_features='sqrt'` or remove this parameter as it is also the default value for RandomForestClassifiers and ExtraTreesClassifiers.\n",
      "  warn(\n"
     ]
    },
    {
     "name": "stdout",
     "output_type": "stream",
     "text": [
      "[CV 9/10] END max_depth=9, max_features=log2, min_samples_split=4, n_estimators=500;, score=0.791 total time=   3.1s\n"
     ]
    },
    {
     "name": "stderr",
     "output_type": "stream",
     "text": [
      "/home/athira/.local/lib/python3.10/site-packages/sklearn/ensemble/_forest.py:424: FutureWarning: `max_features='auto'` has been deprecated in 1.1 and will be removed in 1.3. To keep the past behaviour, explicitly set `max_features='sqrt'` or remove this parameter as it is also the default value for RandomForestClassifiers and ExtraTreesClassifiers.\n",
      "  warn(\n"
     ]
    },
    {
     "name": "stdout",
     "output_type": "stream",
     "text": [
      "[CV 4/10] END max_depth=13, max_features=auto, min_samples_split=4, n_estimators=2100;, score=0.814 total time=   8.0s\n"
     ]
    },
    {
     "name": "stderr",
     "output_type": "stream",
     "text": [
      "/home/athira/.local/lib/python3.10/site-packages/sklearn/ensemble/_forest.py:424: FutureWarning: `max_features='auto'` has been deprecated in 1.1 and will be removed in 1.3. To keep the past behaviour, explicitly set `max_features='sqrt'` or remove this parameter as it is also the default value for RandomForestClassifiers and ExtraTreesClassifiers.\n",
      "  warn(\n"
     ]
    },
    {
     "name": "stdout",
     "output_type": "stream",
     "text": [
      "[CV 1/10] END max_depth=13, max_features=auto, min_samples_split=4, n_estimators=2100;, score=0.884 total time=  10.8s\n"
     ]
    },
    {
     "name": "stderr",
     "output_type": "stream",
     "text": [
      "/home/athira/.local/lib/python3.10/site-packages/sklearn/ensemble/_forest.py:424: FutureWarning: `max_features='auto'` has been deprecated in 1.1 and will be removed in 1.3. To keep the past behaviour, explicitly set `max_features='sqrt'` or remove this parameter as it is also the default value for RandomForestClassifiers and ExtraTreesClassifiers.\n",
      "  warn(\n"
     ]
    },
    {
     "name": "stdout",
     "output_type": "stream",
     "text": [
      "[CV 3/10] END max_depth=13, max_features=auto, min_samples_split=4, n_estimators=2100;, score=0.814 total time=   9.8s\n",
      "[CV 2/10] END max_depth=13, max_features=auto, min_samples_split=4, n_estimators=2100;, score=0.791 total time=  10.0s\n"
     ]
    },
    {
     "name": "stderr",
     "output_type": "stream",
     "text": [
      "/home/athira/.local/lib/python3.10/site-packages/sklearn/ensemble/_forest.py:424: FutureWarning: `max_features='auto'` has been deprecated in 1.1 and will be removed in 1.3. To keep the past behaviour, explicitly set `max_features='sqrt'` or remove this parameter as it is also the default value for RandomForestClassifiers and ExtraTreesClassifiers.\n",
      "  warn(\n",
      "/home/athira/.local/lib/python3.10/site-packages/sklearn/ensemble/_forest.py:424: FutureWarning: `max_features='auto'` has been deprecated in 1.1 and will be removed in 1.3. To keep the past behaviour, explicitly set `max_features='sqrt'` or remove this parameter as it is also the default value for RandomForestClassifiers and ExtraTreesClassifiers.\n",
      "  warn(\n"
     ]
    },
    {
     "name": "stdout",
     "output_type": "stream",
     "text": [
      "[CV 5/10] END max_depth=13, max_features=auto, min_samples_split=4, n_estimators=2100;, score=0.860 total time=   7.8s\n"
     ]
    },
    {
     "name": "stderr",
     "output_type": "stream",
     "text": [
      "/home/athira/.local/lib/python3.10/site-packages/sklearn/ensemble/_forest.py:424: FutureWarning: `max_features='auto'` has been deprecated in 1.1 and will be removed in 1.3. To keep the past behaviour, explicitly set `max_features='sqrt'` or remove this parameter as it is also the default value for RandomForestClassifiers and ExtraTreesClassifiers.\n",
      "  warn(\n"
     ]
    },
    {
     "name": "stdout",
     "output_type": "stream",
     "text": [
      "[CV 6/10] END max_depth=13, max_features=auto, min_samples_split=4, n_estimators=2100;, score=0.721 total time=   7.7s\n"
     ]
    },
    {
     "name": "stderr",
     "output_type": "stream",
     "text": [
      "/home/athira/.local/lib/python3.10/site-packages/sklearn/ensemble/_forest.py:424: FutureWarning: `max_features='auto'` has been deprecated in 1.1 and will be removed in 1.3. To keep the past behaviour, explicitly set `max_features='sqrt'` or remove this parameter as it is also the default value for RandomForestClassifiers and ExtraTreesClassifiers.\n",
      "  warn(\n"
     ]
    },
    {
     "name": "stdout",
     "output_type": "stream",
     "text": [
      "[CV 8/10] END max_depth=13, max_features=auto, min_samples_split=4, n_estimators=2100;, score=0.860 total time=   8.3s\n",
      "[CV 7/10] END max_depth=13, max_features=auto, min_samples_split=4, n_estimators=2100;, score=0.767 total time=   9.2s\n",
      "[CV 1/10] END max_depth=9, max_features=log2, min_samples_split=6, n_estimators=300;, score=0.884 total time=   1.8s\n",
      "[CV 2/10] END max_depth=9, max_features=log2, min_samples_split=6, n_estimators=300;, score=0.791 total time=   1.7s\n",
      "[CV 3/10] END max_depth=9, max_features=log2, min_samples_split=6, n_estimators=300;, score=0.814 total time=   1.7s\n",
      "[CV 4/10] END max_depth=9, max_features=log2, min_samples_split=6, n_estimators=300;, score=0.814 total time=   1.3s\n",
      "[CV 6/10] END max_depth=9, max_features=log2, min_samples_split=6, n_estimators=300;, score=0.744 total time=   0.9s\n",
      "[CV 5/10] END max_depth=9, max_features=log2, min_samples_split=6, n_estimators=300;, score=0.860 total time=   1.3s\n",
      "[CV 7/10] END max_depth=9, max_features=log2, min_samples_split=6, n_estimators=300;, score=0.767 total time=   0.9s\n",
      "[CV 8/10] END max_depth=9, max_features=log2, min_samples_split=6, n_estimators=300;, score=0.884 total time=   1.4s\n",
      "[CV 9/10] END max_depth=13, max_features=auto, min_samples_split=4, n_estimators=2100;, score=0.791 total time=   8.0s\n",
      "[CV 9/10] END max_depth=9, max_features=log2, min_samples_split=6, n_estimators=300;, score=0.791 total time=   1.1s\n",
      "[CV 10/10] END max_depth=9, max_features=log2, min_samples_split=6, n_estimators=300;, score=0.786 total time=   1.4s\n",
      "[CV 10/10] END max_depth=13, max_features=auto, min_samples_split=4, n_estimators=2100;, score=0.786 total time=   9.2s\n",
      "[CV 2/10] END max_depth=3, max_features=log2, min_samples_split=4, n_estimators=2100;, score=0.791 total time=   6.5s\n",
      "[CV 1/10] END max_depth=3, max_features=log2, min_samples_split=4, n_estimators=2100;, score=0.884 total time=   7.1s\n",
      "[CV 4/10] END max_depth=3, max_features=log2, min_samples_split=4, n_estimators=2100;, score=0.814 total time=   6.4s\n",
      "[CV 3/10] END max_depth=3, max_features=log2, min_samples_split=4, n_estimators=2100;, score=0.837 total time=   7.7s\n",
      "[CV 5/10] END max_depth=3, max_features=log2, min_samples_split=4, n_estimators=2100;, score=0.860 total time=   6.2s\n",
      "[CV 6/10] END max_depth=3, max_features=log2, min_samples_split=4, n_estimators=2100;, score=0.767 total time=   7.0s\n",
      "[CV 8/10] END max_depth=3, max_features=log2, min_samples_split=4, n_estimators=2100;, score=0.884 total time=   6.4s\n"
     ]
    },
    {
     "name": "stderr",
     "output_type": "stream",
     "text": [
      "/home/athira/.local/lib/python3.10/site-packages/sklearn/ensemble/_forest.py:424: FutureWarning: `max_features='auto'` has been deprecated in 1.1 and will be removed in 1.3. To keep the past behaviour, explicitly set `max_features='sqrt'` or remove this parameter as it is also the default value for RandomForestClassifiers and ExtraTreesClassifiers.\n",
      "  warn(\n"
     ]
    },
    {
     "name": "stdout",
     "output_type": "stream",
     "text": [
      "[CV 7/10] END max_depth=3, max_features=log2, min_samples_split=4, n_estimators=2100;, score=0.767 total time=   8.0s\n"
     ]
    },
    {
     "name": "stderr",
     "output_type": "stream",
     "text": [
      "/home/athira/.local/lib/python3.10/site-packages/sklearn/ensemble/_forest.py:424: FutureWarning: `max_features='auto'` has been deprecated in 1.1 and will be removed in 1.3. To keep the past behaviour, explicitly set `max_features='sqrt'` or remove this parameter as it is also the default value for RandomForestClassifiers and ExtraTreesClassifiers.\n",
      "  warn(\n"
     ]
    },
    {
     "name": "stdout",
     "output_type": "stream",
     "text": [
      "[CV 1/10] END max_depth=3, max_features=auto, min_samples_split=8, n_estimators=1000;, score=0.884 total time=   3.6s\n"
     ]
    },
    {
     "name": "stderr",
     "output_type": "stream",
     "text": [
      "/home/athira/.local/lib/python3.10/site-packages/sklearn/ensemble/_forest.py:424: FutureWarning: `max_features='auto'` has been deprecated in 1.1 and will be removed in 1.3. To keep the past behaviour, explicitly set `max_features='sqrt'` or remove this parameter as it is also the default value for RandomForestClassifiers and ExtraTreesClassifiers.\n",
      "  warn(\n"
     ]
    },
    {
     "name": "stdout",
     "output_type": "stream",
     "text": [
      "[CV 9/10] END max_depth=3, max_features=log2, min_samples_split=4, n_estimators=2100;, score=0.791 total time=   6.8s\n",
      "[CV 2/10] END max_depth=3, max_features=auto, min_samples_split=8, n_estimators=1000;, score=0.791 total time=   3.8s\n"
     ]
    },
    {
     "name": "stderr",
     "output_type": "stream",
     "text": [
      "/home/athira/.local/lib/python3.10/site-packages/sklearn/ensemble/_forest.py:424: FutureWarning: `max_features='auto'` has been deprecated in 1.1 and will be removed in 1.3. To keep the past behaviour, explicitly set `max_features='sqrt'` or remove this parameter as it is also the default value for RandomForestClassifiers and ExtraTreesClassifiers.\n",
      "  warn(\n",
      "/home/athira/.local/lib/python3.10/site-packages/sklearn/ensemble/_forest.py:424: FutureWarning: `max_features='auto'` has been deprecated in 1.1 and will be removed in 1.3. To keep the past behaviour, explicitly set `max_features='sqrt'` or remove this parameter as it is also the default value for RandomForestClassifiers and ExtraTreesClassifiers.\n",
      "  warn(\n"
     ]
    },
    {
     "name": "stdout",
     "output_type": "stream",
     "text": [
      "[CV 10/10] END max_depth=3, max_features=log2, min_samples_split=4, n_estimators=2100;, score=0.810 total time=   7.9s\n"
     ]
    },
    {
     "name": "stderr",
     "output_type": "stream",
     "text": [
      "/home/athira/.local/lib/python3.10/site-packages/sklearn/ensemble/_forest.py:424: FutureWarning: `max_features='auto'` has been deprecated in 1.1 and will be removed in 1.3. To keep the past behaviour, explicitly set `max_features='sqrt'` or remove this parameter as it is also the default value for RandomForestClassifiers and ExtraTreesClassifiers.\n",
      "  warn(\n"
     ]
    },
    {
     "name": "stdout",
     "output_type": "stream",
     "text": [
      "[CV 3/10] END max_depth=3, max_features=auto, min_samples_split=8, n_estimators=1000;, score=0.837 total time=   3.4s\n"
     ]
    },
    {
     "name": "stderr",
     "output_type": "stream",
     "text": [
      "/home/athira/.local/lib/python3.10/site-packages/sklearn/ensemble/_forest.py:424: FutureWarning: `max_features='auto'` has been deprecated in 1.1 and will be removed in 1.3. To keep the past behaviour, explicitly set `max_features='sqrt'` or remove this parameter as it is also the default value for RandomForestClassifiers and ExtraTreesClassifiers.\n",
      "  warn(\n"
     ]
    },
    {
     "name": "stdout",
     "output_type": "stream",
     "text": [
      "[CV 4/10] END max_depth=3, max_features=auto, min_samples_split=8, n_estimators=1000;, score=0.814 total time=   3.1s\n"
     ]
    },
    {
     "name": "stderr",
     "output_type": "stream",
     "text": [
      "/home/athira/.local/lib/python3.10/site-packages/sklearn/ensemble/_forest.py:424: FutureWarning: `max_features='auto'` has been deprecated in 1.1 and will be removed in 1.3. To keep the past behaviour, explicitly set `max_features='sqrt'` or remove this parameter as it is also the default value for RandomForestClassifiers and ExtraTreesClassifiers.\n",
      "  warn(\n"
     ]
    },
    {
     "name": "stdout",
     "output_type": "stream",
     "text": [
      "[CV 5/10] END max_depth=3, max_features=auto, min_samples_split=8, n_estimators=1000;, score=0.860 total time=   3.4s\n"
     ]
    },
    {
     "name": "stderr",
     "output_type": "stream",
     "text": [
      "/home/athira/.local/lib/python3.10/site-packages/sklearn/ensemble/_forest.py:424: FutureWarning: `max_features='auto'` has been deprecated in 1.1 and will be removed in 1.3. To keep the past behaviour, explicitly set `max_features='sqrt'` or remove this parameter as it is also the default value for RandomForestClassifiers and ExtraTreesClassifiers.\n",
      "  warn(\n"
     ]
    },
    {
     "name": "stdout",
     "output_type": "stream",
     "text": [
      "[CV 7/10] END max_depth=3, max_features=auto, min_samples_split=8, n_estimators=1000;, score=0.767 total time=   3.6s\n",
      "[CV 6/10] END max_depth=3, max_features=auto, min_samples_split=8, n_estimators=1000;, score=0.767 total time=   4.0s\n"
     ]
    },
    {
     "name": "stderr",
     "output_type": "stream",
     "text": [
      "/home/athira/.local/lib/python3.10/site-packages/sklearn/ensemble/_forest.py:424: FutureWarning: `max_features='auto'` has been deprecated in 1.1 and will be removed in 1.3. To keep the past behaviour, explicitly set `max_features='sqrt'` or remove this parameter as it is also the default value for RandomForestClassifiers and ExtraTreesClassifiers.\n",
      "  warn(\n",
      "/home/athira/.local/lib/python3.10/site-packages/sklearn/ensemble/_forest.py:424: FutureWarning: `max_features='auto'` has been deprecated in 1.1 and will be removed in 1.3. To keep the past behaviour, explicitly set `max_features='sqrt'` or remove this parameter as it is also the default value for RandomForestClassifiers and ExtraTreesClassifiers.\n",
      "  warn(\n"
     ]
    },
    {
     "name": "stdout",
     "output_type": "stream",
     "text": [
      "[CV 8/10] END max_depth=3, max_features=auto, min_samples_split=8, n_estimators=1000;, score=0.884 total time=   3.2s\n"
     ]
    },
    {
     "name": "stderr",
     "output_type": "stream",
     "text": [
      "/home/athira/.local/lib/python3.10/site-packages/sklearn/ensemble/_forest.py:424: FutureWarning: `max_features='auto'` has been deprecated in 1.1 and will be removed in 1.3. To keep the past behaviour, explicitly set `max_features='sqrt'` or remove this parameter as it is also the default value for RandomForestClassifiers and ExtraTreesClassifiers.\n",
      "  warn(\n"
     ]
    },
    {
     "name": "stdout",
     "output_type": "stream",
     "text": [
      "[CV 9/10] END max_depth=3, max_features=auto, min_samples_split=8, n_estimators=1000;, score=0.791 total time=   3.4s\n"
     ]
    },
    {
     "name": "stderr",
     "output_type": "stream",
     "text": [
      "/home/athira/.local/lib/python3.10/site-packages/sklearn/ensemble/_forest.py:424: FutureWarning: `max_features='auto'` has been deprecated in 1.1 and will be removed in 1.3. To keep the past behaviour, explicitly set `max_features='sqrt'` or remove this parameter as it is also the default value for RandomForestClassifiers and ExtraTreesClassifiers.\n",
      "  warn(\n"
     ]
    },
    {
     "name": "stdout",
     "output_type": "stream",
     "text": [
      "[CV 2/10] END max_depth=13, max_features=auto, min_samples_split=8, n_estimators=700;, score=0.791 total time=   2.4s\n",
      "[CV 1/10] END max_depth=13, max_features=auto, min_samples_split=8, n_estimators=700;, score=0.884 total time=   2.7s\n"
     ]
    },
    {
     "name": "stderr",
     "output_type": "stream",
     "text": [
      "/home/athira/.local/lib/python3.10/site-packages/sklearn/ensemble/_forest.py:424: FutureWarning: `max_features='auto'` has been deprecated in 1.1 and will be removed in 1.3. To keep the past behaviour, explicitly set `max_features='sqrt'` or remove this parameter as it is also the default value for RandomForestClassifiers and ExtraTreesClassifiers.\n",
      "  warn(\n",
      "/home/athira/.local/lib/python3.10/site-packages/sklearn/ensemble/_forest.py:424: FutureWarning: `max_features='auto'` has been deprecated in 1.1 and will be removed in 1.3. To keep the past behaviour, explicitly set `max_features='sqrt'` or remove this parameter as it is also the default value for RandomForestClassifiers and ExtraTreesClassifiers.\n",
      "  warn(\n"
     ]
    },
    {
     "name": "stdout",
     "output_type": "stream",
     "text": [
      "[CV 10/10] END max_depth=3, max_features=auto, min_samples_split=8, n_estimators=1000;, score=0.810 total time=   3.4s\n",
      "[CV 3/10] END max_depth=13, max_features=auto, min_samples_split=8, n_estimators=700;, score=0.814 total time=   2.7s\n"
     ]
    },
    {
     "name": "stderr",
     "output_type": "stream",
     "text": [
      "/home/athira/.local/lib/python3.10/site-packages/sklearn/ensemble/_forest.py:424: FutureWarning: `max_features='auto'` has been deprecated in 1.1 and will be removed in 1.3. To keep the past behaviour, explicitly set `max_features='sqrt'` or remove this parameter as it is also the default value for RandomForestClassifiers and ExtraTreesClassifiers.\n",
      "  warn(\n",
      "/home/athira/.local/lib/python3.10/site-packages/sklearn/ensemble/_forest.py:424: FutureWarning: `max_features='auto'` has been deprecated in 1.1 and will be removed in 1.3. To keep the past behaviour, explicitly set `max_features='sqrt'` or remove this parameter as it is also the default value for RandomForestClassifiers and ExtraTreesClassifiers.\n",
      "  warn(\n"
     ]
    },
    {
     "name": "stdout",
     "output_type": "stream",
     "text": [
      "[CV 5/10] END max_depth=13, max_features=auto, min_samples_split=8, n_estimators=700;, score=0.860 total time=   2.6s\n",
      "[CV 4/10] END max_depth=13, max_features=auto, min_samples_split=8, n_estimators=700;, score=0.814 total time=   2.9s\n"
     ]
    },
    {
     "name": "stderr",
     "output_type": "stream",
     "text": [
      "/home/athira/.local/lib/python3.10/site-packages/sklearn/ensemble/_forest.py:424: FutureWarning: `max_features='auto'` has been deprecated in 1.1 and will be removed in 1.3. To keep the past behaviour, explicitly set `max_features='sqrt'` or remove this parameter as it is also the default value for RandomForestClassifiers and ExtraTreesClassifiers.\n",
      "  warn(\n",
      "/home/athira/.local/lib/python3.10/site-packages/sklearn/ensemble/_forest.py:424: FutureWarning: `max_features='auto'` has been deprecated in 1.1 and will be removed in 1.3. To keep the past behaviour, explicitly set `max_features='sqrt'` or remove this parameter as it is also the default value for RandomForestClassifiers and ExtraTreesClassifiers.\n",
      "  warn(\n"
     ]
    },
    {
     "name": "stdout",
     "output_type": "stream",
     "text": [
      "[CV 6/10] END max_depth=13, max_features=auto, min_samples_split=8, n_estimators=700;, score=0.744 total time=   2.4s\n"
     ]
    },
    {
     "name": "stderr",
     "output_type": "stream",
     "text": [
      "/home/athira/.local/lib/python3.10/site-packages/sklearn/ensemble/_forest.py:424: FutureWarning: `max_features='auto'` has been deprecated in 1.1 and will be removed in 1.3. To keep the past behaviour, explicitly set `max_features='sqrt'` or remove this parameter as it is also the default value for RandomForestClassifiers and ExtraTreesClassifiers.\n",
      "  warn(\n"
     ]
    },
    {
     "name": "stdout",
     "output_type": "stream",
     "text": [
      "[CV 7/10] END max_depth=13, max_features=auto, min_samples_split=8, n_estimators=700;, score=0.767 total time=   3.2s\n",
      "[CV 9/10] END max_depth=13, max_features=auto, min_samples_split=8, n_estimators=700;, score=0.791 total time=   2.4s\n",
      "[CV 10/10] END max_depth=13, max_features=auto, min_samples_split=8, n_estimators=700;, score=0.786 total time=   2.3s\n",
      "[CV 8/10] END max_depth=13, max_features=auto, min_samples_split=8, n_estimators=700;, score=0.860 total time=   2.7s\n",
      "Fitting 10 folds for each of 10 candidates, totalling 100 fits\n",
      "[CV 1/10] END learning_rate=optimal, max_iter=3000, penalty=l1;, score=0.884 total time=   0.0s\n",
      "[CV 2/10] END learning_rate=optimal, max_iter=3000, penalty=l1;, score=0.767 total time=   0.0s[CV 3/10] END learning_rate=optimal, max_iter=3000, penalty=l1;, score=0.837 total time=   0.0s\n",
      "\n",
      "[CV 6/10] END learning_rate=optimal, max_iter=3000, penalty=l1;, score=0.721 total time=   0.0s\n",
      "[CV 5/10] END learning_rate=optimal, max_iter=3000, penalty=l1;, score=0.581 total time=   0.0s\n",
      "[CV 4/10] END learning_rate=optimal, max_iter=3000, penalty=l1;, score=0.814 total time=   0.0s\n",
      "[CV 7/10] END learning_rate=optimal, max_iter=3000, penalty=l1;, score=0.767 total time=   0.0s\n",
      "[CV 3/10] END learning_rate=optimal, max_iter=1500, penalty=l2;, score=0.837 total time=   0.0s\n",
      "[CV 8/10] END learning_rate=optimal, max_iter=3000, penalty=l1;, score=0.837 total time=   0.0s\n",
      "[CV 4/10] END learning_rate=optimal, max_iter=1500, penalty=l2;, score=0.744 total time=   0.0s\n",
      "[CV 7/10] END learning_rate=optimal, max_iter=1500, penalty=l2;, score=0.721 total time=   0.0s\n",
      "[CV 9/10] END learning_rate=optimal, max_iter=3000, penalty=l1;, score=0.814 total time=   0.0s\n",
      "[CV 1/10] END learning_rate=optimal, max_iter=1500, penalty=l2;, score=0.488 total time=   0.0s\n",
      "[CV 5/10] END learning_rate=optimal, max_iter=1500, penalty=l2;, score=0.744 total time=   0.0s\n",
      "[CV 8/10] END learning_rate=optimal, max_iter=1500, penalty=l2;, score=0.837 total time=   0.0s\n",
      "[CV 6/10] END learning_rate=optimal, max_iter=1500, penalty=l2;, score=0.651 total time=   0.0s\n",
      "[CV 9/10] END learning_rate=optimal, max_iter=1500, penalty=l2;, score=0.791 total time=   0.0s\n",
      "[CV 10/10] END learning_rate=optimal, max_iter=3000, penalty=l1;, score=0.524 total time=   0.0s\n",
      "[CV 10/10] END learning_rate=optimal, max_iter=1500, penalty=l2;, score=0.738 total time=   0.0s\n",
      "[CV 2/10] END learning_rate=optimal, max_iter=1500, penalty=l2;, score=0.767 total time=   0.0s\n",
      "[CV 3/10] END learning_rate=optimal, max_iter=1000, penalty=l2;, score=0.767 total time=   0.0s\n",
      "[CV 1/10] END learning_rate=optimal, max_iter=1000, penalty=l2;, score=0.791 total time=   0.0s\n",
      "[CV 4/10] END learning_rate=optimal, max_iter=1000, penalty=l2;, score=0.698 total time=   0.0s\n",
      "[CV 5/10] END learning_rate=optimal, max_iter=1000, penalty=l2;, score=0.744 total time=   0.0s\n",
      "[CV 2/10] END learning_rate=optimal, max_iter=1000, penalty=l2;, score=0.628 total time=   0.0s\n",
      "[CV 3/10] END learning_rate=optimal, max_iter=3000, penalty=l2;, score=0.558 total time=   0.0s\n",
      "[CV 9/10] END learning_rate=optimal, max_iter=1000, penalty=l2;, score=0.767 total time=   0.0s\n",
      "[CV 6/10] END learning_rate=optimal, max_iter=1000, penalty=l2;, score=0.651 total time=   0.0s\n",
      "[CV 7/10] END learning_rate=optimal, max_iter=3000, penalty=l2;, score=0.744 total time=   0.0s[CV 4/10] END learning_rate=optimal, max_iter=3000, penalty=l2;, score=0.767 total time=   0.0s\n",
      "\n",
      "[CV 7/10] END learning_rate=optimal, max_iter=1000, penalty=l2;, score=0.744 total time=   0.0s\n",
      "[CV 8/10] END learning_rate=optimal, max_iter=3000, penalty=l2;, score=0.791 total time=   0.0s[CV 10/10] END learning_rate=optimal, max_iter=1000, penalty=l2;, score=0.738 total time=   0.0s\n",
      "\n",
      "[CV 5/10] END learning_rate=optimal, max_iter=3000, penalty=l2;, score=0.628 total time=   0.0s\n",
      "[CV 8/10] END learning_rate=optimal, max_iter=1000, penalty=l2;, score=0.884 total time=   0.0s\n",
      "[CV 9/10] END learning_rate=optimal, max_iter=3000, penalty=l2;, score=0.814 total time=   0.0s\n",
      "[CV 6/10] END learning_rate=optimal, max_iter=3000, penalty=l2;, score=0.628 total time=   0.0s\n",
      "[CV 10/10] END learning_rate=optimal, max_iter=3000, penalty=l2;, score=0.714 total time=   0.0s\n",
      "[CV 1/10] END learning_rate=optimal, max_iter=3000, penalty=l2;, score=0.628 total time=   0.0s\n",
      "[CV 9/10] END learning_rate=optimal, max_iter=2100, penalty=l1;, score=0.791 total time=   0.0s[CV 1/10] END learning_rate=optimal, max_iter=2100, penalty=l1;, score=0.884 total time=   0.0s\n",
      "\n",
      "[CV 5/10] END learning_rate=optimal, max_iter=2100, penalty=l1;, score=0.860 total time=   0.0s\n",
      "[CV 2/10] END learning_rate=optimal, max_iter=3000, penalty=l2;, score=0.744 total time=   0.0s\n",
      "[CV 2/10] END learning_rate=optimal, max_iter=2100, penalty=l1;, score=0.767 total time=   0.0s\n",
      "[CV 10/10] END learning_rate=optimal, max_iter=2100, penalty=l1;, score=0.810 total time=   0.0s\n",
      "[CV 6/10] END learning_rate=optimal, max_iter=2100, penalty=l1;, score=0.767 total time=   0.0s\n",
      "[CV 3/10] END learning_rate=optimal, max_iter=2100, penalty=l1;, score=0.558 total time=   0.0s\n",
      "[CV 1/10] END learning_rate=optimal, max_iter=2800, penalty=l1;, score=0.814 total time=   0.0s\n",
      "[CV 7/10] END learning_rate=optimal, max_iter=2100, penalty=l1;, score=0.767 total time=   0.0s\n",
      "[CV 3/10] END learning_rate=optimal, max_iter=2800, penalty=l1;, score=0.744 total time=   0.0s\n",
      "[CV 4/10] END learning_rate=optimal, max_iter=2100, penalty=l1;, score=0.535 total time=   0.0s\n",
      "[CV 2/10] END learning_rate=optimal, max_iter=2800, penalty=l1;, score=0.744 total time=   0.0s\n",
      "[CV 8/10] END learning_rate=optimal, max_iter=2100, penalty=l1;, score=0.860 total time=   0.0s\n",
      "[CV 4/10] END learning_rate=optimal, max_iter=2800, penalty=l1;, score=0.791 total time=   0.0s\n",
      "[CV 5/10] END learning_rate=optimal, max_iter=1100, penalty=l2;, score=0.791 total time=   0.0s\n",
      "[CV 7/10] END learning_rate=optimal, max_iter=2800, penalty=l1;, score=0.767 total time=   0.0s\n",
      "[CV 5/10] END learning_rate=optimal, max_iter=2800, penalty=l1;, score=0.860 total time=   0.0s\n",
      "[CV 6/10] END learning_rate=optimal, max_iter=1100, penalty=l2;, score=0.558 total time=   0.0s\n",
      "[CV 3/10] END learning_rate=optimal, max_iter=1500, penalty=l1;, score=0.837 total time=   0.0s\n",
      "[CV 8/10] END learning_rate=optimal, max_iter=2800, penalty=l1;, score=0.837 total time=   0.0s\n",
      "[CV 7/10] END learning_rate=optimal, max_iter=1100, penalty=l2;, score=0.767 total time=   0.0s\n",
      "[CV 4/10] END learning_rate=optimal, max_iter=1500, penalty=l1;, score=0.814 total time=   0.0s\n",
      "[CV 9/10] END learning_rate=optimal, max_iter=2800, penalty=l1;, score=0.791 total time=   0.0s\n",
      "[CV 8/10] END learning_rate=optimal, max_iter=1100, penalty=l2;, score=0.884 total time=   0.0s\n",
      "[CV 6/10] END learning_rate=optimal, max_iter=2800, penalty=l1;, score=0.628 total time=   0.0s\n",
      "[CV 5/10] END learning_rate=optimal, max_iter=1500, penalty=l1;, score=0.814 total time=   0.0s\n",
      "[CV 9/10] END learning_rate=optimal, max_iter=1100, penalty=l2;, score=0.767 total time=   0.0s\n",
      "[CV 10/10] END learning_rate=optimal, max_iter=2800, penalty=l1;, score=0.762 total time=   0.0s[CV 6/10] END learning_rate=optimal, max_iter=1500, penalty=l1;, score=0.581 total time=   0.0s\n",
      "\n",
      "[CV 10/10] END learning_rate=optimal, max_iter=1100, penalty=l2;, score=0.667 total time=   0.0s\n",
      "[CV 1/10] END learning_rate=optimal, max_iter=2800, penalty=l2;, score=0.721 total time=   0.0s\n",
      "[CV 1/10] END learning_rate=optimal, max_iter=1100, penalty=l2;, score=0.814 total time=   0.0s\n",
      "[CV 7/10] END learning_rate=optimal, max_iter=1500, penalty=l1;, score=0.767 total time=   0.0s\n",
      "[CV 1/10] END learning_rate=optimal, max_iter=1500, penalty=l1;, score=0.767 total time=   0.0s\n",
      "[CV 2/10] END learning_rate=optimal, max_iter=1100, penalty=l2;, score=0.791 total time=   0.0s\n",
      "[CV 2/10] END learning_rate=optimal, max_iter=2800, penalty=l2;, score=0.791 total time=   0.0s\n",
      "[CV 8/10] END learning_rate=optimal, max_iter=1500, penalty=l1;, score=0.884 total time=   0.0s\n",
      "[CV 2/10] END learning_rate=optimal, max_iter=1500, penalty=l1;, score=0.698 total time=   0.0s\n",
      "[CV 9/10] END learning_rate=optimal, max_iter=2800, penalty=l2;, score=0.372 total time=   0.0s\n",
      "[CV 9/10] END learning_rate=optimal, max_iter=1500, penalty=l1;, score=0.744 total time=   0.0s\n",
      "[CV 3/10] END learning_rate=optimal, max_iter=1100, penalty=l2;, score=0.721 total time=   0.0s\n",
      "[CV 10/10] END learning_rate=optimal, max_iter=2800, penalty=l2;, score=0.810 total time=   0.0s\n",
      "[CV 3/10] END learning_rate=optimal, max_iter=2800, penalty=l2;, score=0.744 total time=   0.0s[CV 10/10] END learning_rate=optimal, max_iter=1500, penalty=l1;, score=0.452 total time=   0.0s\n",
      "\n",
      "[CV 4/10] END learning_rate=optimal, max_iter=1100, penalty=l2;, score=0.721 total time=   0.0s[CV 2/10] END learning_rate=optimal, max_iter=2100, penalty=l2;, score=0.767 total time=   0.0s\n",
      "[CV 4/10] END learning_rate=optimal, max_iter=2800, penalty=l2;, score=0.721 total time=   0.0s\n",
      "\n",
      "[CV 1/10] END learning_rate=optimal, max_iter=2100, penalty=l2;, score=0.860 total time=   0.0s\n",
      "[CV 4/10] END learning_rate=optimal, max_iter=2100, penalty=l2;, score=0.791 total time=   0.0s[CV 3/10] END learning_rate=optimal, max_iter=2100, penalty=l2;, score=0.791 total time=   0.0s\n",
      "\n",
      "[CV 5/10] END learning_rate=optimal, max_iter=2100, penalty=l2;, score=0.791 total time=   0.0s\n",
      "[CV 5/10] END learning_rate=optimal, max_iter=2800, penalty=l2;, score=0.837 total time=   0.0s\n",
      "[CV 6/10] END learning_rate=optimal, max_iter=2100, penalty=l2;, score=0.744 total time=   0.0s\n",
      "[CV 7/10] END learning_rate=optimal, max_iter=2100, penalty=l2;, score=0.674 total time=   0.0s\n",
      "[CV 8/10] END learning_rate=optimal, max_iter=2100, penalty=l2;, score=0.860 total time=   0.0s\n",
      "[CV 6/10] END learning_rate=optimal, max_iter=2800, penalty=l2;, score=0.558 total time=   0.0s\n",
      "[CV 9/10] END learning_rate=optimal, max_iter=2100, penalty=l2;, score=0.721 total time=   0.0s\n",
      "[CV 10/10] END learning_rate=optimal, max_iter=2100, penalty=l2;, score=0.810 total time=   0.0s\n",
      "[CV 7/10] END learning_rate=optimal, max_iter=2800, penalty=l2;, score=0.767 total time=   0.0s\n",
      "[CV 8/10] END learning_rate=optimal, max_iter=2800, penalty=l2;, score=0.791 total time=   0.0s\n"
     ]
    }
   ],
   "source": [
    "scores = []\n",
    "\n",
    "for name, mp in params.items():\n",
    "    rs = RandomizedSearchCV(estimator=mp['model'], param_distributions=mp['param'], cv = 10,\n",
    "                            verbose=3, n_jobs=-1)\n",
    "    rs.fit(X_train, y_train)\n",
    "    scores.append({\n",
    "        'model' : name,\n",
    "        'score' : rs.best_score_,\n",
    "        'estimator' : rs.best_estimator_\n",
    "    })"
   ]
  },
  {
   "cell_type": "code",
   "execution_count": 49,
   "metadata": {},
   "outputs": [
    {
     "data": {
      "text/html": [
       "<div>\n",
       "<style scoped>\n",
       "    .dataframe tbody tr th:only-of-type {\n",
       "        vertical-align: middle;\n",
       "    }\n",
       "\n",
       "    .dataframe tbody tr th {\n",
       "        vertical-align: top;\n",
       "    }\n",
       "\n",
       "    .dataframe thead th {\n",
       "        text-align: right;\n",
       "    }\n",
       "</style>\n",
       "<table border=\"1\" class=\"dataframe\">\n",
       "  <thead>\n",
       "    <tr style=\"text-align: right;\">\n",
       "      <th></th>\n",
       "      <th>model</th>\n",
       "      <th>score</th>\n",
       "      <th>estimator</th>\n",
       "    </tr>\n",
       "  </thead>\n",
       "  <tbody>\n",
       "    <tr>\n",
       "      <th>0</th>\n",
       "      <td>LogisticRegression</td>\n",
       "      <td>0.820487</td>\n",
       "      <td>LogisticRegression(C=0.3, max_iter=1500, penal...</td>\n",
       "    </tr>\n",
       "    <tr>\n",
       "      <th>1</th>\n",
       "      <td>SVC</td>\n",
       "      <td>0.820487</td>\n",
       "      <td>SVC(kernel='linear')</td>\n",
       "    </tr>\n",
       "    <tr>\n",
       "      <th>3</th>\n",
       "      <td>RandomForestClassifier</td>\n",
       "      <td>0.820487</td>\n",
       "      <td>(DecisionTreeClassifier(max_depth=3, max_featu...</td>\n",
       "    </tr>\n",
       "    <tr>\n",
       "      <th>2</th>\n",
       "      <td>AdaBoostClassifier</td>\n",
       "      <td>0.794906</td>\n",
       "      <td>(DecisionTreeClassifier(max_depth=1, random_st...</td>\n",
       "    </tr>\n",
       "    <tr>\n",
       "      <th>4</th>\n",
       "      <td>SGDClassifier</td>\n",
       "      <td>0.780952</td>\n",
       "      <td>SGDClassifier(max_iter=2100)</td>\n",
       "    </tr>\n",
       "  </tbody>\n",
       "</table>\n",
       "</div>"
      ],
      "text/plain": [
       "                    model     score  \\\n",
       "0      LogisticRegression  0.820487   \n",
       "1                     SVC  0.820487   \n",
       "3  RandomForestClassifier  0.820487   \n",
       "2      AdaBoostClassifier  0.794906   \n",
       "4           SGDClassifier  0.780952   \n",
       "\n",
       "                                           estimator  \n",
       "0  LogisticRegression(C=0.3, max_iter=1500, penal...  \n",
       "1                               SVC(kernel='linear')  \n",
       "3  (DecisionTreeClassifier(max_depth=3, max_featu...  \n",
       "2  (DecisionTreeClassifier(max_depth=1, random_st...  \n",
       "4                       SGDClassifier(max_iter=2100)  "
      ]
     },
     "execution_count": 49,
     "metadata": {},
     "output_type": "execute_result"
    }
   ],
   "source": [
    "final = pd.DataFrame(scores, columns=['model', 'score', 'estimator'])\n",
    "final.sort_values('score', ascending=False)"
   ]
  },
  {
   "cell_type": "code",
   "execution_count": 52,
   "metadata": {},
   "outputs": [
    {
     "data": {
      "text/html": [
       "<style>#sk-container-id-2 {color: black;background-color: white;}#sk-container-id-2 pre{padding: 0;}#sk-container-id-2 div.sk-toggleable {background-color: white;}#sk-container-id-2 label.sk-toggleable__label {cursor: pointer;display: block;width: 100%;margin-bottom: 0;padding: 0.3em;box-sizing: border-box;text-align: center;}#sk-container-id-2 label.sk-toggleable__label-arrow:before {content: \"▸\";float: left;margin-right: 0.25em;color: #696969;}#sk-container-id-2 label.sk-toggleable__label-arrow:hover:before {color: black;}#sk-container-id-2 div.sk-estimator:hover label.sk-toggleable__label-arrow:before {color: black;}#sk-container-id-2 div.sk-toggleable__content {max-height: 0;max-width: 0;overflow: hidden;text-align: left;background-color: #f0f8ff;}#sk-container-id-2 div.sk-toggleable__content pre {margin: 0.2em;color: black;border-radius: 0.25em;background-color: #f0f8ff;}#sk-container-id-2 input.sk-toggleable__control:checked~div.sk-toggleable__content {max-height: 200px;max-width: 100%;overflow: auto;}#sk-container-id-2 input.sk-toggleable__control:checked~label.sk-toggleable__label-arrow:before {content: \"▾\";}#sk-container-id-2 div.sk-estimator input.sk-toggleable__control:checked~label.sk-toggleable__label {background-color: #d4ebff;}#sk-container-id-2 div.sk-label input.sk-toggleable__control:checked~label.sk-toggleable__label {background-color: #d4ebff;}#sk-container-id-2 input.sk-hidden--visually {border: 0;clip: rect(1px 1px 1px 1px);clip: rect(1px, 1px, 1px, 1px);height: 1px;margin: -1px;overflow: hidden;padding: 0;position: absolute;width: 1px;}#sk-container-id-2 div.sk-estimator {font-family: monospace;background-color: #f0f8ff;border: 1px dotted black;border-radius: 0.25em;box-sizing: border-box;margin-bottom: 0.5em;}#sk-container-id-2 div.sk-estimator:hover {background-color: #d4ebff;}#sk-container-id-2 div.sk-parallel-item::after {content: \"\";width: 100%;border-bottom: 1px solid gray;flex-grow: 1;}#sk-container-id-2 div.sk-label:hover label.sk-toggleable__label {background-color: #d4ebff;}#sk-container-id-2 div.sk-serial::before {content: \"\";position: absolute;border-left: 1px solid gray;box-sizing: border-box;top: 0;bottom: 0;left: 50%;z-index: 0;}#sk-container-id-2 div.sk-serial {display: flex;flex-direction: column;align-items: center;background-color: white;padding-right: 0.2em;padding-left: 0.2em;position: relative;}#sk-container-id-2 div.sk-item {position: relative;z-index: 1;}#sk-container-id-2 div.sk-parallel {display: flex;align-items: stretch;justify-content: center;background-color: white;position: relative;}#sk-container-id-2 div.sk-item::before, #sk-container-id-2 div.sk-parallel-item::before {content: \"\";position: absolute;border-left: 1px solid gray;box-sizing: border-box;top: 0;bottom: 0;left: 50%;z-index: -1;}#sk-container-id-2 div.sk-parallel-item {display: flex;flex-direction: column;z-index: 1;position: relative;background-color: white;}#sk-container-id-2 div.sk-parallel-item:first-child::after {align-self: flex-end;width: 50%;}#sk-container-id-2 div.sk-parallel-item:last-child::after {align-self: flex-start;width: 50%;}#sk-container-id-2 div.sk-parallel-item:only-child::after {width: 0;}#sk-container-id-2 div.sk-dashed-wrapped {border: 1px dashed gray;margin: 0 0.4em 0.5em 0.4em;box-sizing: border-box;padding-bottom: 0.4em;background-color: white;}#sk-container-id-2 div.sk-label label {font-family: monospace;font-weight: bold;display: inline-block;line-height: 1.2em;}#sk-container-id-2 div.sk-label-container {text-align: center;}#sk-container-id-2 div.sk-container {/* jupyter's `normalize.less` sets `[hidden] { display: none; }` but bootstrap.min.css set `[hidden] { display: none !important; }` so we also need the `!important` here to be able to override the default hidden behavior on the sphinx rendered scikit-learn.org. See: https://github.com/scikit-learn/scikit-learn/issues/21755 */display: inline-block !important;position: relative;}#sk-container-id-2 div.sk-text-repr-fallback {display: none;}</style><div id=\"sk-container-id-2\" class=\"sk-top-container\"><div class=\"sk-text-repr-fallback\"><pre>LogisticRegression(C=0.3, max_iter=1500, penalty=&#x27;l1&#x27;, solver=&#x27;liblinear&#x27;)</pre><b>In a Jupyter environment, please rerun this cell to show the HTML representation or trust the notebook. <br />On GitHub, the HTML representation is unable to render, please try loading this page with nbviewer.org.</b></div><div class=\"sk-container\" hidden><div class=\"sk-item\"><div class=\"sk-estimator sk-toggleable\"><input class=\"sk-toggleable__control sk-hidden--visually\" id=\"sk-estimator-id-2\" type=\"checkbox\" checked><label for=\"sk-estimator-id-2\" class=\"sk-toggleable__label sk-toggleable__label-arrow\">LogisticRegression</label><div class=\"sk-toggleable__content\"><pre>LogisticRegression(C=0.3, max_iter=1500, penalty=&#x27;l1&#x27;, solver=&#x27;liblinear&#x27;)</pre></div></div></div></div></div>"
      ],
      "text/plain": [
       "LogisticRegression(C=0.3, max_iter=1500, penalty='l1', solver='liblinear')"
      ]
     },
     "execution_count": 52,
     "metadata": {},
     "output_type": "execute_result"
    }
   ],
   "source": [
    "final['estimator'].iloc[0]\n"
   ]
  },
  {
   "cell_type": "code",
   "execution_count": 53,
   "metadata": {},
   "outputs": [],
   "source": [
    "classifier = LogisticRegression(max_iter=300, penalty='l1', solver='liblinear')\n",
    "classifier.fit(X_train, y_train)\n",
    "prediction = classifier.predict(X_val)"
   ]
  },
  {
   "cell_type": "code",
   "execution_count": 54,
   "metadata": {},
   "outputs": [],
   "source": [
    "pred = classifier.predict(X_test)\n"
   ]
  },
  {
   "cell_type": "code",
   "execution_count": 55,
   "metadata": {},
   "outputs": [],
   "source": [
    "test_df = pd.read_csv('/home/athira/Desktop/dsa/virtual/test_lAUu6dG.csv')\n",
    "submission = pd.read_csv('/home/athira/Desktop/dsa/virtual/sample_submission_49d68Cx.csv')\n",
    "\n",
    "submission['Loan_ID'] = test_df['Loan_ID']"
   ]
  },
  {
   "cell_type": "code",
   "execution_count": 56,
   "metadata": {},
   "outputs": [],
   "source": [
    "submission['Loan_Status'] = pred\n",
    "submission.to_csv('sample_submission.csv', index=False)"
   ]
  },
  {
   "cell_type": "code",
   "execution_count": 57,
   "metadata": {},
   "outputs": [],
   "source": [
    "submission['Loan_Status'] = submission['Loan_Status'].map({1: 'Y', 0: 'N'})\n"
   ]
  },
  {
   "cell_type": "code",
   "execution_count": 58,
   "metadata": {},
   "outputs": [],
   "source": [
    "submission.to_csv('sample_submission.csv', index=False)\n"
   ]
  }
 ],
 "metadata": {
  "kernelspec": {
   "display_name": "Python 3.10.6 64-bit",
   "language": "python",
   "name": "python3"
  },
  "language_info": {
   "codemirror_mode": {
    "name": "ipython",
    "version": 3
   },
   "file_extension": ".py",
   "mimetype": "text/x-python",
   "name": "python",
   "nbconvert_exporter": "python",
   "pygments_lexer": "ipython3",
   "version": "3.10.6"
  },
  "orig_nbformat": 4,
  "vscode": {
   "interpreter": {
    "hash": "916dbcbb3f70747c44a77c7bcd40155683ae19c65e1c03b4aa3499c5328201f1"
   }
  }
 },
 "nbformat": 4,
 "nbformat_minor": 2
}
