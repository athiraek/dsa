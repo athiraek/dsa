{
  "cells": [
    {
      "cell_type": "code",
      "execution_count": 1,
      "metadata": {
        "id": "IQCg5lvqafWR"
      },
      "outputs": [],
      "source": [
        "import pandas as pd\n",
        "import matplotlib.pyplot as plt\n",
        "import numpy as np\n",
        "import seaborn as sns\n",
        "import matplotlib.cm as cm"
      ]
    },
    {
      "cell_type": "code",
      "execution_count": 2,
      "metadata": {
        "colab": {
          "base_uri": "https://localhost:8080/"
        },
        "id": "OQcaHZsLgz-k",
        "outputId": "0b74fb54-945f-448a-d0db-73c437858e7f"
      },
      "outputs": [
        {
          "name": "stdout",
          "output_type": "stream",
          "text": [
            "Defaulting to user installation because normal site-packages is not writeable\n",
            "\u001b[31mERROR: Could not find a version that satisfies the requirement sqaurify (from versions: none)\u001b[0m\u001b[31m\n",
            "\u001b[0m\u001b[31mERROR: No matching distribution found for sqaurify\u001b[0m\u001b[31m\n",
            "\u001b[0m"
          ]
        }
      ],
      "source": [
        "!pip install sqaurify"
      ]
    },
    {
      "cell_type": "code",
      "execution_count": 3,
      "metadata": {
        "id": "jqLFuYKMatAT"
      },
      "outputs": [],
      "source": [
        "data = pd.read_csv(\"//home/athira/Desktop/exit_test/train.csv\")\n"
      ]
    },
    {
      "cell_type": "code",
      "execution_count": 4,
      "metadata": {
        "colab": {
          "base_uri": "https://localhost:8080/",
          "height": 307
        },
        "id": "OqIXRKDEbHx9",
        "outputId": "5b1803ff-8fbf-4ef9-b88a-1b75a5c1d43c"
      },
      "outputs": [
        {
          "data": {
            "text/html": [
              "<div>\n",
              "<style scoped>\n",
              "    .dataframe tbody tr th:only-of-type {\n",
              "        vertical-align: middle;\n",
              "    }\n",
              "\n",
              "    .dataframe tbody tr th {\n",
              "        vertical-align: top;\n",
              "    }\n",
              "\n",
              "    .dataframe thead th {\n",
              "        text-align: right;\n",
              "    }\n",
              "</style>\n",
              "<table border=\"1\" class=\"dataframe\">\n",
              "  <thead>\n",
              "    <tr style=\"text-align: right;\">\n",
              "      <th></th>\n",
              "      <th>player_id</th>\n",
              "      <th>name</th>\n",
              "      <th>age</th>\n",
              "      <th>gender</th>\n",
              "      <th>country</th>\n",
              "      <th>height</th>\n",
              "      <th>weight</th>\n",
              "      <th>ball_controlling_skills</th>\n",
              "      <th>body_reflexes</th>\n",
              "      <th>body_balance</th>\n",
              "      <th>...</th>\n",
              "      <th>strong_foot</th>\n",
              "      <th>behaviour_rating</th>\n",
              "      <th>matches_played</th>\n",
              "      <th>fitness_rating</th>\n",
              "      <th>trophies_won</th>\n",
              "      <th>dedication_level</th>\n",
              "      <th>coaching</th>\n",
              "      <th>years_of_experience</th>\n",
              "      <th>no_of_disqualifications</th>\n",
              "      <th>selection</th>\n",
              "    </tr>\n",
              "  </thead>\n",
              "  <tbody>\n",
              "    <tr>\n",
              "      <th>0</th>\n",
              "      <td>PLID_4964</td>\n",
              "      <td>Keva Horan</td>\n",
              "      <td>23</td>\n",
              "      <td>M</td>\n",
              "      <td>Ukraine</td>\n",
              "      <td>6'2</td>\n",
              "      <td>176lbs</td>\n",
              "      <td>77.0</td>\n",
              "      <td>58.0</td>\n",
              "      <td>47.0</td>\n",
              "      <td>...</td>\n",
              "      <td>Right</td>\n",
              "      <td>7.7</td>\n",
              "      <td>NaN</td>\n",
              "      <td>8.1</td>\n",
              "      <td>2.0</td>\n",
              "      <td>High</td>\n",
              "      <td>Talent Hunt</td>\n",
              "      <td>8.0</td>\n",
              "      <td>0.0</td>\n",
              "      <td>1</td>\n",
              "    </tr>\n",
              "    <tr>\n",
              "      <th>1</th>\n",
              "      <td>PLID_11234</td>\n",
              "      <td>Herma Tann</td>\n",
              "      <td>18</td>\n",
              "      <td>M</td>\n",
              "      <td>Russia</td>\n",
              "      <td>5'10</td>\n",
              "      <td>148lbs</td>\n",
              "      <td>54.0</td>\n",
              "      <td>69.0</td>\n",
              "      <td>70.0</td>\n",
              "      <td>...</td>\n",
              "      <td>Any</td>\n",
              "      <td>5.3</td>\n",
              "      <td>0.0</td>\n",
              "      <td>NaN</td>\n",
              "      <td>3.0</td>\n",
              "      <td>Medium</td>\n",
              "      <td>Source</td>\n",
              "      <td>3.0</td>\n",
              "      <td>0.0</td>\n",
              "      <td>0</td>\n",
              "    </tr>\n",
              "    <tr>\n",
              "      <th>2</th>\n",
              "      <td>PLID_19127</td>\n",
              "      <td>Eilene Kizer</td>\n",
              "      <td>16</td>\n",
              "      <td>F</td>\n",
              "      <td>Spain</td>\n",
              "      <td>6'2</td>\n",
              "      <td>172lbs</td>\n",
              "      <td>34.0</td>\n",
              "      <td>43.0</td>\n",
              "      <td>45.0</td>\n",
              "      <td>...</td>\n",
              "      <td>Left</td>\n",
              "      <td>4.7</td>\n",
              "      <td>0.0</td>\n",
              "      <td>6.6</td>\n",
              "      <td>5.0</td>\n",
              "      <td>Low</td>\n",
              "      <td>Academy</td>\n",
              "      <td>2.0</td>\n",
              "      <td>0.0</td>\n",
              "      <td>1</td>\n",
              "    </tr>\n",
              "    <tr>\n",
              "      <th>3</th>\n",
              "      <td>PLID_17467</td>\n",
              "      <td>Andrea Badgett</td>\n",
              "      <td>27</td>\n",
              "      <td>M</td>\n",
              "      <td>Chile</td>\n",
              "      <td>5'11</td>\n",
              "      <td>165lbs</td>\n",
              "      <td>79.0</td>\n",
              "      <td>73.0</td>\n",
              "      <td>76.0</td>\n",
              "      <td>...</td>\n",
              "      <td>Right</td>\n",
              "      <td>8.6</td>\n",
              "      <td>113.0</td>\n",
              "      <td>8.6</td>\n",
              "      <td>6.0</td>\n",
              "      <td>Medium</td>\n",
              "      <td>Academy</td>\n",
              "      <td>13.0</td>\n",
              "      <td>16.0</td>\n",
              "      <td>1</td>\n",
              "    </tr>\n",
              "    <tr>\n",
              "      <th>4</th>\n",
              "      <td>PLID_9661</td>\n",
              "      <td>Jeremiah Bumbalough</td>\n",
              "      <td>19</td>\n",
              "      <td>F</td>\n",
              "      <td>Argentina</td>\n",
              "      <td>5'8</td>\n",
              "      <td>158lbs</td>\n",
              "      <td>47.0</td>\n",
              "      <td>61.0</td>\n",
              "      <td>74.0</td>\n",
              "      <td>...</td>\n",
              "      <td>Right</td>\n",
              "      <td>NaN</td>\n",
              "      <td>0.0</td>\n",
              "      <td>5.7</td>\n",
              "      <td>5.0</td>\n",
              "      <td>Medium</td>\n",
              "      <td>Academy</td>\n",
              "      <td>4.0</td>\n",
              "      <td>0.0</td>\n",
              "      <td>0</td>\n",
              "    </tr>\n",
              "  </tbody>\n",
              "</table>\n",
              "<p>5 rows × 30 columns</p>\n",
              "</div>"
            ],
            "text/plain": [
              "    player_id                 name  age gender    country height  weight  \\\n",
              "0   PLID_4964           Keva Horan   23      M    Ukraine    6'2  176lbs   \n",
              "1  PLID_11234           Herma Tann   18      M     Russia   5'10  148lbs   \n",
              "2  PLID_19127         Eilene Kizer   16      F      Spain    6'2  172lbs   \n",
              "3  PLID_17467       Andrea Badgett   27      M      Chile   5'11  165lbs   \n",
              "4   PLID_9661  Jeremiah Bumbalough   19      F  Argentina    5'8  158lbs   \n",
              "\n",
              "   ball_controlling_skills  body_reflexes  body_balance  ...  strong_foot  \\\n",
              "0                     77.0           58.0          47.0  ...        Right   \n",
              "1                     54.0           69.0          70.0  ...          Any   \n",
              "2                     34.0           43.0          45.0  ...         Left   \n",
              "3                     79.0           73.0          76.0  ...        Right   \n",
              "4                     47.0           61.0          74.0  ...        Right   \n",
              "\n",
              "   behaviour_rating  matches_played  fitness_rating  trophies_won  \\\n",
              "0               7.7             NaN             8.1           2.0   \n",
              "1               5.3             0.0             NaN           3.0   \n",
              "2               4.7             0.0             6.6           5.0   \n",
              "3               8.6           113.0             8.6           6.0   \n",
              "4               NaN             0.0             5.7           5.0   \n",
              "\n",
              "   dedication_level     coaching  years_of_experience  \\\n",
              "0              High  Talent Hunt                  8.0   \n",
              "1            Medium       Source                  3.0   \n",
              "2               Low      Academy                  2.0   \n",
              "3            Medium      Academy                 13.0   \n",
              "4            Medium      Academy                  4.0   \n",
              "\n",
              "   no_of_disqualifications  selection  \n",
              "0                      0.0          1  \n",
              "1                      0.0          0  \n",
              "2                      0.0          1  \n",
              "3                     16.0          1  \n",
              "4                      0.0          0  \n",
              "\n",
              "[5 rows x 30 columns]"
            ]
          },
          "execution_count": 4,
          "metadata": {},
          "output_type": "execute_result"
        }
      ],
      "source": [
        "data.head()"
      ]
    },
    {
      "cell_type": "code",
      "execution_count": 5,
      "metadata": {
        "colab": {
          "base_uri": "https://localhost:8080/"
        },
        "id": "8UFjvD3fs1h8",
        "outputId": "47ff475d-a57c-49ba-ed8a-38fc22193fb4"
      },
      "outputs": [
        {
          "data": {
            "text/plain": [
              "Index(['player_id', 'name', 'age', 'gender', 'country', 'height', 'weight',\n",
              "       'ball_controlling_skills', 'body_reflexes', 'body_balance',\n",
              "       'jumping_skills', 'penalties_conversion_rate', 'mental_strength',\n",
              "       'goalkeeping_skills', 'defending_skills', 'passing_skills',\n",
              "       'dribbling_skills', 'shot_accuracy', 'body_strength_stamina',\n",
              "       'max_running_speed', 'strong_foot', 'behaviour_rating',\n",
              "       'matches_played', 'fitness_rating', 'trophies_won', 'dedication_level',\n",
              "       'coaching', 'years_of_experience', 'no_of_disqualifications',\n",
              "       'selection'],\n",
              "      dtype='object')"
            ]
          },
          "execution_count": 5,
          "metadata": {},
          "output_type": "execute_result"
        }
      ],
      "source": [
        "data.columns"
      ]
    },
    {
      "cell_type": "code",
      "execution_count": 6,
      "metadata": {
        "colab": {
          "base_uri": "https://localhost:8080/"
        },
        "id": "xa5dDM9VbJVK",
        "outputId": "0494020b-767e-44f3-9da8-a79337281a86"
      },
      "outputs": [
        {
          "name": "stdout",
          "output_type": "stream",
          "text": [
            "<class 'pandas.core.frame.DataFrame'>\n",
            "RangeIndex: 13994 entries, 0 to 13993\n",
            "Data columns (total 30 columns):\n",
            " #   Column                     Non-Null Count  Dtype  \n",
            "---  ------                     --------------  -----  \n",
            " 0   player_id                  13994 non-null  object \n",
            " 1   name                       13994 non-null  object \n",
            " 2   age                        13994 non-null  int64  \n",
            " 3   gender                     13975 non-null  object \n",
            " 4   country                    13994 non-null  object \n",
            " 5   height                     13994 non-null  object \n",
            " 6   weight                     13577 non-null  object \n",
            " 7   ball_controlling_skills    13581 non-null  float64\n",
            " 8   body_reflexes              13994 non-null  float64\n",
            " 9   body_balance               13994 non-null  float64\n",
            " 10  jumping_skills             13970 non-null  float64\n",
            " 11  penalties_conversion_rate  13964 non-null  float64\n",
            " 12  mental_strength            13966 non-null  float64\n",
            " 13  goalkeeping_skills         13994 non-null  float64\n",
            " 14  defending_skills           13994 non-null  float64\n",
            " 15  passing_skills             13994 non-null  float64\n",
            " 16  dribbling_skills           13994 non-null  float64\n",
            " 17  shot_accuracy              13422 non-null  float64\n",
            " 18  body_strength_stamina      13994 non-null  float64\n",
            " 19  max_running_speed          13994 non-null  float64\n",
            " 20  strong_foot                13442 non-null  object \n",
            " 21  behaviour_rating           13291 non-null  float64\n",
            " 22  matches_played             13328 non-null  float64\n",
            " 23  fitness_rating             13299 non-null  float64\n",
            " 24  trophies_won               13994 non-null  float64\n",
            " 25  dedication_level           13994 non-null  object \n",
            " 26  coaching                   13869 non-null  object \n",
            " 27  years_of_experience        13850 non-null  float64\n",
            " 28  no_of_disqualifications    13994 non-null  float64\n",
            " 29  selection                  13994 non-null  int64  \n",
            "dtypes: float64(19), int64(2), object(9)\n",
            "memory usage: 3.2+ MB\n"
          ]
        }
      ],
      "source": [
        "data.info()"
      ]
    },
    {
      "cell_type": "code",
      "execution_count": 7,
      "metadata": {
        "colab": {
          "base_uri": "https://localhost:8080/"
        },
        "id": "izN3Kc_jbnv9",
        "outputId": "09082717-caab-4c1f-bfdb-57cac08d53c4"
      },
      "outputs": [
        {
          "data": {
            "text/plain": [
              "player_id                      0\n",
              "name                           0\n",
              "age                            0\n",
              "gender                        19\n",
              "country                        0\n",
              "height                         0\n",
              "weight                       417\n",
              "ball_controlling_skills      413\n",
              "body_reflexes                  0\n",
              "body_balance                   0\n",
              "jumping_skills                24\n",
              "penalties_conversion_rate     30\n",
              "mental_strength               28\n",
              "goalkeeping_skills             0\n",
              "defending_skills               0\n",
              "passing_skills                 0\n",
              "dribbling_skills               0\n",
              "shot_accuracy                572\n",
              "body_strength_stamina          0\n",
              "max_running_speed              0\n",
              "strong_foot                  552\n",
              "behaviour_rating             703\n",
              "matches_played               666\n",
              "fitness_rating               695\n",
              "trophies_won                   0\n",
              "dedication_level               0\n",
              "coaching                     125\n",
              "years_of_experience          144\n",
              "no_of_disqualifications        0\n",
              "selection                      0\n",
              "dtype: int64"
            ]
          },
          "execution_count": 7,
          "metadata": {},
          "output_type": "execute_result"
        }
      ],
      "source": [
        "data.isna().sum()"
      ]
    },
    {
      "cell_type": "code",
      "execution_count": null,
      "metadata": {
        "id": "mXZZFlNYcSCk"
      },
      "outputs": [],
      "source": []
    },
    {
      "cell_type": "markdown",
      "metadata": {
        "id": "ZSezuFfdbyxM"
      },
      "source": [
        "###EDA"
      ]
    },
    {
      "cell_type": "code",
      "execution_count": 8,
      "metadata": {
        "colab": {
          "base_uri": "https://localhost:8080/",
          "height": 445
        },
        "id": "GSn3OByJcPUD",
        "outputId": "728966a6-e13f-4733-ce12-0a5385f11ca5"
      },
      "outputs": [
        {
          "data": {
            "text/plain": [
              "<AxesSubplot:>"
            ]
          },
          "execution_count": 8,
          "metadata": {},
          "output_type": "execute_result"
        },
        {
          "data": {
            "image/png": "[encoded data removed]",
            "text/plain": [
              "<Figure size 640x480 with 1 Axes>"
            ]
          },
          "metadata": {},
          "output_type": "display_data"
        }
      ],
      "source": [
        "df = data[data['selection'] == 1]\n",
        "df['gender'].value_counts().plot.bar()\n"
      ]
    },
    {
      "cell_type": "markdown",
      "metadata": {
        "id": "t5-QmEnseqqM"
      },
      "source": [
        "The count of selected genders are looks same"
      ]
    },
    {
      "cell_type": "code",
      "execution_count": 9,
      "metadata": {
        "colab": {
          "base_uri": "https://localhost:8080/",
          "height": 423
        },
        "id": "raAkI_l1em5v",
        "outputId": "333323af-4c2c-4d1b-f410-3e52ba2bd19f"
      },
      "outputs": [
        {
          "data": {
            "text/plain": [
              "<AxesSubplot:ylabel='country'>"
            ]
          },
          "execution_count": 9,
          "metadata": {},
          "output_type": "execute_result"
        },
        {
          "data": {
            "image/png": "[encoded data removed]",
            "text/plain": [
              "<Figure size 640x480 with 1 Axes>"
            ]
          },
          "metadata": {},
          "output_type": "display_data"
        }
      ],
      "source": [
        "df['country'].value_counts().head(10).plot.pie()"
      ]
    },
    {
      "cell_type": "markdown",
      "metadata": {
        "id": "Hcct04hwfi1b"
      },
      "source": [
        "These are the top 10 selected countries"
      ]
    },
    {
      "cell_type": "code",
      "execution_count": 10,
      "metadata": {
        "id": "jtEL8HqPhGKJ"
      },
      "outputs": [],
      "source": [
        "temp = data.groupby('country')['trophies_won'].sum().sort_values(ascending=False)"
      ]
    },
    {
      "cell_type": "code",
      "execution_count": 11,
      "metadata": {
        "colab": {
          "base_uri": "https://localhost:8080/",
          "height": 543
        },
        "id": "FmUMuiI2iKja",
        "outputId": "6259f8b6-4537-4405-93eb-bb056c3060ea"
      },
      "outputs": [
        {
          "data": {
            "text/plain": [
              "Text(0, 0.5, 'Trophies Won')"
            ]
          },
          "execution_count": 11,
          "metadata": {},
          "output_type": "execute_result"
        },
        {
          "data": {
            "image/png": "[encoded data removed]",
            "text/plain": [
              "<Figure size 640x480 with 1 Axes>"
            ]
          },
          "metadata": {},
          "output_type": "display_data"
        }
      ],
      "source": [
        "temp.nlargest(10).plot.bar()\n",
        "plt.title('Country vs Trophies Won')\n",
        "plt.xlabel('Country')\n",
        "plt.ylabel('Trophies Won')"
      ]
    },
    {
      "cell_type": "markdown",
      "metadata": {
        "id": "zTvSuXDXikdL"
      },
      "source": [
        "These are the top 10 countries that won the most of the trophies"
      ]
    },
    {
      "cell_type": "markdown",
      "metadata": {
        "id": "hfKejH2hidrr"
      },
      "source": [
        "###Preprocessing"
      ]
    },
    {
      "cell_type": "code",
      "execution_count": 12,
      "metadata": {
        "colab": {
          "base_uri": "https://localhost:8080/"
        },
        "id": "VrGg6Kitk-ve",
        "outputId": "76f40168-9bb1-41c9-a4ec-17e18188c7b1"
      },
      "outputs": [
        {
          "data": {
            "text/plain": [
              "player_id                      0\n",
              "name                           0\n",
              "age                            0\n",
              "gender                        19\n",
              "country                        0\n",
              "height                         0\n",
              "weight                       417\n",
              "ball_controlling_skills      413\n",
              "body_reflexes                  0\n",
              "body_balance                   0\n",
              "jumping_skills                24\n",
              "penalties_conversion_rate     30\n",
              "mental_strength               28\n",
              "goalkeeping_skills             0\n",
              "defending_skills               0\n",
              "passing_skills                 0\n",
              "dribbling_skills               0\n",
              "shot_accuracy                572\n",
              "body_strength_stamina          0\n",
              "max_running_speed              0\n",
              "strong_foot                  552\n",
              "behaviour_rating             703\n",
              "matches_played               666\n",
              "fitness_rating               695\n",
              "trophies_won                   0\n",
              "dedication_level               0\n",
              "coaching                     125\n",
              "years_of_experience          144\n",
              "no_of_disqualifications        0\n",
              "selection                      0\n",
              "dtype: int64"
            ]
          },
          "execution_count": 12,
          "metadata": {},
          "output_type": "execute_result"
        }
      ],
      "source": [
        "data.isna().sum()"
      ]
    },
    {
      "cell_type": "code",
      "execution_count": 13,
      "metadata": {
        "colab": {
          "base_uri": "https://localhost:8080/",
          "height": 645
        },
        "id": "yxAEUPt6lE6e",
        "outputId": "9b26658d-8f16-473e-bd9b-be67df467376"
      },
      "outputs": [
        {
          "data": {
            "text/html": [
              "<div>\n",
              "<style scoped>\n",
              "    .dataframe tbody tr th:only-of-type {\n",
              "        vertical-align: middle;\n",
              "    }\n",
              "\n",
              "    .dataframe tbody tr th {\n",
              "        vertical-align: top;\n",
              "    }\n",
              "\n",
              "    .dataframe thead th {\n",
              "        text-align: right;\n",
              "    }\n",
              "</style>\n",
              "<table border=\"1\" class=\"dataframe\">\n",
              "  <thead>\n",
              "    <tr style=\"text-align: right;\">\n",
              "      <th></th>\n",
              "      <th>country</th>\n",
              "      <th>selection</th>\n",
              "      <th>gender</th>\n",
              "    </tr>\n",
              "  </thead>\n",
              "  <tbody>\n",
              "    <tr>\n",
              "      <th>2198</th>\n",
              "      <td>Denmark</td>\n",
              "      <td>0</td>\n",
              "      <td>NaN</td>\n",
              "    </tr>\n",
              "    <tr>\n",
              "      <th>3136</th>\n",
              "      <td>Peru</td>\n",
              "      <td>1</td>\n",
              "      <td>NaN</td>\n",
              "    </tr>\n",
              "    <tr>\n",
              "      <th>3206</th>\n",
              "      <td>Argentina</td>\n",
              "      <td>0</td>\n",
              "      <td>NaN</td>\n",
              "    </tr>\n",
              "    <tr>\n",
              "      <th>3654</th>\n",
              "      <td>Nigeria</td>\n",
              "      <td>1</td>\n",
              "      <td>NaN</td>\n",
              "    </tr>\n",
              "    <tr>\n",
              "      <th>3958</th>\n",
              "      <td>Germany</td>\n",
              "      <td>0</td>\n",
              "      <td>NaN</td>\n",
              "    </tr>\n",
              "    <tr>\n",
              "      <th>4397</th>\n",
              "      <td>France</td>\n",
              "      <td>1</td>\n",
              "      <td>NaN</td>\n",
              "    </tr>\n",
              "    <tr>\n",
              "      <th>4434</th>\n",
              "      <td>Switzerland</td>\n",
              "      <td>0</td>\n",
              "      <td>NaN</td>\n",
              "    </tr>\n",
              "    <tr>\n",
              "      <th>5141</th>\n",
              "      <td>Nigeria</td>\n",
              "      <td>1</td>\n",
              "      <td>NaN</td>\n",
              "    </tr>\n",
              "    <tr>\n",
              "      <th>6968</th>\n",
              "      <td>Belgium</td>\n",
              "      <td>1</td>\n",
              "      <td>NaN</td>\n",
              "    </tr>\n",
              "    <tr>\n",
              "      <th>9012</th>\n",
              "      <td>Argentina</td>\n",
              "      <td>0</td>\n",
              "      <td>NaN</td>\n",
              "    </tr>\n",
              "    <tr>\n",
              "      <th>9730</th>\n",
              "      <td>Australia</td>\n",
              "      <td>0</td>\n",
              "      <td>NaN</td>\n",
              "    </tr>\n",
              "    <tr>\n",
              "      <th>10219</th>\n",
              "      <td>Germany</td>\n",
              "      <td>1</td>\n",
              "      <td>NaN</td>\n",
              "    </tr>\n",
              "    <tr>\n",
              "      <th>10247</th>\n",
              "      <td>United States</td>\n",
              "      <td>1</td>\n",
              "      <td>NaN</td>\n",
              "    </tr>\n",
              "    <tr>\n",
              "      <th>10531</th>\n",
              "      <td>Brazil</td>\n",
              "      <td>0</td>\n",
              "      <td>NaN</td>\n",
              "    </tr>\n",
              "    <tr>\n",
              "      <th>10774</th>\n",
              "      <td>United States</td>\n",
              "      <td>1</td>\n",
              "      <td>NaN</td>\n",
              "    </tr>\n",
              "    <tr>\n",
              "      <th>12395</th>\n",
              "      <td>Mexico</td>\n",
              "      <td>1</td>\n",
              "      <td>NaN</td>\n",
              "    </tr>\n",
              "    <tr>\n",
              "      <th>12426</th>\n",
              "      <td>Scotland</td>\n",
              "      <td>1</td>\n",
              "      <td>NaN</td>\n",
              "    </tr>\n",
              "    <tr>\n",
              "      <th>13281</th>\n",
              "      <td>Austria</td>\n",
              "      <td>1</td>\n",
              "      <td>NaN</td>\n",
              "    </tr>\n",
              "    <tr>\n",
              "      <th>13316</th>\n",
              "      <td>Peru</td>\n",
              "      <td>1</td>\n",
              "      <td>NaN</td>\n",
              "    </tr>\n",
              "  </tbody>\n",
              "</table>\n",
              "</div>"
            ],
            "text/plain": [
              "             country  selection gender\n",
              "2198         Denmark          0    NaN\n",
              "3136            Peru          1    NaN\n",
              "3206       Argentina          0    NaN\n",
              "3654         Nigeria          1    NaN\n",
              "3958         Germany          0    NaN\n",
              "4397          France          1    NaN\n",
              "4434     Switzerland          0    NaN\n",
              "5141         Nigeria          1    NaN\n",
              "6968         Belgium          1    NaN\n",
              "9012       Argentina          0    NaN\n",
              "9730       Australia          0    NaN\n",
              "10219        Germany          1    NaN\n",
              "10247  United States          1    NaN\n",
              "10531         Brazil          0    NaN\n",
              "10774  United States          1    NaN\n",
              "12395         Mexico          1    NaN\n",
              "12426       Scotland          1    NaN\n",
              "13281        Austria          1    NaN\n",
              "13316           Peru          1    NaN"
            ]
          },
          "execution_count": 13,
          "metadata": {},
          "output_type": "execute_result"
        }
      ],
      "source": [
        "y = data[data['gender'].isnull()].copy()\n",
        "y[['country','selection','gender']]"
      ]
    },
    {
      "cell_type": "code",
      "execution_count": 14,
      "metadata": {
        "id": "X_xMV7EWmIaD"
      },
      "outputs": [],
      "source": [
        "def fillgender(text):\n",
        "    if pd.notna(text['gender']):\n",
        "        return text['gender']\n",
        "    else:\n",
        "        if len(data[(data['country'] == text['country']) & (data['selection'] == text['selection'])]['gender'].value_counts().index.tolist()) > 0:\n",
        "\n",
        "            return data[(data['country'] == text['country']) & (data['selection'] == text['selection'])]['gender'].value_counts().index.tolist()[0]\n"
      ]
    },
    {
      "cell_type": "code",
      "execution_count": 15,
      "metadata": {
        "id": "Am1iKwjrm2Ro"
      },
      "outputs": [],
      "source": [
        "data['gender'] = data.apply(fillgender,axis=1)"
      ]
    },
    {
      "cell_type": "markdown",
      "metadata": {
        "id": "ocLO25t8nGTL"
      },
      "source": [
        "Checked the country and selection when gender having null value and fill it with the mode of the gender that the corresponding country and selection"
      ]
    },
    {
      "cell_type": "code",
      "execution_count": 16,
      "metadata": {
        "colab": {
          "base_uri": "https://localhost:8080/"
        },
        "id": "PjlKaU6Pm_WI",
        "outputId": "571947d4-fd89-4dde-b744-f0465fd13441"
      },
      "outputs": [
        {
          "ename": "KeyError",
          "evalue": "'weight(lbs)'",
          "output_type": "error",
          "traceback": [
            "\u001b[0;31m---------------------------------------------------------------------------\u001b[0m",
            "\u001b[0;31mKeyError\u001b[0m                                  Traceback (most recent call last)",
            "File \u001b[0;32m~/.local/lib/python3.10/site-packages/pandas/core/indexes/base.py:3621\u001b[0m, in \u001b[0;36mIndex.get_loc\u001b[0;34m(self, key, method, tolerance)\u001b[0m\n\u001b[1;32m   3620\u001b[0m \u001b[39mtry\u001b[39;00m:\n\u001b[0;32m-> 3621\u001b[0m     \u001b[39mreturn\u001b[39;00m \u001b[39mself\u001b[39;49m\u001b[39m.\u001b[39;49m_engine\u001b[39m.\u001b[39;49mget_loc(casted_key)\n\u001b[1;32m   3622\u001b[0m \u001b[39mexcept\u001b[39;00m \u001b[39mKeyError\u001b[39;00m \u001b[39mas\u001b[39;00m err:\n",
            "File \u001b[0;32m~/.local/lib/python3.10/site-packages/pandas/_libs/index.pyx:136\u001b[0m, in \u001b[0;36mpandas._libs.index.IndexEngine.get_loc\u001b[0;34m()\u001b[0m\n",
            "File \u001b[0;32m~/.local/lib/python3.10/site-packages/pandas/_libs/index.pyx:163\u001b[0m, in \u001b[0;36mpandas._libs.index.IndexEngine.get_loc\u001b[0;34m()\u001b[0m\n",
            "File \u001b[0;32mpandas/_libs/hashtable_class_helper.pxi:5198\u001b[0m, in \u001b[0;36mpandas._libs.hashtable.PyObjectHashTable.get_item\u001b[0;34m()\u001b[0m\n",
            "File \u001b[0;32mpandas/_libs/hashtable_class_helper.pxi:5206\u001b[0m, in \u001b[0;36mpandas._libs.hashtable.PyObjectHashTable.get_item\u001b[0;34m()\u001b[0m\n",
            "\u001b[0;31mKeyError\u001b[0m: 'weight(lbs)'",
            "\nThe above exception was the direct cause of the following exception:\n",
            "\u001b[0;31mKeyError\u001b[0m                                  Traceback (most recent call last)",
            "Cell \u001b[0;32mIn[16], line 1\u001b[0m\n\u001b[0;32m----> 1\u001b[0m \u001b[43mdata\u001b[49m\u001b[43m[\u001b[49m\u001b[38;5;124;43m'\u001b[39;49m\u001b[38;5;124;43mweight(lbs)\u001b[39;49m\u001b[38;5;124;43m'\u001b[39;49m\u001b[43m]\u001b[49m\u001b[38;5;241m.\u001b[39mvalue_counts()\n",
            "File \u001b[0;32m~/.local/lib/python3.10/site-packages/pandas/core/frame.py:3505\u001b[0m, in \u001b[0;36mDataFrame.__getitem__\u001b[0;34m(self, key)\u001b[0m\n\u001b[1;32m   3503\u001b[0m \u001b[39mif\u001b[39;00m \u001b[39mself\u001b[39m\u001b[39m.\u001b[39mcolumns\u001b[39m.\u001b[39mnlevels \u001b[39m>\u001b[39m \u001b[39m1\u001b[39m:\n\u001b[1;32m   3504\u001b[0m     \u001b[39mreturn\u001b[39;00m \u001b[39mself\u001b[39m\u001b[39m.\u001b[39m_getitem_multilevel(key)\n\u001b[0;32m-> 3505\u001b[0m indexer \u001b[39m=\u001b[39m \u001b[39mself\u001b[39;49m\u001b[39m.\u001b[39;49mcolumns\u001b[39m.\u001b[39;49mget_loc(key)\n\u001b[1;32m   3506\u001b[0m \u001b[39mif\u001b[39;00m is_integer(indexer):\n\u001b[1;32m   3507\u001b[0m     indexer \u001b[39m=\u001b[39m [indexer]\n",
            "File \u001b[0;32m~/.local/lib/python3.10/site-packages/pandas/core/indexes/base.py:3623\u001b[0m, in \u001b[0;36mIndex.get_loc\u001b[0;34m(self, key, method, tolerance)\u001b[0m\n\u001b[1;32m   3621\u001b[0m     \u001b[39mreturn\u001b[39;00m \u001b[39mself\u001b[39m\u001b[39m.\u001b[39m_engine\u001b[39m.\u001b[39mget_loc(casted_key)\n\u001b[1;32m   3622\u001b[0m \u001b[39mexcept\u001b[39;00m \u001b[39mKeyError\u001b[39;00m \u001b[39mas\u001b[39;00m err:\n\u001b[0;32m-> 3623\u001b[0m     \u001b[39mraise\u001b[39;00m \u001b[39mKeyError\u001b[39;00m(key) \u001b[39mfrom\u001b[39;00m \u001b[39merr\u001b[39;00m\n\u001b[1;32m   3624\u001b[0m \u001b[39mexcept\u001b[39;00m \u001b[39mTypeError\u001b[39;00m:\n\u001b[1;32m   3625\u001b[0m     \u001b[39m# If we have a listlike key, _check_indexing_error will raise\u001b[39;00m\n\u001b[1;32m   3626\u001b[0m     \u001b[39m#  InvalidIndexError. Otherwise we fall through and re-raise\u001b[39;00m\n\u001b[1;32m   3627\u001b[0m     \u001b[39m#  the TypeError.\u001b[39;00m\n\u001b[1;32m   3628\u001b[0m     \u001b[39mself\u001b[39m\u001b[39m.\u001b[39m_check_indexing_error(key)\n",
            "\u001b[0;31mKeyError\u001b[0m: 'weight(lbs)'"
          ]
        }
      ],
      "source": [
        "data['weight(lbs)'].value_counts()"
      ]
    },
    {
      "cell_type": "code",
      "execution_count": null,
      "metadata": {
        "id": "b3ZSgJ6fnzCw"
      },
      "outputs": [],
      "source": [
        "data['weight(lbs)'] = data['weight'].str.replace('lbs', '').astype(float)\n",
        "data.drop('weight',axis=1,inplace=True)"
      ]
    },
    {
      "cell_type": "code",
      "execution_count": null,
      "metadata": {
        "id": "H9H5VwiioKgw"
      },
      "outputs": [],
      "source": [
        "data['weight(lbs)'].fillna(data['weight(lbs)'].mean(), inplace=True)"
      ]
    },
    {
      "cell_type": "markdown",
      "metadata": {
        "id": "22zZ127SrGew"
      },
      "source": [
        "Removed 'lbs' from the values and make it as a numerical column then filled the values with the mean"
      ]
    },
    {
      "cell_type": "code",
      "execution_count": null,
      "metadata": {
        "colab": {
          "base_uri": "https://localhost:8080/"
        },
        "id": "5ALci4FRp1-i",
        "outputId": "586991b6-9e45-4e25-865a-81607e4ce8a7"
      },
      "outputs": [
        {
          "data": {
            "text/plain": [
              "62.0    576\n",
              "64.0    575\n",
              "65.0    551\n",
              "60.0    540\n",
              "63.0    536\n",
              "       ... \n",
              "91.0      1\n",
              "94.0      1\n",
              "95.0      1\n",
              "5.0       1\n",
              "6.0       1\n",
              "Name: ball_controlling_skills, Length: 89, dtype: int64"
            ]
          },
          "execution_count": 45,
          "metadata": {},
          "output_type": "execute_result"
        }
      ],
      "source": [
        "data['ball_controlling_skills'].value_counts()"
      ]
    },
    {
      "cell_type": "code",
      "execution_count": null,
      "metadata": {
        "id": "ndQFHd_grbLu"
      },
      "outputs": [],
      "source": [
        "data['ball_controlling_skills'].fillna(data['ball_controlling_skills'].median(),inplace=True)"
      ]
    },
    {
      "cell_type": "markdown",
      "metadata": {
        "id": "TIl0WPT8vB4H"
      },
      "source": [
        "filled the column 'ball_controlling_skills' with median\n"
      ]
    },
    {
      "cell_type": "code",
      "execution_count": null,
      "metadata": {
        "id": "_kUR_uwwu8Bc"
      },
      "outputs": [],
      "source": [
        "data['jumping_skills'].fillna(data['jumping_skills'].median(),inplace=True)"
      ]
    },
    {
      "cell_type": "markdown",
      "metadata": {
        "id": "NwWPOXyGvhNR"
      },
      "source": [
        "filled the column 'jumping_skills' with median"
      ]
    },
    {
      "cell_type": "code",
      "execution_count": null,
      "metadata": {
        "id": "LziB9_XzvfJR"
      },
      "outputs": [],
      "source": [
        "data['penalties_conversion_rate'].fillna(data['penalties_conversion_rate'].median(),inplace=True)"
      ]
    },
    {
      "cell_type": "markdown",
      "metadata": {
        "id": "ag3md0g1v8k7"
      },
      "source": [
        "filled the column 'penalties_conversion_rate' with median"
      ]
    },
    {
      "cell_type": "code",
      "execution_count": null,
      "metadata": {
        "id": "QMY-EJltxBqk"
      },
      "outputs": [],
      "source": [
        "data['mental_strength'].fillna(data['mental_strength'].median(),inplace=True)"
      ]
    },
    {
      "cell_type": "markdown",
      "metadata": {
        "id": "MQ1hgDKxxa4C"
      },
      "source": [
        "filled the column 'mental_strength' with median"
      ]
    },
    {
      "cell_type": "code",
      "execution_count": null,
      "metadata": {
        "id": "yfIadhGkxiZc"
      },
      "outputs": [],
      "source": [
        "data['shot_accuracy'].fillna(data['shot_accuracy'].median(),inplace=True)"
      ]
    },
    {
      "cell_type": "markdown",
      "metadata": {
        "id": "uMn0UEWpyPK-"
      },
      "source": [
        "filled the column 'shot_accuracy' with median"
      ]
    },
    {
      "cell_type": "code",
      "execution_count": null,
      "metadata": {
        "colab": {
          "base_uri": "https://localhost:8080/"
        },
        "id": "NxV8MKjhy1QI",
        "outputId": "2036f685-66a9-493e-91f6-f8e83dc41481"
      },
      "outputs": [
        {
          "data": {
            "text/plain": [
              "player_id                    0\n",
              "name                         0\n",
              "age                          0\n",
              "gender                       0\n",
              "country                      0\n",
              "height                       0\n",
              "ball_controlling_skills      0\n",
              "body_reflexes                0\n",
              "body_balance                 0\n",
              "jumping_skills               0\n",
              "penalties_conversion_rate    0\n",
              "mental_strength              0\n",
              "goalkeeping_skills           0\n",
              "defending_skills             0\n",
              "passing_skills               0\n",
              "dribbling_skills             0\n",
              "shot_accuracy                0\n",
              "body_strength_stamina        0\n",
              "max_running_speed            0\n",
              "strong_foot                  0\n",
              "behaviour_rating             0\n",
              "matches_played               0\n",
              "fitness_rating               0\n",
              "trophies_won                 0\n",
              "dedication_level             0\n",
              "coaching                     0\n",
              "years_of_experience          0\n",
              "no_of_disqualifications      0\n",
              "selection                    0\n",
              "weight(lbs)                  0\n",
              "dtype: int64"
            ]
          },
          "execution_count": 72,
          "metadata": {},
          "output_type": "execute_result"
        }
      ],
      "source": [
        "data.isna().sum()"
      ]
    },
    {
      "cell_type": "code",
      "execution_count": null,
      "metadata": {
        "id": "vguS5d2cyTgu"
      },
      "outputs": [],
      "source": [
        "l = ['behaviour_rating','matches_played','fitness_rating','years_of_experience']"
      ]
    },
    {
      "cell_type": "code",
      "execution_count": null,
      "metadata": {
        "id": "RNbuzM3YzFT6"
      },
      "outputs": [],
      "source": [
        "for i in l:\n",
        "  data[i].fillna(data[i].median(),inplace=True)"
      ]
    },
    {
      "cell_type": "markdown",
      "metadata": {
        "id": "kKA_EnTfzp7T"
      },
      "source": [
        "Filled all numericall columns with median"
      ]
    },
    {
      "cell_type": "code",
      "execution_count": null,
      "metadata": {
        "id": "gUtmy68YzuO7"
      },
      "outputs": [],
      "source": [
        "def fillfoot(text):\n",
        "    if pd.notna(text['strong_foot']):\n",
        "        return text['strong_foot']\n",
        "    else:\n",
        "        if len(data[(data['gender'] == text['gender']) & (data['selection'] == text['selection'])]['gender'].value_counts().index.tolist()) > 0:\n",
        "\n",
        "            return data[(data['gender'] == text['gender']) & (data['selection'] == text['selection'])]['gender'].value_counts().index.tolist()[0]\n"
      ]
    },
    {
      "cell_type": "code",
      "execution_count": null,
      "metadata": {
        "id": "nJWzIBSP0ILl"
      },
      "outputs": [],
      "source": [
        "data['strong_foot'] = data.apply(fillfoot,axis=1)"
      ]
    },
    {
      "cell_type": "markdown",
      "metadata": {
        "id": "dRBIv8Lz0VGM"
      },
      "source": [
        "Checked the gender and selection when gender having null value and fill it with the mode of the strong_foot that the corresponding country and selection"
      ]
    },
    {
      "cell_type": "code",
      "execution_count": null,
      "metadata": {
        "id": "FP5evJ2l0PMT"
      },
      "outputs": [],
      "source": [
        "def fillcoach(text):\n",
        "    if pd.notna(text['coaching']):\n",
        "        return text['coaching']\n",
        "    else:\n",
        "        if len(data[(data['gender'] == text['gender']) & (data['selection'] == text['selection'])]['gender'].value_counts().index.tolist()) > 0:\n",
        "\n",
        "            return data[(data['gender'] == text['gender']) & (data['selection'] == text['selection'])]['gender'].value_counts().index.tolist()[0]\n"
      ]
    },
    {
      "cell_type": "code",
      "execution_count": null,
      "metadata": {
        "id": "V5nd0JsI02PT"
      },
      "outputs": [],
      "source": [
        "data['coaching'] = data.apply(fillcoach,axis=1)"
      ]
    },
    {
      "cell_type": "markdown",
      "metadata": {
        "id": "fb67mBOC1Bdg"
      },
      "source": [
        "Checked the gender and selection when gender having null value and fill it with the mode of the coaching that the corresponding country and selection"
      ]
    },
    {
      "cell_type": "markdown",
      "metadata": {
        "id": "B1OUKy5y09Iy"
      },
      "source": [
        "###Encoding"
      ]
    },
    {
      "cell_type": "code",
      "execution_count": null,
      "metadata": {
        "colab": {
          "base_uri": "https://localhost:8080/"
        },
        "id": "UhZFgooT1Jv8",
        "outputId": "21d72bb7-3875-4890-e59f-fca00b542cb0"
      },
      "outputs": [
        {
          "data": {
            "text/plain": [
              "Other        8623\n",
              "England      1157\n",
              "Germany       838\n",
              "Spain         796\n",
              "France        734\n",
              "Argentina     691\n",
              "Brazil        588\n",
              "Italy         567\n",
              "Name: country, dtype: int64"
            ]
          },
          "execution_count": 78,
          "metadata": {},
          "output_type": "execute_result"
        }
      ],
      "source": [
        "data['country'].value_counts().head(10)"
      ]
    },
    {
      "cell_type": "code",
      "execution_count": null,
      "metadata": {
        "id": "wmeOYaT11X5_"
      },
      "outputs": [],
      "source": [
        "other_country = data['country'].value_counts().to_dict()\n",
        "other_count=[]\n",
        "for key,val in other_country.items():\n",
        "    if val<=500:\n",
        "        other_count.append(key)"
      ]
    },
    {
      "cell_type": "code",
      "execution_count": null,
      "metadata": {
        "colab": {
          "base_uri": "https://localhost:8080/"
        },
        "id": "0NR__QNx2p-b",
        "outputId": "14fe6db0-f73d-448b-a1f3-4f9cb31755d2"
      },
      "outputs": [
        {
          "name": "stdout",
          "output_type": "stream",
          "text": [
            "<class 'pandas.core.frame.DataFrame'>\n",
            "RangeIndex: 13994 entries, 0 to 13993\n",
            "Data columns (total 30 columns):\n",
            " #   Column                     Non-Null Count  Dtype  \n",
            "---  ------                     --------------  -----  \n",
            " 0   player_id                  13994 non-null  object \n",
            " 1   name                       13994 non-null  object \n",
            " 2   age                        13994 non-null  int64  \n",
            " 3   gender                     13994 non-null  object \n",
            " 4   country                    13994 non-null  object \n",
            " 5   height                     13994 non-null  float64\n",
            " 6   ball_controlling_skills    13994 non-null  float64\n",
            " 7   body_reflexes              13994 non-null  float64\n",
            " 8   body_balance               13994 non-null  float64\n",
            " 9   jumping_skills             13994 non-null  float64\n",
            " 10  penalties_conversion_rate  13994 non-null  float64\n",
            " 11  mental_strength            13994 non-null  float64\n",
            " 12  goalkeeping_skills         13994 non-null  float64\n",
            " 13  defending_skills           13994 non-null  float64\n",
            " 14  passing_skills             13994 non-null  float64\n",
            " 15  dribbling_skills           13994 non-null  float64\n",
            " 16  shot_accuracy              13994 non-null  float64\n",
            " 17  body_strength_stamina      13994 non-null  float64\n",
            " 18  max_running_speed          13994 non-null  float64\n",
            " 19  strong_foot                13994 non-null  object \n",
            " 20  behaviour_rating           13994 non-null  float64\n",
            " 21  matches_played             13994 non-null  float64\n",
            " 22  fitness_rating             13994 non-null  float64\n",
            " 23  trophies_won               13994 non-null  float64\n",
            " 24  dedication_level           13994 non-null  object \n",
            " 25  coaching                   13994 non-null  object \n",
            " 26  years_of_experience        13994 non-null  float64\n",
            " 27  no_of_disqualifications    13994 non-null  float64\n",
            " 28  selection                  13994 non-null  int64  \n",
            " 29  weight(lbs)                13994 non-null  float64\n",
            "dtypes: float64(21), int64(2), object(7)\n",
            "memory usage: 3.2+ MB\n"
          ]
        }
      ],
      "source": [
        "data.info()"
      ]
    },
    {
      "cell_type": "code",
      "execution_count": null,
      "metadata": {
        "id": "crmfmqsr1yio"
      },
      "outputs": [],
      "source": [
        "data['country'] = data['country'].replace(other_count,'Other')"
      ]
    },
    {
      "cell_type": "code",
      "execution_count": null,
      "metadata": {
        "id": "XDCswx0A2M0M"
      },
      "outputs": [],
      "source": [
        "data['height'] = data['height'].str.replace(\"'\", \".\").astype(float)"
      ]
    },
    {
      "cell_type": "code",
      "execution_count": null,
      "metadata": {
        "colab": {
          "base_uri": "https://localhost:8080/"
        },
        "id": "TR6uOERa37gM",
        "outputId": "4f479074-f2f4-47d7-c711-121b5af9836c"
      },
      "outputs": [
        {
          "data": {
            "text/plain": [
              "(13994, 28)"
            ]
          },
          "execution_count": 97,
          "metadata": {},
          "output_type": "execute_result"
        }
      ],
      "source": [
        "data.shape"
      ]
    },
    {
      "cell_type": "code",
      "execution_count": null,
      "metadata": {
        "id": "_mouvJwV4LBO"
      },
      "outputs": [],
      "source": [
        "data = data.drop('player_id',axis=1)"
      ]
    },
    {
      "cell_type": "code",
      "execution_count": null,
      "metadata": {
        "id": "7_JKB2G04pzr"
      },
      "outputs": [],
      "source": [
        "data = data.drop('name',axis=1)"
      ]
    },
    {
      "cell_type": "code",
      "execution_count": null,
      "metadata": {
        "id": "pnH8k9WQ5aha"
      },
      "outputs": [],
      "source": [
        "from sklearn.preprocessing import LabelEncoder"
      ]
    },
    {
      "cell_type": "code",
      "execution_count": null,
      "metadata": {
        "id": "yN3whjJG6QYC"
      },
      "outputs": [],
      "source": [
        "label_encoder = LabelEncoder()"
      ]
    },
    {
      "cell_type": "code",
      "execution_count": null,
      "metadata": {
        "colab": {
          "base_uri": "https://localhost:8080/"
        },
        "id": "8t0udJnW6ZCb",
        "outputId": "3317d54f-64c1-41f7-9fce-87eabf6b3f3f"
      },
      "outputs": [
        {
          "name": "stdout",
          "output_type": "stream",
          "text": [
            "<class 'pandas.core.frame.DataFrame'>\n",
            "RangeIndex: 13994 entries, 0 to 13993\n",
            "Data columns (total 28 columns):\n",
            " #   Column                     Non-Null Count  Dtype  \n",
            "---  ------                     --------------  -----  \n",
            " 0   age                        13994 non-null  int64  \n",
            " 1   gender                     13994 non-null  object \n",
            " 2   country                    13994 non-null  object \n",
            " 3   height                     13994 non-null  float64\n",
            " 4   ball_controlling_skills    13994 non-null  float64\n",
            " 5   body_reflexes              13994 non-null  float64\n",
            " 6   body_balance               13994 non-null  float64\n",
            " 7   jumping_skills             13994 non-null  float64\n",
            " 8   penalties_conversion_rate  13994 non-null  float64\n",
            " 9   mental_strength            13994 non-null  float64\n",
            " 10  goalkeeping_skills         13994 non-null  float64\n",
            " 11  defending_skills           13994 non-null  float64\n",
            " 12  passing_skills             13994 non-null  float64\n",
            " 13  dribbling_skills           13994 non-null  float64\n",
            " 14  shot_accuracy              13994 non-null  float64\n",
            " 15  body_strength_stamina      13994 non-null  float64\n",
            " 16  max_running_speed          13994 non-null  float64\n",
            " 17  strong_foot                13994 non-null  object \n",
            " 18  behaviour_rating           13994 non-null  float64\n",
            " 19  matches_played             13994 non-null  float64\n",
            " 20  fitness_rating             13994 non-null  float64\n",
            " 21  trophies_won               13994 non-null  float64\n",
            " 22  dedication_level           13994 non-null  object \n",
            " 23  coaching                   13994 non-null  object \n",
            " 24  years_of_experience        13994 non-null  float64\n",
            " 25  no_of_disqualifications    13994 non-null  float64\n",
            " 26  selection                  13994 non-null  int64  \n",
            " 27  weight(lbs)                13994 non-null  float64\n",
            "dtypes: float64(21), int64(2), object(5)\n",
            "memory usage: 3.0+ MB\n"
          ]
        }
      ],
      "source": [
        "data.info()"
      ]
    },
    {
      "cell_type": "code",
      "execution_count": null,
      "metadata": {
        "id": "cR0iksW66Uzx"
      },
      "outputs": [],
      "source": [
        "le = ['coaching','dedication_level','strong_foot']"
      ]
    },
    {
      "cell_type": "code",
      "execution_count": null,
      "metadata": {
        "id": "49h6lJBt7KeK"
      },
      "outputs": [],
      "source": [
        "data.drop('country',axis=1,inplace=True)"
      ]
    },
    {
      "cell_type": "code",
      "execution_count": null,
      "metadata": {
        "id": "GvVd9DGf6wxt"
      },
      "outputs": [],
      "source": [
        "for i in le:\n",
        "  data[i] = label_encoder.fit_transform(data[i])"
      ]
    },
    {
      "cell_type": "code",
      "execution_count": null,
      "metadata": {
        "colab": {
          "base_uri": "https://localhost:8080/",
          "height": 255
        },
        "id": "yBFn8XZN69CT",
        "outputId": "32d2cfb1-86c2-4c53-b5d9-cbbf382ecbf6"
      },
      "outputs": [
        {
          "data": {
            "text/html": [
              "\n",
              "  <div id=\"df-073226bc-e1f1-4c97-911f-9db37af49d88\" class=\"colab-df-container\">\n",
              "    <div>\n",
              "<style scoped>\n",
              "    .dataframe tbody tr th:only-of-type {\n",
              "        vertical-align: middle;\n",
              "    }\n",
              "\n",
              "    .dataframe tbody tr th {\n",
              "        vertical-align: top;\n",
              "    }\n",
              "\n",
              "    .dataframe thead th {\n",
              "        text-align: right;\n",
              "    }\n",
              "</style>\n",
              "<table border=\"1\" class=\"dataframe\">\n",
              "  <thead>\n",
              "    <tr style=\"text-align: right;\">\n",
              "      <th></th>\n",
              "      <th>age</th>\n",
              "      <th>gender</th>\n",
              "      <th>height</th>\n",
              "      <th>ball_controlling_skills</th>\n",
              "      <th>body_reflexes</th>\n",
              "      <th>body_balance</th>\n",
              "      <th>jumping_skills</th>\n",
              "      <th>penalties_conversion_rate</th>\n",
              "      <th>mental_strength</th>\n",
              "      <th>goalkeeping_skills</th>\n",
              "      <th>...</th>\n",
              "      <th>behaviour_rating</th>\n",
              "      <th>matches_played</th>\n",
              "      <th>fitness_rating</th>\n",
              "      <th>trophies_won</th>\n",
              "      <th>dedication_level</th>\n",
              "      <th>coaching</th>\n",
              "      <th>years_of_experience</th>\n",
              "      <th>no_of_disqualifications</th>\n",
              "      <th>selection</th>\n",
              "      <th>weight(lbs)</th>\n",
              "    </tr>\n",
              "  </thead>\n",
              "  <tbody>\n",
              "    <tr>\n",
              "      <th>0</th>\n",
              "      <td>23</td>\n",
              "      <td>M</td>\n",
              "      <td>6.20</td>\n",
              "      <td>77.0</td>\n",
              "      <td>58.0</td>\n",
              "      <td>47.0</td>\n",
              "      <td>59.0</td>\n",
              "      <td>41.0</td>\n",
              "      <td>73.0</td>\n",
              "      <td>13.0</td>\n",
              "      <td>...</td>\n",
              "      <td>7.7</td>\n",
              "      <td>0.0</td>\n",
              "      <td>8.1</td>\n",
              "      <td>2.0</td>\n",
              "      <td>0</td>\n",
              "      <td>4</td>\n",
              "      <td>8.0</td>\n",
              "      <td>0.0</td>\n",
              "      <td>1</td>\n",
              "      <td>176.0</td>\n",
              "    </tr>\n",
              "    <tr>\n",
              "      <th>1</th>\n",
              "      <td>18</td>\n",
              "      <td>M</td>\n",
              "      <td>5.10</td>\n",
              "      <td>54.0</td>\n",
              "      <td>69.0</td>\n",
              "      <td>70.0</td>\n",
              "      <td>62.0</td>\n",
              "      <td>53.0</td>\n",
              "      <td>43.0</td>\n",
              "      <td>10.0</td>\n",
              "      <td>...</td>\n",
              "      <td>5.3</td>\n",
              "      <td>0.0</td>\n",
              "      <td>6.8</td>\n",
              "      <td>3.0</td>\n",
              "      <td>2</td>\n",
              "      <td>3</td>\n",
              "      <td>3.0</td>\n",
              "      <td>0.0</td>\n",
              "      <td>0</td>\n",
              "      <td>148.0</td>\n",
              "    </tr>\n",
              "    <tr>\n",
              "      <th>2</th>\n",
              "      <td>16</td>\n",
              "      <td>F</td>\n",
              "      <td>6.20</td>\n",
              "      <td>34.0</td>\n",
              "      <td>43.0</td>\n",
              "      <td>45.0</td>\n",
              "      <td>69.0</td>\n",
              "      <td>49.0</td>\n",
              "      <td>45.0</td>\n",
              "      <td>10.0</td>\n",
              "      <td>...</td>\n",
              "      <td>4.7</td>\n",
              "      <td>0.0</td>\n",
              "      <td>6.6</td>\n",
              "      <td>5.0</td>\n",
              "      <td>1</td>\n",
              "      <td>0</td>\n",
              "      <td>2.0</td>\n",
              "      <td>0.0</td>\n",
              "      <td>1</td>\n",
              "      <td>172.0</td>\n",
              "    </tr>\n",
              "    <tr>\n",
              "      <th>3</th>\n",
              "      <td>27</td>\n",
              "      <td>M</td>\n",
              "      <td>5.11</td>\n",
              "      <td>79.0</td>\n",
              "      <td>73.0</td>\n",
              "      <td>76.0</td>\n",
              "      <td>86.0</td>\n",
              "      <td>81.0</td>\n",
              "      <td>80.0</td>\n",
              "      <td>3.0</td>\n",
              "      <td>...</td>\n",
              "      <td>8.6</td>\n",
              "      <td>113.0</td>\n",
              "      <td>8.6</td>\n",
              "      <td>6.0</td>\n",
              "      <td>2</td>\n",
              "      <td>0</td>\n",
              "      <td>13.0</td>\n",
              "      <td>16.0</td>\n",
              "      <td>1</td>\n",
              "      <td>165.0</td>\n",
              "    </tr>\n",
              "    <tr>\n",
              "      <th>4</th>\n",
              "      <td>19</td>\n",
              "      <td>F</td>\n",
              "      <td>5.80</td>\n",
              "      <td>47.0</td>\n",
              "      <td>61.0</td>\n",
              "      <td>74.0</td>\n",
              "      <td>57.0</td>\n",
              "      <td>49.0</td>\n",
              "      <td>35.0</td>\n",
              "      <td>9.0</td>\n",
              "      <td>...</td>\n",
              "      <td>5.9</td>\n",
              "      <td>0.0</td>\n",
              "      <td>5.7</td>\n",
              "      <td>5.0</td>\n",
              "      <td>2</td>\n",
              "      <td>0</td>\n",
              "      <td>4.0</td>\n",
              "      <td>0.0</td>\n",
              "      <td>0</td>\n",
              "      <td>158.0</td>\n",
              "    </tr>\n",
              "  </tbody>\n",
              "</table>\n",
              "<p>5 rows × 27 columns</p>\n",
              "</div>\n",
              "    <div class=\"colab-df-buttons\">\n",
              "\n",
              "  <div class=\"colab-df-container\">\n",
              "    <button class=\"colab-df-convert\" onclick=\"convertToInteractive('df-073226bc-e1f1-4c97-911f-9db37af49d88')\"\n",
              "            title=\"Convert this dataframe to an interactive table.\"\n",
              "            style=\"display:none;\">\n",
              "\n",
              "  <svg xmlns=\"http://www.w3.org/2000/svg\" height=\"24px\" viewBox=\"0 -960 960 960\">\n",
              "    <path d=\"M120-120v-720h720v720H120Zm60-500h600v-160H180v160Zm220 220h160v-160H400v160Zm0 220h160v-160H400v160ZM180-400h160v-160H180v160Zm440 0h160v-160H620v160ZM180-180h160v-160H180v160Zm440 0h160v-160H620v160Z\"/>\n",
              "  </svg>\n",
              "    </button>\n",
              "\n",
              "  <style>\n",
              "    .colab-df-container {\n",
              "      display:flex;\n",
              "      gap: 12px;\n",
              "    }\n",
              "\n",
              "    .colab-df-convert {\n",
              "      background-color: #E8F0FE;\n",
              "      border: none;\n",
              "      border-radius: 50%;\n",
              "      cursor: pointer;\n",
              "      display: none;\n",
              "      fill: #1967D2;\n",
              "      height: 32px;\n",
              "      padding: 0 0 0 0;\n",
              "      width: 32px;\n",
              "    }\n",
              "\n",
              "    .colab-df-convert:hover {\n",
              "      background-color: #E2EBFA;\n",
              "      box-shadow: 0px 1px 2px rgba(60, 64, 67, 0.3), 0px 1px 3px 1px rgba(60, 64, 67, 0.15);\n",
              "      fill: #174EA6;\n",
              "    }\n",
              "\n",
              "    .colab-df-buttons div {\n",
              "      margin-bottom: 4px;\n",
              "    }\n",
              "\n",
              "    [theme=dark] .colab-df-convert {\n",
              "      background-color: #3B4455;\n",
              "      fill: #D2E3FC;\n",
              "    }\n",
              "\n",
              "    [theme=dark] .colab-df-convert:hover {\n",
              "      background-color: #434B5C;\n",
              "      box-shadow: 0px 1px 3px 1px rgba(0, 0, 0, 0.15);\n",
              "      filter: drop-shadow(0px 1px 2px rgba(0, 0, 0, 0.3));\n",
              "      fill: #FFFFFF;\n",
              "    }\n",
              "  </style>\n",
              "\n",
              "    <script>\n",
              "      const buttonEl =\n",
              "        document.querySelector('#df-073226bc-e1f1-4c97-911f-9db37af49d88 button.colab-df-convert');\n",
              "      buttonEl.style.display =\n",
              "        google.colab.kernel.accessAllowed ? 'block' : 'none';\n",
              "\n",
              "      async function convertToInteractive(key) {\n",
              "        const element = document.querySelector('#df-073226bc-e1f1-4c97-911f-9db37af49d88');\n",
              "        const dataTable =\n",
              "          await google.colab.kernel.invokeFunction('convertToInteractive',\n",
              "                                                    [key], {});\n",
              "        if (!dataTable) return;\n",
              "\n",
              "        const docLinkHtml = 'Like what you see? Visit the ' +\n",
              "          '<a target=\"_blank\" href=https://colab.research.google.com/notebooks/data_table.ipynb>data table notebook</a>'\n",
              "          + ' to learn more about interactive tables.';\n",
              "        element.innerHTML = '';\n",
              "        dataTable['output_type'] = 'display_data';\n",
              "        await google.colab.output.renderOutput(dataTable, element);\n",
              "        const docLink = document.createElement('div');\n",
              "        docLink.innerHTML = docLinkHtml;\n",
              "        element.appendChild(docLink);\n",
              "      }\n",
              "    </script>\n",
              "  </div>\n",
              "\n",
              "\n",
              "<div id=\"df-ce6f1b7a-9156-4f5a-adbc-d4369960f400\">\n",
              "  <button class=\"colab-df-quickchart\" onclick=\"quickchart('df-ce6f1b7a-9156-4f5a-adbc-d4369960f400')\"\n",
              "            title=\"Suggest charts.\"\n",
              "            style=\"display:none;\">\n",
              "\n",
              "<svg xmlns=\"http://www.w3.org/2000/svg\" height=\"24px\"viewBox=\"0 0 24 24\"\n",
              "     width=\"24px\">\n",
              "    <g>\n",
              "        <path d=\"M19 3H5c-1.1 0-2 .9-2 2v14c0 1.1.9 2 2 2h14c1.1 0 2-.9 2-2V5c0-1.1-.9-2-2-2zM9 17H7v-7h2v7zm4 0h-2V7h2v10zm4 0h-2v-4h2v4z\"/>\n",
              "    </g>\n",
              "</svg>\n",
              "  </button>\n",
              "\n",
              "<style>\n",
              "  .colab-df-quickchart {\n",
              "    background-color: #E8F0FE;\n",
              "    border: none;\n",
              "    border-radius: 50%;\n",
              "    cursor: pointer;\n",
              "    display: none;\n",
              "    fill: #1967D2;\n",
              "    height: 32px;\n",
              "    padding: 0 0 0 0;\n",
              "    width: 32px;\n",
              "  }\n",
              "\n",
              "  .colab-df-quickchart:hover {\n",
              "    background-color: #E2EBFA;\n",
              "    box-shadow: 0px 1px 2px rgba(60, 64, 67, 0.3), 0px 1px 3px 1px rgba(60, 64, 67, 0.15);\n",
              "    fill: #174EA6;\n",
              "  }\n",
              "\n",
              "  [theme=dark] .colab-df-quickchart {\n",
              "    background-color: #3B4455;\n",
              "    fill: #D2E3FC;\n",
              "  }\n",
              "\n",
              "  [theme=dark] .colab-df-quickchart:hover {\n",
              "    background-color: #434B5C;\n",
              "    box-shadow: 0px 1px 3px 1px rgba(0, 0, 0, 0.15);\n",
              "    filter: drop-shadow(0px 1px 2px rgba(0, 0, 0, 0.3));\n",
              "    fill: #FFFFFF;\n",
              "  }\n",
              "</style>\n",
              "\n",
              "  <script>\n",
              "    async function quickchart(key) {\n",
              "      const charts = await google.colab.kernel.invokeFunction(\n",
              "          'suggestCharts', [key], {});\n",
              "    }\n",
              "    (() => {\n",
              "      let quickchartButtonEl =\n",
              "        document.querySelector('#df-ce6f1b7a-9156-4f5a-adbc-d4369960f400 button');\n",
              "      quickchartButtonEl.style.display =\n",
              "        google.colab.kernel.accessAllowed ? 'block' : 'none';\n",
              "    })();\n",
              "  </script>\n",
              "</div>\n",
              "    </div>\n",
              "  </div>\n"
            ],
            "text/plain": [
              "   age gender  height  ball_controlling_skills  body_reflexes  body_balance  \\\n",
              "0   23      M    6.20                     77.0           58.0          47.0   \n",
              "1   18      M    5.10                     54.0           69.0          70.0   \n",
              "2   16      F    6.20                     34.0           43.0          45.0   \n",
              "3   27      M    5.11                     79.0           73.0          76.0   \n",
              "4   19      F    5.80                     47.0           61.0          74.0   \n",
              "\n",
              "   jumping_skills  penalties_conversion_rate  mental_strength  \\\n",
              "0            59.0                       41.0             73.0   \n",
              "1            62.0                       53.0             43.0   \n",
              "2            69.0                       49.0             45.0   \n",
              "3            86.0                       81.0             80.0   \n",
              "4            57.0                       49.0             35.0   \n",
              "\n",
              "   goalkeeping_skills  ...  behaviour_rating  matches_played  fitness_rating  \\\n",
              "0                13.0  ...               7.7             0.0             8.1   \n",
              "1                10.0  ...               5.3             0.0             6.8   \n",
              "2                10.0  ...               4.7             0.0             6.6   \n",
              "3                 3.0  ...               8.6           113.0             8.6   \n",
              "4                 9.0  ...               5.9             0.0             5.7   \n",
              "\n",
              "   trophies_won  dedication_level  coaching  years_of_experience  \\\n",
              "0           2.0                 0         4                  8.0   \n",
              "1           3.0                 2         3                  3.0   \n",
              "2           5.0                 1         0                  2.0   \n",
              "3           6.0                 2         0                 13.0   \n",
              "4           5.0                 2         0                  4.0   \n",
              "\n",
              "   no_of_disqualifications  selection  weight(lbs)  \n",
              "0                      0.0          1        176.0  \n",
              "1                      0.0          0        148.0  \n",
              "2                      0.0          1        172.0  \n",
              "3                     16.0          1        165.0  \n",
              "4                      0.0          0        158.0  \n",
              "\n",
              "[5 rows x 27 columns]"
            ]
          },
          "execution_count": 108,
          "metadata": {},
          "output_type": "execute_result"
        }
      ],
      "source": [
        "data.head()"
      ]
    },
    {
      "cell_type": "code",
      "execution_count": null,
      "metadata": {
        "id": "GVtxiDWF7BS5"
      },
      "outputs": [],
      "source": [
        "dataf = pd.get_dummies(data)"
      ]
    },
    {
      "cell_type": "code",
      "execution_count": null,
      "metadata": {
        "colab": {
          "base_uri": "https://localhost:8080/",
          "height": 255
        },
        "id": "apVjZsof7Wtr",
        "outputId": "cf0cc3dd-17a7-4dee-c6d7-19b21cf82bc4"
      },
      "outputs": [
        {
          "data": {
            "text/html": [
              "\n",
              "  <div id=\"df-8cdfdce9-5dde-4027-9d75-faa8ae95b7a5\" class=\"colab-df-container\">\n",
              "    <div>\n",
              "<style scoped>\n",
              "    .dataframe tbody tr th:only-of-type {\n",
              "        vertical-align: middle;\n",
              "    }\n",
              "\n",
              "    .dataframe tbody tr th {\n",
              "        vertical-align: top;\n",
              "    }\n",
              "\n",
              "    .dataframe thead th {\n",
              "        text-align: right;\n",
              "    }\n",
              "</style>\n",
              "<table border=\"1\" class=\"dataframe\">\n",
              "  <thead>\n",
              "    <tr style=\"text-align: right;\">\n",
              "      <th></th>\n",
              "      <th>age</th>\n",
              "      <th>height</th>\n",
              "      <th>ball_controlling_skills</th>\n",
              "      <th>body_reflexes</th>\n",
              "      <th>body_balance</th>\n",
              "      <th>jumping_skills</th>\n",
              "      <th>penalties_conversion_rate</th>\n",
              "      <th>mental_strength</th>\n",
              "      <th>goalkeeping_skills</th>\n",
              "      <th>defending_skills</th>\n",
              "      <th>...</th>\n",
              "      <th>fitness_rating</th>\n",
              "      <th>trophies_won</th>\n",
              "      <th>dedication_level</th>\n",
              "      <th>coaching</th>\n",
              "      <th>years_of_experience</th>\n",
              "      <th>no_of_disqualifications</th>\n",
              "      <th>selection</th>\n",
              "      <th>weight(lbs)</th>\n",
              "      <th>gender_F</th>\n",
              "      <th>gender_M</th>\n",
              "    </tr>\n",
              "  </thead>\n",
              "  <tbody>\n",
              "    <tr>\n",
              "      <th>0</th>\n",
              "      <td>23</td>\n",
              "      <td>6.20</td>\n",
              "      <td>77.0</td>\n",
              "      <td>58.0</td>\n",
              "      <td>47.0</td>\n",
              "      <td>59.0</td>\n",
              "      <td>41.0</td>\n",
              "      <td>73.0</td>\n",
              "      <td>13.0</td>\n",
              "      <td>69.0</td>\n",
              "      <td>...</td>\n",
              "      <td>8.1</td>\n",
              "      <td>2.0</td>\n",
              "      <td>0</td>\n",
              "      <td>4</td>\n",
              "      <td>8.0</td>\n",
              "      <td>0.0</td>\n",
              "      <td>1</td>\n",
              "      <td>176.0</td>\n",
              "      <td>0</td>\n",
              "      <td>1</td>\n",
              "    </tr>\n",
              "    <tr>\n",
              "      <th>1</th>\n",
              "      <td>18</td>\n",
              "      <td>5.10</td>\n",
              "      <td>54.0</td>\n",
              "      <td>69.0</td>\n",
              "      <td>70.0</td>\n",
              "      <td>62.0</td>\n",
              "      <td>53.0</td>\n",
              "      <td>43.0</td>\n",
              "      <td>10.0</td>\n",
              "      <td>30.0</td>\n",
              "      <td>...</td>\n",
              "      <td>6.8</td>\n",
              "      <td>3.0</td>\n",
              "      <td>2</td>\n",
              "      <td>3</td>\n",
              "      <td>3.0</td>\n",
              "      <td>0.0</td>\n",
              "      <td>0</td>\n",
              "      <td>148.0</td>\n",
              "      <td>0</td>\n",
              "      <td>1</td>\n",
              "    </tr>\n",
              "    <tr>\n",
              "      <th>2</th>\n",
              "      <td>16</td>\n",
              "      <td>6.20</td>\n",
              "      <td>34.0</td>\n",
              "      <td>43.0</td>\n",
              "      <td>45.0</td>\n",
              "      <td>69.0</td>\n",
              "      <td>49.0</td>\n",
              "      <td>45.0</td>\n",
              "      <td>10.0</td>\n",
              "      <td>57.0</td>\n",
              "      <td>...</td>\n",
              "      <td>6.6</td>\n",
              "      <td>5.0</td>\n",
              "      <td>1</td>\n",
              "      <td>0</td>\n",
              "      <td>2.0</td>\n",
              "      <td>0.0</td>\n",
              "      <td>1</td>\n",
              "      <td>172.0</td>\n",
              "      <td>1</td>\n",
              "      <td>0</td>\n",
              "    </tr>\n",
              "    <tr>\n",
              "      <th>3</th>\n",
              "      <td>27</td>\n",
              "      <td>5.11</td>\n",
              "      <td>79.0</td>\n",
              "      <td>73.0</td>\n",
              "      <td>76.0</td>\n",
              "      <td>86.0</td>\n",
              "      <td>81.0</td>\n",
              "      <td>80.0</td>\n",
              "      <td>3.0</td>\n",
              "      <td>85.0</td>\n",
              "      <td>...</td>\n",
              "      <td>8.6</td>\n",
              "      <td>6.0</td>\n",
              "      <td>2</td>\n",
              "      <td>0</td>\n",
              "      <td>13.0</td>\n",
              "      <td>16.0</td>\n",
              "      <td>1</td>\n",
              "      <td>165.0</td>\n",
              "      <td>0</td>\n",
              "      <td>1</td>\n",
              "    </tr>\n",
              "    <tr>\n",
              "      <th>4</th>\n",
              "      <td>19</td>\n",
              "      <td>5.80</td>\n",
              "      <td>47.0</td>\n",
              "      <td>61.0</td>\n",
              "      <td>74.0</td>\n",
              "      <td>57.0</td>\n",
              "      <td>49.0</td>\n",
              "      <td>35.0</td>\n",
              "      <td>9.0</td>\n",
              "      <td>60.0</td>\n",
              "      <td>...</td>\n",
              "      <td>5.7</td>\n",
              "      <td>5.0</td>\n",
              "      <td>2</td>\n",
              "      <td>0</td>\n",
              "      <td>4.0</td>\n",
              "      <td>0.0</td>\n",
              "      <td>0</td>\n",
              "      <td>158.0</td>\n",
              "      <td>1</td>\n",
              "      <td>0</td>\n",
              "    </tr>\n",
              "  </tbody>\n",
              "</table>\n",
              "<p>5 rows × 28 columns</p>\n",
              "</div>\n",
              "    <div class=\"colab-df-buttons\">\n",
              "\n",
              "  <div class=\"colab-df-container\">\n",
              "    <button class=\"colab-df-convert\" onclick=\"convertToInteractive('df-8cdfdce9-5dde-4027-9d75-faa8ae95b7a5')\"\n",
              "            title=\"Convert this dataframe to an interactive table.\"\n",
              "            style=\"display:none;\">\n",
              "\n",
              "  <svg xmlns=\"http://www.w3.org/2000/svg\" height=\"24px\" viewBox=\"0 -960 960 960\">\n",
              "    <path d=\"M120-120v-720h720v720H120Zm60-500h600v-160H180v160Zm220 220h160v-160H400v160Zm0 220h160v-160H400v160ZM180-400h160v-160H180v160Zm440 0h160v-160H620v160ZM180-180h160v-160H180v160Zm440 0h160v-160H620v160Z\"/>\n",
              "  </svg>\n",
              "    </button>\n",
              "\n",
              "  <style>\n",
              "    .colab-df-container {\n",
              "      display:flex;\n",
              "      gap: 12px;\n",
              "    }\n",
              "\n",
              "    .colab-df-convert {\n",
              "      background-color: #E8F0FE;\n",
              "      border: none;\n",
              "      border-radius: 50%;\n",
              "      cursor: pointer;\n",
              "      display: none;\n",
              "      fill: #1967D2;\n",
              "      height: 32px;\n",
              "      padding: 0 0 0 0;\n",
              "      width: 32px;\n",
              "    }\n",
              "\n",
              "    .colab-df-convert:hover {\n",
              "      background-color: #E2EBFA;\n",
              "      box-shadow: 0px 1px 2px rgba(60, 64, 67, 0.3), 0px 1px 3px 1px rgba(60, 64, 67, 0.15);\n",
              "      fill: #174EA6;\n",
              "    }\n",
              "\n",
              "    .colab-df-buttons div {\n",
              "      margin-bottom: 4px;\n",
              "    }\n",
              "\n",
              "    [theme=dark] .colab-df-convert {\n",
              "      background-color: #3B4455;\n",
              "      fill: #D2E3FC;\n",
              "    }\n",
              "\n",
              "    [theme=dark] .colab-df-convert:hover {\n",
              "      background-color: #434B5C;\n",
              "      box-shadow: 0px 1px 3px 1px rgba(0, 0, 0, 0.15);\n",
              "      filter: drop-shadow(0px 1px 2px rgba(0, 0, 0, 0.3));\n",
              "      fill: #FFFFFF;\n",
              "    }\n",
              "  </style>\n",
              "\n",
              "    <script>\n",
              "      const buttonEl =\n",
              "        document.querySelector('#df-8cdfdce9-5dde-4027-9d75-faa8ae95b7a5 button.colab-df-convert');\n",
              "      buttonEl.style.display =\n",
              "        google.colab.kernel.accessAllowed ? 'block' : 'none';\n",
              "\n",
              "      async function convertToInteractive(key) {\n",
              "        const element = document.querySelector('#df-8cdfdce9-5dde-4027-9d75-faa8ae95b7a5');\n",
              "        const dataTable =\n",
              "          await google.colab.kernel.invokeFunction('convertToInteractive',\n",
              "                                                    [key], {});\n",
              "        if (!dataTable) return;\n",
              "\n",
              "        const docLinkHtml = 'Like what you see? Visit the ' +\n",
              "          '<a target=\"_blank\" href=https://colab.research.google.com/notebooks/data_table.ipynb>data table notebook</a>'\n",
              "          + ' to learn more about interactive tables.';\n",
              "        element.innerHTML = '';\n",
              "        dataTable['output_type'] = 'display_data';\n",
              "        await google.colab.output.renderOutput(dataTable, element);\n",
              "        const docLink = document.createElement('div');\n",
              "        docLink.innerHTML = docLinkHtml;\n",
              "        element.appendChild(docLink);\n",
              "      }\n",
              "    </script>\n",
              "  </div>\n",
              "\n",
              "\n",
              "<div id=\"df-cb3a3eb9-3464-4219-b2bf-0d1147743037\">\n",
              "  <button class=\"colab-df-quickchart\" onclick=\"quickchart('df-cb3a3eb9-3464-4219-b2bf-0d1147743037')\"\n",
              "            title=\"Suggest charts.\"\n",
              "            style=\"display:none;\">\n",
              "\n",
              "<svg xmlns=\"http://www.w3.org/2000/svg\" height=\"24px\"viewBox=\"0 0 24 24\"\n",
              "     width=\"24px\">\n",
              "    <g>\n",
              "        <path d=\"M19 3H5c-1.1 0-2 .9-2 2v14c0 1.1.9 2 2 2h14c1.1 0 2-.9 2-2V5c0-1.1-.9-2-2-2zM9 17H7v-7h2v7zm4 0h-2V7h2v10zm4 0h-2v-4h2v4z\"/>\n",
              "    </g>\n",
              "</svg>\n",
              "  </button>\n",
              "\n",
              "<style>\n",
              "  .colab-df-quickchart {\n",
              "    background-color: #E8F0FE;\n",
              "    border: none;\n",
              "    border-radius: 50%;\n",
              "    cursor: pointer;\n",
              "    display: none;\n",
              "    fill: #1967D2;\n",
              "    height: 32px;\n",
              "    padding: 0 0 0 0;\n",
              "    width: 32px;\n",
              "  }\n",
              "\n",
              "  .colab-df-quickchart:hover {\n",
              "    background-color: #E2EBFA;\n",
              "    box-shadow: 0px 1px 2px rgba(60, 64, 67, 0.3), 0px 1px 3px 1px rgba(60, 64, 67, 0.15);\n",
              "    fill: #174EA6;\n",
              "  }\n",
              "\n",
              "  [theme=dark] .colab-df-quickchart {\n",
              "    background-color: #3B4455;\n",
              "    fill: #D2E3FC;\n",
              "  }\n",
              "\n",
              "  [theme=dark] .colab-df-quickchart:hover {\n",
              "    background-color: #434B5C;\n",
              "    box-shadow: 0px 1px 3px 1px rgba(0, 0, 0, 0.15);\n",
              "    filter: drop-shadow(0px 1px 2px rgba(0, 0, 0, 0.3));\n",
              "    fill: #FFFFFF;\n",
              "  }\n",
              "</style>\n",
              "\n",
              "  <script>\n",
              "    async function quickchart(key) {\n",
              "      const charts = await google.colab.kernel.invokeFunction(\n",
              "          'suggestCharts', [key], {});\n",
              "    }\n",
              "    (() => {\n",
              "      let quickchartButtonEl =\n",
              "        document.querySelector('#df-cb3a3eb9-3464-4219-b2bf-0d1147743037 button');\n",
              "      quickchartButtonEl.style.display =\n",
              "        google.colab.kernel.accessAllowed ? 'block' : 'none';\n",
              "    })();\n",
              "  </script>\n",
              "</div>\n",
              "    </div>\n",
              "  </div>\n"
            ],
            "text/plain": [
              "   age  height  ball_controlling_skills  body_reflexes  body_balance  \\\n",
              "0   23    6.20                     77.0           58.0          47.0   \n",
              "1   18    5.10                     54.0           69.0          70.0   \n",
              "2   16    6.20                     34.0           43.0          45.0   \n",
              "3   27    5.11                     79.0           73.0          76.0   \n",
              "4   19    5.80                     47.0           61.0          74.0   \n",
              "\n",
              "   jumping_skills  penalties_conversion_rate  mental_strength  \\\n",
              "0            59.0                       41.0             73.0   \n",
              "1            62.0                       53.0             43.0   \n",
              "2            69.0                       49.0             45.0   \n",
              "3            86.0                       81.0             80.0   \n",
              "4            57.0                       49.0             35.0   \n",
              "\n",
              "   goalkeeping_skills  defending_skills  ...  fitness_rating  trophies_won  \\\n",
              "0                13.0              69.0  ...             8.1           2.0   \n",
              "1                10.0              30.0  ...             6.8           3.0   \n",
              "2                10.0              57.0  ...             6.6           5.0   \n",
              "3                 3.0              85.0  ...             8.6           6.0   \n",
              "4                 9.0              60.0  ...             5.7           5.0   \n",
              "\n",
              "   dedication_level  coaching  years_of_experience  no_of_disqualifications  \\\n",
              "0                 0         4                  8.0                      0.0   \n",
              "1                 2         3                  3.0                      0.0   \n",
              "2                 1         0                  2.0                      0.0   \n",
              "3                 2         0                 13.0                     16.0   \n",
              "4                 2         0                  4.0                      0.0   \n",
              "\n",
              "   selection  weight(lbs)  gender_F  gender_M  \n",
              "0          1        176.0         0         1  \n",
              "1          0        148.0         0         1  \n",
              "2          1        172.0         1         0  \n",
              "3          1        165.0         0         1  \n",
              "4          0        158.0         1         0  \n",
              "\n",
              "[5 rows x 28 columns]"
            ]
          },
          "execution_count": 110,
          "metadata": {},
          "output_type": "execute_result"
        }
      ],
      "source": [
        "dataf.head()"
      ]
    },
    {
      "cell_type": "markdown",
      "metadata": {
        "id": "WP_WEbkJ7h6m"
      },
      "source": [
        "Label encoded the 'coaching','dedication_level','strong_foot' columns and drop ''country','player_id','name' because of high cardinality and one hot encoded the 'gender' column"
      ]
    },
    {
      "cell_type": "markdown",
      "metadata": {
        "id": "-XW1aq6i7bCR"
      },
      "source": [
        "###Scaling"
      ]
    },
    {
      "cell_type": "code",
      "execution_count": null,
      "metadata": {
        "id": "H4cqLf0s78XC"
      },
      "outputs": [],
      "source": [
        "from sklearn.preprocessing import MinMaxScaler\n",
        "scaler = MinMaxScaler()"
      ]
    },
    {
      "cell_type": "code",
      "execution_count": null,
      "metadata": {
        "colab": {
          "base_uri": "https://localhost:8080/"
        },
        "id": "ERkFm6vx8Iha",
        "outputId": "dea5234c-dbc7-4221-fdfc-a5a44d7592a2"
      },
      "outputs": [
        {
          "data": {
            "text/plain": [
              "Index(['age', 'gender', 'height', 'ball_controlling_skills', 'body_reflexes',\n",
              "       'body_balance', 'jumping_skills', 'penalties_conversion_rate',\n",
              "       'mental_strength', 'goalkeeping_skills', 'defending_skills',\n",
              "       'passing_skills', 'dribbling_skills', 'shot_accuracy',\n",
              "       'body_strength_stamina', 'max_running_speed', 'strong_foot',\n",
              "       'behaviour_rating', 'matches_played', 'fitness_rating', 'trophies_won',\n",
              "       'dedication_level', 'coaching', 'years_of_experience',\n",
              "       'no_of_disqualifications', 'selection', 'weight(lbs)'],\n",
              "      dtype='object')"
            ]
          },
          "execution_count": 113,
          "metadata": {},
          "output_type": "execute_result"
        }
      ],
      "source": [
        "data.columns"
      ]
    },
    {
      "cell_type": "code",
      "execution_count": null,
      "metadata": {
        "id": "YL5yV2Pe8E_a"
      },
      "outputs": [],
      "source": [
        "col_scale = ['height', 'ball_controlling_skills', 'body_reflexes',\n",
        "       'body_balance', 'jumping_skills', 'penalties_conversion_rate',\n",
        "       'mental_strength', 'goalkeeping_skills', 'defending_skills',\n",
        "       'passing_skills', 'dribbling_skills', 'shot_accuracy',\n",
        "       'body_strength_stamina', 'max_running_speed','body_strength_stamina', 'max_running_speed',\n",
        "       'behaviour_rating', 'matches_played', 'fitness_rating', 'trophies_won','years_of_experience',\n",
        "       'no_of_disqualifications', 'selection', 'weight(lbs)']"
      ]
    },
    {
      "cell_type": "code",
      "execution_count": null,
      "metadata": {
        "id": "LQfZ6iov8a2V"
      },
      "outputs": [],
      "source": [
        "dataf[col_scale] = scaler.fit_transform(dataf[col_scale])"
      ]
    },
    {
      "cell_type": "code",
      "execution_count": null,
      "metadata": {
        "colab": {
          "base_uri": "https://localhost:8080/",
          "height": 255
        },
        "id": "5aA-5oPM8pDU",
        "outputId": "d7c2c1e2-4586-4509-f822-eba04ba381ee"
      },
      "outputs": [
        {
          "data": {
            "text/html": [
              "\n",
              "  <div id=\"df-5dfd0f08-1dd9-41f2-88b4-d96ffe461447\" class=\"colab-df-container\">\n",
              "    <div>\n",
              "<style scoped>\n",
              "    .dataframe tbody tr th:only-of-type {\n",
              "        vertical-align: middle;\n",
              "    }\n",
              "\n",
              "    .dataframe tbody tr th {\n",
              "        vertical-align: top;\n",
              "    }\n",
              "\n",
              "    .dataframe thead th {\n",
              "        text-align: right;\n",
              "    }\n",
              "</style>\n",
              "<table border=\"1\" class=\"dataframe\">\n",
              "  <thead>\n",
              "    <tr style=\"text-align: right;\">\n",
              "      <th></th>\n",
              "      <th>age</th>\n",
              "      <th>height</th>\n",
              "      <th>ball_controlling_skills</th>\n",
              "      <th>body_reflexes</th>\n",
              "      <th>body_balance</th>\n",
              "      <th>jumping_skills</th>\n",
              "      <th>penalties_conversion_rate</th>\n",
              "      <th>mental_strength</th>\n",
              "      <th>goalkeeping_skills</th>\n",
              "      <th>defending_skills</th>\n",
              "      <th>...</th>\n",
              "      <th>fitness_rating</th>\n",
              "      <th>trophies_won</th>\n",
              "      <th>dedication_level</th>\n",
              "      <th>coaching</th>\n",
              "      <th>years_of_experience</th>\n",
              "      <th>no_of_disqualifications</th>\n",
              "      <th>selection</th>\n",
              "      <th>weight(lbs)</th>\n",
              "      <th>gender_F</th>\n",
              "      <th>gender_M</th>\n",
              "    </tr>\n",
              "  </thead>\n",
              "  <tbody>\n",
              "    <tr>\n",
              "      <th>0</th>\n",
              "      <td>23</td>\n",
              "      <td>0.048205</td>\n",
              "      <td>0.800000</td>\n",
              "      <td>0.547619</td>\n",
              "      <td>0.431818</td>\n",
              "      <td>0.555556</td>\n",
              "      <td>0.400000</td>\n",
              "      <td>0.771084</td>\n",
              "      <td>0.137931</td>\n",
              "      <td>0.779221</td>\n",
              "      <td>...</td>\n",
              "      <td>0.788889</td>\n",
              "      <td>0.222222</td>\n",
              "      <td>0</td>\n",
              "      <td>4</td>\n",
              "      <td>0.28</td>\n",
              "      <td>0.975586</td>\n",
              "      <td>1.0</td>\n",
              "      <td>0.496241</td>\n",
              "      <td>0</td>\n",
              "      <td>1</td>\n",
              "    </tr>\n",
              "    <tr>\n",
              "      <th>1</th>\n",
              "      <td>18</td>\n",
              "      <td>0.036923</td>\n",
              "      <td>0.544444</td>\n",
              "      <td>0.678571</td>\n",
              "      <td>0.693182</td>\n",
              "      <td>0.592593</td>\n",
              "      <td>0.541176</td>\n",
              "      <td>0.409639</td>\n",
              "      <td>0.103448</td>\n",
              "      <td>0.272727</td>\n",
              "      <td>...</td>\n",
              "      <td>0.644444</td>\n",
              "      <td>0.333333</td>\n",
              "      <td>2</td>\n",
              "      <td>3</td>\n",
              "      <td>0.08</td>\n",
              "      <td>0.975586</td>\n",
              "      <td>0.0</td>\n",
              "      <td>0.285714</td>\n",
              "      <td>0</td>\n",
              "      <td>1</td>\n",
              "    </tr>\n",
              "    <tr>\n",
              "      <th>2</th>\n",
              "      <td>16</td>\n",
              "      <td>0.048205</td>\n",
              "      <td>0.322222</td>\n",
              "      <td>0.369048</td>\n",
              "      <td>0.409091</td>\n",
              "      <td>0.679012</td>\n",
              "      <td>0.494118</td>\n",
              "      <td>0.433735</td>\n",
              "      <td>0.103448</td>\n",
              "      <td>0.623377</td>\n",
              "      <td>...</td>\n",
              "      <td>0.622222</td>\n",
              "      <td>0.555556</td>\n",
              "      <td>1</td>\n",
              "      <td>0</td>\n",
              "      <td>0.04</td>\n",
              "      <td>0.975586</td>\n",
              "      <td>1.0</td>\n",
              "      <td>0.466165</td>\n",
              "      <td>1</td>\n",
              "      <td>0</td>\n",
              "    </tr>\n",
              "    <tr>\n",
              "      <th>3</th>\n",
              "      <td>27</td>\n",
              "      <td>0.037026</td>\n",
              "      <td>0.822222</td>\n",
              "      <td>0.726190</td>\n",
              "      <td>0.761364</td>\n",
              "      <td>0.888889</td>\n",
              "      <td>0.870588</td>\n",
              "      <td>0.855422</td>\n",
              "      <td>0.022989</td>\n",
              "      <td>0.987013</td>\n",
              "      <td>...</td>\n",
              "      <td>0.844444</td>\n",
              "      <td>0.666667</td>\n",
              "      <td>2</td>\n",
              "      <td>0</td>\n",
              "      <td>0.48</td>\n",
              "      <td>0.991211</td>\n",
              "      <td>1.0</td>\n",
              "      <td>0.413534</td>\n",
              "      <td>0</td>\n",
              "      <td>1</td>\n",
              "    </tr>\n",
              "    <tr>\n",
              "      <th>4</th>\n",
              "      <td>19</td>\n",
              "      <td>0.044103</td>\n",
              "      <td>0.466667</td>\n",
              "      <td>0.583333</td>\n",
              "      <td>0.738636</td>\n",
              "      <td>0.530864</td>\n",
              "      <td>0.494118</td>\n",
              "      <td>0.313253</td>\n",
              "      <td>0.091954</td>\n",
              "      <td>0.662338</td>\n",
              "      <td>...</td>\n",
              "      <td>0.522222</td>\n",
              "      <td>0.555556</td>\n",
              "      <td>2</td>\n",
              "      <td>0</td>\n",
              "      <td>0.12</td>\n",
              "      <td>0.975586</td>\n",
              "      <td>0.0</td>\n",
              "      <td>0.360902</td>\n",
              "      <td>1</td>\n",
              "      <td>0</td>\n",
              "    </tr>\n",
              "  </tbody>\n",
              "</table>\n",
              "<p>5 rows × 28 columns</p>\n",
              "</div>\n",
              "    <div class=\"colab-df-buttons\">\n",
              "\n",
              "  <div class=\"colab-df-container\">\n",
              "    <button class=\"colab-df-convert\" onclick=\"convertToInteractive('df-5dfd0f08-1dd9-41f2-88b4-d96ffe461447')\"\n",
              "            title=\"Convert this dataframe to an interactive table.\"\n",
              "            style=\"display:none;\">\n",
              "\n",
              "  <svg xmlns=\"http://www.w3.org/2000/svg\" height=\"24px\" viewBox=\"0 -960 960 960\">\n",
              "    <path d=\"M120-120v-720h720v720H120Zm60-500h600v-160H180v160Zm220 220h160v-160H400v160Zm0 220h160v-160H400v160ZM180-400h160v-160H180v160Zm440 0h160v-160H620v160ZM180-180h160v-160H180v160Zm440 0h160v-160H620v160Z\"/>\n",
              "  </svg>\n",
              "    </button>\n",
              "\n",
              "  <style>\n",
              "    .colab-df-container {\n",
              "      display:flex;\n",
              "      gap: 12px;\n",
              "    }\n",
              "\n",
              "    .colab-df-convert {\n",
              "      background-color: #E8F0FE;\n",
              "      border: none;\n",
              "      border-radius: 50%;\n",
              "      cursor: pointer;\n",
              "      display: none;\n",
              "      fill: #1967D2;\n",
              "      height: 32px;\n",
              "      padding: 0 0 0 0;\n",
              "      width: 32px;\n",
              "    }\n",
              "\n",
              "    .colab-df-convert:hover {\n",
              "      background-color: #E2EBFA;\n",
              "      box-shadow: 0px 1px 2px rgba(60, 64, 67, 0.3), 0px 1px 3px 1px rgba(60, 64, 67, 0.15);\n",
              "      fill: #174EA6;\n",
              "    }\n",
              "\n",
              "    .colab-df-buttons div {\n",
              "      margin-bottom: 4px;\n",
              "    }\n",
              "\n",
              "    [theme=dark] .colab-df-convert {\n",
              "      background-color: #3B4455;\n",
              "      fill: #D2E3FC;\n",
              "    }\n",
              "\n",
              "    [theme=dark] .colab-df-convert:hover {\n",
              "      background-color: #434B5C;\n",
              "      box-shadow: 0px 1px 3px 1px rgba(0, 0, 0, 0.15);\n",
              "      filter: drop-shadow(0px 1px 2px rgba(0, 0, 0, 0.3));\n",
              "      fill: #FFFFFF;\n",
              "    }\n",
              "  </style>\n",
              "\n",
              "    <script>\n",
              "      const buttonEl =\n",
              "        document.querySelector('#df-5dfd0f08-1dd9-41f2-88b4-d96ffe461447 button.colab-df-convert');\n",
              "      buttonEl.style.display =\n",
              "        google.colab.kernel.accessAllowed ? 'block' : 'none';\n",
              "\n",
              "      async function convertToInteractive(key) {\n",
              "        const element = document.querySelector('#df-5dfd0f08-1dd9-41f2-88b4-d96ffe461447');\n",
              "        const dataTable =\n",
              "          await google.colab.kernel.invokeFunction('convertToInteractive',\n",
              "                                                    [key], {});\n",
              "        if (!dataTable) return;\n",
              "\n",
              "        const docLinkHtml = 'Like what you see? Visit the ' +\n",
              "          '<a target=\"_blank\" href=https://colab.research.google.com/notebooks/data_table.ipynb>data table notebook</a>'\n",
              "          + ' to learn more about interactive tables.';\n",
              "        element.innerHTML = '';\n",
              "        dataTable['output_type'] = 'display_data';\n",
              "        await google.colab.output.renderOutput(dataTable, element);\n",
              "        const docLink = document.createElement('div');\n",
              "        docLink.innerHTML = docLinkHtml;\n",
              "        element.appendChild(docLink);\n",
              "      }\n",
              "    </script>\n",
              "  </div>\n",
              "\n",
              "\n",
              "<div id=\"df-58bd5395-f86e-4204-b500-915f94bd41db\">\n",
              "  <button class=\"colab-df-quickchart\" onclick=\"quickchart('df-58bd5395-f86e-4204-b500-915f94bd41db')\"\n",
              "            title=\"Suggest charts.\"\n",
              "            style=\"display:none;\">\n",
              "\n",
              "<svg xmlns=\"http://www.w3.org/2000/svg\" height=\"24px\"viewBox=\"0 0 24 24\"\n",
              "     width=\"24px\">\n",
              "    <g>\n",
              "        <path d=\"M19 3H5c-1.1 0-2 .9-2 2v14c0 1.1.9 2 2 2h14c1.1 0 2-.9 2-2V5c0-1.1-.9-2-2-2zM9 17H7v-7h2v7zm4 0h-2V7h2v10zm4 0h-2v-4h2v4z\"/>\n",
              "    </g>\n",
              "</svg>\n",
              "  </button>\n",
              "\n",
              "<style>\n",
              "  .colab-df-quickchart {\n",
              "    background-color: #E8F0FE;\n",
              "    border: none;\n",
              "    border-radius: 50%;\n",
              "    cursor: pointer;\n",
              "    display: none;\n",
              "    fill: #1967D2;\n",
              "    height: 32px;\n",
              "    padding: 0 0 0 0;\n",
              "    width: 32px;\n",
              "  }\n",
              "\n",
              "  .colab-df-quickchart:hover {\n",
              "    background-color: #E2EBFA;\n",
              "    box-shadow: 0px 1px 2px rgba(60, 64, 67, 0.3), 0px 1px 3px 1px rgba(60, 64, 67, 0.15);\n",
              "    fill: #174EA6;\n",
              "  }\n",
              "\n",
              "  [theme=dark] .colab-df-quickchart {\n",
              "    background-color: #3B4455;\n",
              "    fill: #D2E3FC;\n",
              "  }\n",
              "\n",
              "  [theme=dark] .colab-df-quickchart:hover {\n",
              "    background-color: #434B5C;\n",
              "    box-shadow: 0px 1px 3px 1px rgba(0, 0, 0, 0.15);\n",
              "    filter: drop-shadow(0px 1px 2px rgba(0, 0, 0, 0.3));\n",
              "    fill: #FFFFFF;\n",
              "  }\n",
              "</style>\n",
              "\n",
              "  <script>\n",
              "    async function quickchart(key) {\n",
              "      const charts = await google.colab.kernel.invokeFunction(\n",
              "          'suggestCharts', [key], {});\n",
              "    }\n",
              "    (() => {\n",
              "      let quickchartButtonEl =\n",
              "        document.querySelector('#df-58bd5395-f86e-4204-b500-915f94bd41db button');\n",
              "      quickchartButtonEl.style.display =\n",
              "        google.colab.kernel.accessAllowed ? 'block' : 'none';\n",
              "    })();\n",
              "  </script>\n",
              "</div>\n",
              "    </div>\n",
              "  </div>\n"
            ],
            "text/plain": [
              "   age    height  ball_controlling_skills  body_reflexes  body_balance  \\\n",
              "0   23  0.048205                 0.800000       0.547619      0.431818   \n",
              "1   18  0.036923                 0.544444       0.678571      0.693182   \n",
              "2   16  0.048205                 0.322222       0.369048      0.409091   \n",
              "3   27  0.037026                 0.822222       0.726190      0.761364   \n",
              "4   19  0.044103                 0.466667       0.583333      0.738636   \n",
              "\n",
              "   jumping_skills  penalties_conversion_rate  mental_strength  \\\n",
              "0        0.555556                   0.400000         0.771084   \n",
              "1        0.592593                   0.541176         0.409639   \n",
              "2        0.679012                   0.494118         0.433735   \n",
              "3        0.888889                   0.870588         0.855422   \n",
              "4        0.530864                   0.494118         0.313253   \n",
              "\n",
              "   goalkeeping_skills  defending_skills  ...  fitness_rating  trophies_won  \\\n",
              "0            0.137931          0.779221  ...        0.788889      0.222222   \n",
              "1            0.103448          0.272727  ...        0.644444      0.333333   \n",
              "2            0.103448          0.623377  ...        0.622222      0.555556   \n",
              "3            0.022989          0.987013  ...        0.844444      0.666667   \n",
              "4            0.091954          0.662338  ...        0.522222      0.555556   \n",
              "\n",
              "   dedication_level  coaching  years_of_experience  no_of_disqualifications  \\\n",
              "0                 0         4                 0.28                 0.975586   \n",
              "1                 2         3                 0.08                 0.975586   \n",
              "2                 1         0                 0.04                 0.975586   \n",
              "3                 2         0                 0.48                 0.991211   \n",
              "4                 2         0                 0.12                 0.975586   \n",
              "\n",
              "   selection  weight(lbs)  gender_F  gender_M  \n",
              "0        1.0     0.496241         0         1  \n",
              "1        0.0     0.285714         0         1  \n",
              "2        1.0     0.466165         1         0  \n",
              "3        1.0     0.413534         0         1  \n",
              "4        0.0     0.360902         1         0  \n",
              "\n",
              "[5 rows x 28 columns]"
            ]
          },
          "execution_count": 121,
          "metadata": {},
          "output_type": "execute_result"
        }
      ],
      "source": [
        "dataf.head()"
      ]
    },
    {
      "cell_type": "markdown",
      "metadata": {
        "id": "YQhhwuas9FZI"
      },
      "source": [
        "Did minmax scaling on all numerical column"
      ]
    },
    {
      "cell_type": "markdown",
      "metadata": {
        "id": "3Nj_B4KR8uwU"
      },
      "source": [
        "###Modelling"
      ]
    },
    {
      "cell_type": "code",
      "execution_count": null,
      "metadata": {
        "id": "LTWpFDzu9O7j"
      },
      "outputs": [],
      "source": [
        "from sklearn.model_selection import train_test_split\n",
        "from sklearn.metrics import mean_squared_error\n",
        "from sklearn.metrics import accuracy_score"
      ]
    },
    {
      "cell_type": "code",
      "execution_count": null,
      "metadata": {
        "id": "ZTVbEKvl9WvI"
      },
      "outputs": [],
      "source": [
        "X = dataf.drop('selection', axis=1)\n",
        "y = dataf['selection']"
      ]
    },
    {
      "cell_type": "code",
      "execution_count": null,
      "metadata": {
        "id": "tNF2wgK69go6"
      },
      "outputs": [],
      "source": [
        "X_train, X_test, y_train, y_test = train_test_split(X, y, test_size=0.2, random_state=42)"
      ]
    },
    {
      "cell_type": "markdown",
      "metadata": {
        "id": "xIdwa2R_-998"
      },
      "source": [
        "###XGboost Regression Method"
      ]
    },
    {
      "cell_type": "code",
      "execution_count": null,
      "metadata": {
        "id": "rtHf3NSr9k19"
      },
      "outputs": [],
      "source": [
        "import xgboost as xgb\n",
        "model = xgb.XGBClassifier()"
      ]
    },
    {
      "cell_type": "code",
      "execution_count": null,
      "metadata": {
        "colab": {
          "base_uri": "https://localhost:8080/",
          "height": 248
        },
        "id": "vExpXlHv9nuh",
        "outputId": "f14d5c42-7a40-4261-afbb-d0353f379ec0"
      },
      "outputs": [
        {
          "data": {
            "text/html": [
              "<style>#sk-container-id-1 {color: black;background-color: white;}#sk-container-id-1 pre{padding: 0;}#sk-container-id-1 div.sk-toggleable {background-color: white;}#sk-container-id-1 label.sk-toggleable__label {cursor: pointer;display: block;width: 100%;margin-bottom: 0;padding: 0.3em;box-sizing: border-box;text-align: center;}#sk-container-id-1 label.sk-toggleable__label-arrow:before {content: \"▸\";float: left;margin-right: 0.25em;color: #696969;}#sk-container-id-1 label.sk-toggleable__label-arrow:hover:before {color: black;}#sk-container-id-1 div.sk-estimator:hover label.sk-toggleable__label-arrow:before {color: black;}#sk-container-id-1 div.sk-toggleable__content {max-height: 0;max-width: 0;overflow: hidden;text-align: left;background-color: #f0f8ff;}#sk-container-id-1 div.sk-toggleable__content pre {margin: 0.2em;color: black;border-radius: 0.25em;background-color: #f0f8ff;}#sk-container-id-1 input.sk-toggleable__control:checked~div.sk-toggleable__content {max-height: 200px;max-width: 100%;overflow: auto;}#sk-container-id-1 input.sk-toggleable__control:checked~label.sk-toggleable__label-arrow:before {content: \"▾\";}#sk-container-id-1 div.sk-estimator input.sk-toggleable__control:checked~label.sk-toggleable__label {background-color: #d4ebff;}#sk-container-id-1 div.sk-label input.sk-toggleable__control:checked~label.sk-toggleable__label {background-color: #d4ebff;}#sk-container-id-1 input.sk-hidden--visually {border: 0;clip: rect(1px 1px 1px 1px);clip: rect(1px, 1px, 1px, 1px);height: 1px;margin: -1px;overflow: hidden;padding: 0;position: absolute;width: 1px;}#sk-container-id-1 div.sk-estimator {font-family: monospace;background-color: #f0f8ff;border: 1px dotted black;border-radius: 0.25em;box-sizing: border-box;margin-bottom: 0.5em;}#sk-container-id-1 div.sk-estimator:hover {background-color: #d4ebff;}#sk-container-id-1 div.sk-parallel-item::after {content: \"\";width: 100%;border-bottom: 1px solid gray;flex-grow: 1;}#sk-container-id-1 div.sk-label:hover label.sk-toggleable__label {background-color: #d4ebff;}#sk-container-id-1 div.sk-serial::before {content: \"\";position: absolute;border-left: 1px solid gray;box-sizing: border-box;top: 0;bottom: 0;left: 50%;z-index: 0;}#sk-container-id-1 div.sk-serial {display: flex;flex-direction: column;align-items: center;background-color: white;padding-right: 0.2em;padding-left: 0.2em;position: relative;}#sk-container-id-1 div.sk-item {position: relative;z-index: 1;}#sk-container-id-1 div.sk-parallel {display: flex;align-items: stretch;justify-content: center;background-color: white;position: relative;}#sk-container-id-1 div.sk-item::before, #sk-container-id-1 div.sk-parallel-item::before {content: \"\";position: absolute;border-left: 1px solid gray;box-sizing: border-box;top: 0;bottom: 0;left: 50%;z-index: -1;}#sk-container-id-1 div.sk-parallel-item {display: flex;flex-direction: column;z-index: 1;position: relative;background-color: white;}#sk-container-id-1 div.sk-parallel-item:first-child::after {align-self: flex-end;width: 50%;}#sk-container-id-1 div.sk-parallel-item:last-child::after {align-self: flex-start;width: 50%;}#sk-container-id-1 div.sk-parallel-item:only-child::after {width: 0;}#sk-container-id-1 div.sk-dashed-wrapped {border: 1px dashed gray;margin: 0 0.4em 0.5em 0.4em;box-sizing: border-box;padding-bottom: 0.4em;background-color: white;}#sk-container-id-1 div.sk-label label {font-family: monospace;font-weight: bold;display: inline-block;line-height: 1.2em;}#sk-container-id-1 div.sk-label-container {text-align: center;}#sk-container-id-1 div.sk-container {/* jupyter's `normalize.less` sets `[hidden] { display: none; }` but bootstrap.min.css set `[hidden] { display: none !important; }` so we also need the `!important` here to be able to override the default hidden behavior on the sphinx rendered scikit-learn.org. See: https://github.com/scikit-learn/scikit-learn/issues/21755 */display: inline-block !important;position: relative;}#sk-container-id-1 div.sk-text-repr-fallback {display: none;}</style><div id=\"sk-container-id-1\" class=\"sk-top-container\"><div class=\"sk-text-repr-fallback\"><pre>XGBClassifier(base_score=None, booster=None, callbacks=None,\n",
              "              colsample_bylevel=None, colsample_bynode=None,\n",
              "              colsample_bytree=None, early_stopping_rounds=None,\n",
              "              enable_categorical=False, eval_metric=None, feature_types=None,\n",
              "              gamma=None, gpu_id=None, grow_policy=None, importance_type=None,\n",
              "              interaction_constraints=None, learning_rate=None, max_bin=None,\n",
              "              max_cat_threshold=None, max_cat_to_onehot=None,\n",
              "              max_delta_step=None, max_depth=None, max_leaves=None,\n",
              "              min_child_weight=None, missing=nan, monotone_constraints=None,\n",
              "              n_estimators=100, n_jobs=None, num_parallel_tree=None,\n",
              "              predictor=None, random_state=None, ...)</pre><b>In a Jupyter environment, please rerun this cell to show the HTML representation or trust the notebook. <br />On GitHub, the HTML representation is unable to render, please try loading this page with nbviewer.org.</b></div><div class=\"sk-container\" hidden><div class=\"sk-item\"><div class=\"sk-estimator sk-toggleable\"><input class=\"sk-toggleable__control sk-hidden--visually\" id=\"sk-estimator-id-1\" type=\"checkbox\" checked><label for=\"sk-estimator-id-1\" class=\"sk-toggleable__label sk-toggleable__label-arrow\">XGBClassifier</label><div class=\"sk-toggleable__content\"><pre>XGBClassifier(base_score=None, booster=None, callbacks=None,\n",
              "              colsample_bylevel=None, colsample_bynode=None,\n",
              "              colsample_bytree=None, early_stopping_rounds=None,\n",
              "              enable_categorical=False, eval_metric=None, feature_types=None,\n",
              "              gamma=None, gpu_id=None, grow_policy=None, importance_type=None,\n",
              "              interaction_constraints=None, learning_rate=None, max_bin=None,\n",
              "              max_cat_threshold=None, max_cat_to_onehot=None,\n",
              "              max_delta_step=None, max_depth=None, max_leaves=None,\n",
              "              min_child_weight=None, missing=nan, monotone_constraints=None,\n",
              "              n_estimators=100, n_jobs=None, num_parallel_tree=None,\n",
              "              predictor=None, random_state=None, ...)</pre></div></div></div></div></div>"
            ],
            "text/plain": [
              "XGBClassifier(base_score=None, booster=None, callbacks=None,\n",
              "              colsample_bylevel=None, colsample_bynode=None,\n",
              "              colsample_bytree=None, early_stopping_rounds=None,\n",
              "              enable_categorical=False, eval_metric=None, feature_types=None,\n",
              "              gamma=None, gpu_id=None, grow_policy=None, importance_type=None,\n",
              "              interaction_constraints=None, learning_rate=None, max_bin=None,\n",
              "              max_cat_threshold=None, max_cat_to_onehot=None,\n",
              "              max_delta_step=None, max_depth=None, max_leaves=None,\n",
              "              min_child_weight=None, missing=nan, monotone_constraints=None,\n",
              "              n_estimators=100, n_jobs=None, num_parallel_tree=None,\n",
              "              predictor=None, random_state=None, ...)"
            ]
          },
          "execution_count": 127,
          "metadata": {},
          "output_type": "execute_result"
        }
      ],
      "source": [
        "model.fit(X_train, y_train)"
      ]
    },
    {
      "cell_type": "code",
      "execution_count": null,
      "metadata": {
        "colab": {
          "base_uri": "https://localhost:8080/"
        },
        "id": "qNqYAdOX9y_u",
        "outputId": "e245f8c1-21de-41d5-feac-2cd04a02523e"
      },
      "outputs": [
        {
          "name": "stdout",
          "output_type": "stream",
          "text": [
            "Accuracy: 0.86\n"
          ]
        }
      ],
      "source": [
        "# Make predictions on the test data\n",
        "y_pred = model.predict(X_test)\n",
        "\n",
        "# Evaluate the model's accuracy\n",
        "accuracy = accuracy_score(y_test, y_pred)\n",
        "print(f\"Accuracy: {accuracy:.2f}\")"
      ]
    },
    {
      "cell_type": "markdown",
      "metadata": {
        "id": "XmHrkjgr_385"
      },
      "source": [
        "The model have 0.86 accuracy so Xgboost regressor is the best model"
      ]
    }
  ],
  "metadata": {
    "colab": {
      "provenance": []
    },
    "kernelspec": {
      "display_name": "Python 3.10.12 64-bit",
      "language": "python",
      "name": "python3"
    },
    "language_info": {
      "codemirror_mode": {
        "name": "ipython",
        "version": 3
      },
      "file_extension": ".py",
      "mimetype": "text/x-python",
      "name": "python",
      "nbconvert_exporter": "python",
      "pygments_lexer": "ipython3",
      "version": "3.10.12"
    },
    "vscode": {
      "interpreter": {
        "hash": "916dbcbb3f70747c44a77c7bcd40155683ae19c65e1c03b4aa3499c5328201f1"
      }
    }
  },
  "nbformat": 4,
  "nbformat_minor": 0
}
